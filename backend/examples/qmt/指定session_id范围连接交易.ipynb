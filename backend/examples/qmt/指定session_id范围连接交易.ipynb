{
 "cells": [
  {
   "cell_type": "code",
   "id": "initial_id",
   "metadata": {
    "collapsed": true,
    "ExecuteTime": {
     "end_time": "2025-05-08T13:38:05.499618Z",
     "start_time": "2025-05-08T13:38:00.589440Z"
    }
   },
   "source": [
    "#coding:utf-8\n",
    "\n",
    "def connect(path, session):\n",
    "    from xtquant import xttrader\n",
    "\n",
    "    trader = xttrader.XtQuantTrader(path, session)\n",
    "    trader.start()\n",
    "\n",
    "    connect_result = trader.connect()\n",
    "    return trader if connect_result == 0 else None\n",
    "\n",
    "\n",
    "def try_connect_range():\n",
    "    # 随机 session_id 的待尝试列表\n",
    "    # 100以内的id保留\n",
    "    ids = [i for i in range(100, 200)]\n",
    "\n",
    "    import random\n",
    "    random.shuffle(ids)\n",
    "\n",
    "    # 要连接到的对接路径\n",
    "    path = r'D:\\gjzqqmt\\userdata_mini'\n",
    "\n",
    "    # 遍历id列表尝试连接\n",
    "    for session_id in ids:\n",
    "        print(f'尝试id:{session_id}')\n",
    "        trader = connect(path, session_id)\n",
    "\n",
    "        if trader:\n",
    "            print('连接成功')\n",
    "            return trader\n",
    "        else:\n",
    "            print('连接失败，继续尝试下一个id')\n",
    "            continue\n",
    "\n",
    "    # 所有id都尝试后仍失败，放弃连接\n",
    "    raise Exception('XtQuantTrader 连接失败,请重试')\n",
    "\n",
    "\n",
    "try:\n",
    "    trader = try_connect_range()\n",
    "except Exception as e:\n",
    "    import traceback\n",
    "    print(e, traceback.format_exc())\n",
    "\n",
    "\n",
    "import time\n",
    "while True:\n",
    "    print('.', end = '')\n",
    "    time.sleep(2)\n",
    "\n",
    "\n",
    "\n",
    "\n"
   ],
   "outputs": [
    {
     "name": "stdout",
     "output_type": "stream",
     "text": [
      "尝试id:150\n",
      "连接成功\n",
      ".."
     ]
    },
    {
     "ename": "KeyboardInterrupt",
     "evalue": "",
     "output_type": "error",
     "traceback": [
      "\u001B[31m---------------------------------------------------------------------------\u001B[39m",
      "\u001B[31mKeyboardInterrupt\u001B[39m                         Traceback (most recent call last)",
      "\u001B[36mCell\u001B[39m\u001B[36m \u001B[39m\u001B[32mIn[1]\u001B[39m\u001B[32m, line 50\u001B[39m\n\u001B[32m     48\u001B[39m \u001B[38;5;28;01mwhile\u001B[39;00m \u001B[38;5;28;01mTrue\u001B[39;00m:\n\u001B[32m     49\u001B[39m     \u001B[38;5;28mprint\u001B[39m(\u001B[33m'\u001B[39m\u001B[33m.\u001B[39m\u001B[33m'\u001B[39m, end = \u001B[33m'\u001B[39m\u001B[33m'\u001B[39m)\n\u001B[32m---> \u001B[39m\u001B[32m50\u001B[39m     \u001B[43mtime\u001B[49m\u001B[43m.\u001B[49m\u001B[43msleep\u001B[49m\u001B[43m(\u001B[49m\u001B[32;43m2\u001B[39;49m\u001B[43m)\u001B[49m\n",
      "\u001B[31mKeyboardInterrupt\u001B[39m: "
     ]
    }
   ],
   "execution_count": 1
  }
 ],
 "metadata": {
  "kernelspec": {
   "display_name": "Python 3",
   "language": "python",
   "name": "python3"
  },
  "language_info": {
   "codemirror_mode": {
    "name": "ipython",
    "version": 2
   },
   "file_extension": ".py",
   "mimetype": "text/x-python",
   "name": "python",
   "nbconvert_exporter": "python",
   "pygments_lexer": "ipython2",
   "version": "2.7.6"
  }
 },
 "nbformat": 4,
 "nbformat_minor": 5
}
