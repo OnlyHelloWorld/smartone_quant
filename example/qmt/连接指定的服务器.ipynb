{
 "cells": [
  {
   "metadata": {},
   "cell_type": "markdown",
   "source": "# 券商端不支持此功能",
   "id": "6413a9cd741e8fef"
  },
  {
   "cell_type": "code",
   "id": "initial_id",
   "metadata": {
    "collapsed": true,
    "ExecuteTime": {
     "end_time": "2025-04-26T11:56:18.924453Z",
     "start_time": "2025-04-26T11:56:15.814378Z"
    }
   },
   "source": [
    "\n",
    "import time\n",
    "from xtquant import xtdata\n",
    "\n",
    "#用token方式连接，不需要账号密码\n",
    "#其他连接方式，需要账号密码\n",
    "info = {\"ip\": '115.231.218.73', \"port\": 55300, \"username\": '57006529', \"pwd\": '970620'}\n",
    "\n",
    "connect_success = 0\n",
    "def func(d):\n",
    "    ip = d.get('ip', '')\n",
    "    port = d.get('port')\n",
    "    status = d.get('status', 'disconnected')\n",
    "\n",
    "    global connect_success\n",
    "    if ip == info['ip'] and port == info['port']:\n",
    "        if status == 'connected':\n",
    "            connect_success = 1\n",
    "        else:\n",
    "            connect_success = 2\n",
    "\n",
    "# 注册连接回调信息\n",
    "xtdata.watch_quote_server_status(func)\n",
    "\n",
    "# 行情连接\n",
    "qs = xtdata.QuoteServer(info)\n",
    "qs.connect()\n",
    "\n",
    "# 获取当前数据连接站点\n",
    "data_server_info = xtdata.get_quote_server_status()\n",
    "# 显示当前数据连接站点\n",
    "if 1:\n",
    "    for k,v in data_server_info.items():\n",
    "        print(f\"data:{k}, connect info:{v.info}\")\n",
    "\n",
    "\n",
    "# 等待连接状态\n",
    "while connect_success == 0:\n",
    "    time.sleep(0.3)\n",
    "\n",
    "if connect_success == 2:\n",
    "    print(\"连接失败\")\n",
    "\n"
   ],
   "outputs": [
    {
     "name": "stdout",
     "output_type": "stream",
     "text": [
      "***** xtdata连接成功 *****\n",
      "服务信息: {'tag': 'sp3', 'version': '1.0'}\n",
      "服务地址: 127.0.0.1:58610\n",
      "数据路径: D:\\gjzqqmt\\bin.x64/../userdata_mini/datadir\n",
      "设置xtdata.enable_hello = False可隐藏此消息\n",
      "\n"
     ]
    },
    {
     "ename": "RuntimeError",
     "evalue": "当前客户端未支持此功能，请更新客户端或升级投研版 func:commonControl, error:{ \"error\" : { \"ErrorID\" : 300000, \"ErrorMsg\" : \"function not realize\" } }",
     "output_type": "error",
     "traceback": [
      "\u001B[31m---------------------------------------------------------------------------\u001B[39m",
      "\u001B[31mRuntimeError\u001B[39m                              Traceback (most recent call last)",
      "\u001B[36mCell\u001B[39m\u001B[36m \u001B[39m\u001B[32mIn[1]\u001B[39m\u001B[32m, line 22\u001B[39m\n\u001B[32m     19\u001B[39m             connect_success = \u001B[32m2\u001B[39m\n\u001B[32m     21\u001B[39m \u001B[38;5;66;03m# 注册连接回调信息\u001B[39;00m\n\u001B[32m---> \u001B[39m\u001B[32m22\u001B[39m \u001B[43mxtdata\u001B[49m\u001B[43m.\u001B[49m\u001B[43mwatch_quote_server_status\u001B[49m\u001B[43m(\u001B[49m\u001B[43mfunc\u001B[49m\u001B[43m)\u001B[49m\n\u001B[32m     24\u001B[39m \u001B[38;5;66;03m# 行情连接\u001B[39;00m\n\u001B[32m     25\u001B[39m qs = xtdata.QuoteServer(info)\n",
      "\u001B[36mFile \u001B[39m\u001B[32m~\\AppData\\Local\\Programs\\Python\\Python312\\Lib\\site-packages\\xtquant\\xtdata.py:2807\u001B[39m, in \u001B[36mwatch_quote_server_status\u001B[39m\u001B[34m(callback)\u001B[39m\n\u001B[32m   2804\u001B[39m     callback = subscribe_callback_wrapper(callback)\n\u001B[32m   2806\u001B[39m cl.registerCommonControlCallback(\u001B[33m\"\u001B[39m\u001B[33mwatchquoteserverstatus\u001B[39m\u001B[33m\"\u001B[39m, callback)\n\u001B[32m-> \u001B[39m\u001B[32m2807\u001B[39m \u001B[43m_BSON_call_common\u001B[49m\u001B[43m(\u001B[49m\u001B[43mcl\u001B[49m\u001B[43m.\u001B[49m\u001B[43mcommonControl\u001B[49m\u001B[43m,\u001B[49m\u001B[43m \u001B[49m\u001B[33;43m\"\u001B[39;49m\u001B[33;43mwatchquoteserverstatus\u001B[39;49m\u001B[33;43m\"\u001B[39;49m\u001B[43m,\u001B[49m\u001B[43m \u001B[49m\u001B[43m{\u001B[49m\u001B[43m}\u001B[49m\u001B[43m)\u001B[49m\n\u001B[32m   2808\u001B[39m \u001B[38;5;28;01mreturn\u001B[39;00m\n",
      "\u001B[36mFile \u001B[39m\u001B[32m~\\AppData\\Local\\Programs\\Python\\Python312\\Lib\\site-packages\\xtquant\\xtdata.py:275\u001B[39m, in \u001B[36m_BSON_call_common\u001B[39m\u001B[34m(interface, func, param)\u001B[39m\n\u001B[32m    274\u001B[39m \u001B[38;5;28;01mdef\u001B[39;00m\u001B[38;5;250m \u001B[39m\u001B[34m_BSON_call_common\u001B[39m(interface, func, param):\n\u001B[32m--> \u001B[39m\u001B[32m275\u001B[39m     \u001B[38;5;28;01mreturn\u001B[39;00m _BSON_.BSON.decode(\u001B[43minterface\u001B[49m\u001B[43m(\u001B[49m\u001B[43mfunc\u001B[49m\u001B[43m,\u001B[49m\u001B[43m \u001B[49m\u001B[43m_BSON_\u001B[49m\u001B[43m.\u001B[49m\u001B[43mBSON\u001B[49m\u001B[43m.\u001B[49m\u001B[43mencode\u001B[49m\u001B[43m(\u001B[49m\u001B[43mparam\u001B[49m\u001B[43m)\u001B[49m\u001B[43m)\u001B[49m)\n",
      "\u001B[31mRuntimeError\u001B[39m: 当前客户端未支持此功能，请更新客户端或升级投研版 func:commonControl, error:{ \"error\" : { \"ErrorID\" : 300000, \"ErrorMsg\" : \"function not realize\" } }"
     ]
    }
   ],
   "execution_count": 1
  }
 ],
 "metadata": {
  "kernelspec": {
   "display_name": "Python 3",
   "language": "python",
   "name": "python3"
  },
  "language_info": {
   "codemirror_mode": {
    "name": "ipython",
    "version": 2
   },
   "file_extension": ".py",
   "mimetype": "text/x-python",
   "name": "python",
   "nbconvert_exporter": "python",
   "pygments_lexer": "ipython2",
   "version": "2.7.6"
  }
 },
 "nbformat": 4,
 "nbformat_minor": 5
}
