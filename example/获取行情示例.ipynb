{
 "cells": [
  {
   "metadata": {},
   "cell_type": "markdown",
   "source": [
    "# 用前须知\n",
    "\n",
    "## xtdata提供和MiniQmt的交互接口，本质是和MiniQmt建立连接，由MiniQmt处理行情数据请求，再把结果回传返回到python层。使用的行情服务器以及能获取到的行情数据和MiniQmt是一致的，要检查数据或者切换连接时直接操作MiniQmt即可。\n",
    "\n",
    "## 对于数据获取接口，使用时需要先确保MiniQmt已有所需要的数据，如果不足可以通过补充数据接口补充，再调用数据获取接口获取。\n",
    "\n",
    "## 对于订阅接口，直接设置数据回调，数据到来时会由回调返回。订阅接收到的数据一般会保存下来，同种数据不需要再单独补充。\n"
   ],
   "id": "4a5d0dd1df4a667a"
  },
  {
   "metadata": {
    "ExecuteTime": {
     "end_time": "2025-04-26T11:35:04.908451Z",
     "start_time": "2025-04-26T11:35:04.348841Z"
    }
   },
   "cell_type": "code",
   "source": [
    "# 从本地python导入xtquant库，如果出现报错则说明安装失败\n",
    "from xtquant import xtdata\n",
    "import time"
   ],
   "id": "c473ec9f2d1f4b59",
   "outputs": [],
   "execution_count": 1
  },
  {
   "cell_type": "code",
   "id": "initial_id",
   "metadata": {
    "collapsed": true,
    "ExecuteTime": {
     "end_time": "2025-04-26T11:35:07.477178Z",
     "start_time": "2025-04-26T11:35:06.533356Z"
    }
   },
   "source": [
    "# 设定一个标的列表\n",
    "code_list = [\"000001.SZ\"]\n",
    "# 设定获取数据的周期\n",
    "period = \"1d\"\n",
    "\n",
    "# 下载标的行情数据\n",
    "if 1:\n",
    "    ## 为了方便用户进行数据管理，xtquant的大部分历史数据都是以压缩形式存储在本地的\n",
    "    ## 比如行情数据，需要通过download_history_data下载，财务数据需要通过\n",
    "    ## 所以在取历史数据之前，我们需要调用数据下载接口，将数据下载到本地\n",
    "    # 设置开始和结束时间\n",
    "    start_date = \"20230101\"\n",
    "    end_date = \"20230201\"\n",
    "    for i in code_list:\n",
    "        print(f\"开始下载{i}的历史数据，时间区间为{start_date}到{end_date}\")\n",
    "        xtdata.download_history_data(i,period=period,start_time=start_date,end_time=end_date,incrementally=True) # 增量下载行情数据（开高低收,等等）到本地\n",
    "\n",
    "# 读取本地历史行情数据\n",
    "history_data = xtdata.get_market_data_ex([],code_list,period=period,count=-1)\n",
    "print(f\"获取到{len(history_data)}历史数据，数据如下：\")\n",
    "print(history_data)\n",
    "print(\"=\" * 20)\n",
    "\n"
   ],
   "outputs": [
    {
     "name": "stdout",
     "output_type": "stream",
     "text": [
      "开始下载000001.SZ的历史数据，时间区间为20230101到20230201\n",
      "***** xtdata连接成功 *****\n",
      "服务信息: {'tag': 'sp3', 'version': '1.0'}\n",
      "服务地址: 127.0.0.1:58610\n",
      "数据路径: D:\\gjzqqmt\\bin.x64/../userdata_mini/datadir\n",
      "设置xtdata.enable_hello = False可隐藏此消息\n",
      "\n",
      "获取到1历史数据，数据如下：\n",
      "{'000001.SZ':                    time   open   high    low  close   volume        amount  \\\n",
      "19910107   663177600000  65.74  65.74  65.74  65.74        0  0.000000e+00   \n",
      "19910108   663264000000  65.74  65.74  65.74  65.74        0  0.000000e+00   \n",
      "19910109   663350400000  65.74  65.74  65.74  65.74        0  0.000000e+00   \n",
      "19910110   663436800000  65.74  65.74  65.74  65.74        0  0.000000e+00   \n",
      "19910111   663523200000  65.74  65.74  65.74  65.74        0  0.000000e+00   \n",
      "...                 ...    ...    ...    ...    ...      ...           ...   \n",
      "20250421  1745164800000  11.00  11.13  10.97  11.02  1114184  1.230805e+09   \n",
      "20250422  1745251200000  11.02  11.06  10.98  11.04   831129  9.159677e+08   \n",
      "20250423  1745337600000  11.04  11.05  10.97  11.01   586383  6.458424e+08   \n",
      "20250424  1745424000000  11.00  11.06  10.99  11.03   689256  7.603486e+08   \n",
      "20250425  1745510400000  11.04  11.05  10.99  11.01   637547  7.023153e+08   \n",
      "\n",
      "          settelementPrice  openInterest  preClose  suspendFlag  \n",
      "19910107               0.0             0     65.74            1  \n",
      "19910108               0.0             0     65.74            1  \n",
      "19910109               0.0             0     65.74            1  \n",
      "19910110               0.0             0     65.74            1  \n",
      "19910111               0.0             0     65.74            1  \n",
      "...                    ...           ...       ...          ...  \n",
      "20250421               0.0            15     11.18            0  \n",
      "20250422               0.0            15     11.02            0  \n",
      "20250423               0.0            15     11.04            0  \n",
      "20250424               0.0            15     11.01            0  \n",
      "20250425               0.0            15     11.03            0  \n",
      "\n",
      "[8375 rows x 11 columns]}\n",
      "====================\n"
     ]
    }
   ],
   "execution_count": 2
  },
  {
   "metadata": {
    "ExecuteTime": {
     "end_time": "2025-04-26T11:48:20.425713Z",
     "start_time": "2025-04-26T11:48:19.386009Z"
    }
   },
   "cell_type": "code",
   "source": [
    "# 如果需要盘中的实时行情，需要向服务器进行订阅后才能获取\n",
    "# 订阅后，get_market_data函数于get_market_data_ex函数将会自动拼接本地历史行情与服务器实时行情\n",
    "\n",
    "# 向服务器订阅数据\n",
    "sub_res = ''\n",
    "for i in code_list:\n",
    "    print(f\"开始订阅{i}的实时行情\")\n",
    "    sub_res = xtdata.subscribe_quote(i,period=period,count=10) # count: 数量 -1全部/n: 从结束时间向前数n个\n",
    "    print(f\"订阅{i}的实时行情，返回值为{sub_res}\")\n",
    "\n",
    "# 等待订阅完成\n",
    "time.sleep(1)\n",
    "print(\"=\" * 20)\n",
    "\n",
    "# 获取订阅后的行情\n",
    "kline_data = xtdata.get_market_data_ex([],code_list,period=period)\n",
    "print(kline_data)"
   ],
   "id": "cf3da22f09536fd8",
   "outputs": [
    {
     "name": "stdout",
     "output_type": "stream",
     "text": [
      "开始订阅000001.SZ的实时行情\n",
      "订阅000001.SZ的实时行情，返回值为4\n",
      "====================\n",
      "{'000001.SZ':                    time   open   high    low  close   volume        amount  \\\n",
      "19910107   663177600000  65.74  65.74  65.74  65.74        0  0.000000e+00   \n",
      "19910108   663264000000  65.74  65.74  65.74  65.74        0  0.000000e+00   \n",
      "19910109   663350400000  65.74  65.74  65.74  65.74        0  0.000000e+00   \n",
      "19910110   663436800000  65.74  65.74  65.74  65.74        0  0.000000e+00   \n",
      "19910111   663523200000  65.74  65.74  65.74  65.74        0  0.000000e+00   \n",
      "...                 ...    ...    ...    ...    ...      ...           ...   \n",
      "20250421  1745164800000  11.00  11.13  10.97  11.02  1114184  1.230805e+09   \n",
      "20250422  1745251200000  11.02  11.06  10.98  11.04   831129  9.159677e+08   \n",
      "20250423  1745337600000  11.04  11.05  10.97  11.01   586383  6.458424e+08   \n",
      "20250424  1745424000000  11.00  11.06  10.99  11.03   689256  7.603486e+08   \n",
      "20250425  1745510400000  11.04  11.05  10.99  11.01   637547  7.023153e+08   \n",
      "\n",
      "          settelementPrice  openInterest  preClose  suspendFlag  \n",
      "19910107               0.0             0     65.74            1  \n",
      "19910108               0.0             0     65.74            1  \n",
      "19910109               0.0             0     65.74            1  \n",
      "19910110               0.0             0     65.74            1  \n",
      "19910111               0.0             0     65.74            1  \n",
      "...                    ...           ...       ...          ...  \n",
      "20250421               0.0            15     11.18            0  \n",
      "20250422               0.0            15     11.02            0  \n",
      "20250423               0.0            15     11.04            0  \n",
      "20250424               0.0            15     11.01            0  \n",
      "20250425               0.0            15     11.03            0  \n",
      "\n",
      "[8375 rows x 11 columns]}\n"
     ]
    }
   ],
   "execution_count": 8
  },
  {
   "metadata": {
    "ExecuteTime": {
     "end_time": "2025-04-26T11:46:34.751531Z",
     "start_time": "2025-04-26T11:46:04.670170Z"
    }
   },
   "cell_type": "code",
   "source": [
    "\n",
    "\n",
    "# 获取订阅后的行情，并以固定间隔进行刷新,预期会循环打印10次\n",
    "for i in range(10):\n",
    "    # 这边做演示，就用for来循环了，实际使用中可以用while True\n",
    "    kline_data = xtdata.get_market_data_ex([],code_list,period=period)\n",
    "    print(kline_data)\n",
    "    time.sleep(3) # 三秒后再次获取行情\n"
   ],
   "id": "81903a7f1d923a7b",
   "outputs": [
    {
     "name": "stdout",
     "output_type": "stream",
     "text": [
      "{'000001.SZ': Empty DataFrame\n",
      "Columns: [time, open, high, low, close, volume, amount, settelementPrice, openInterest, preClose, suspendFlag]\n",
      "Index: []}\n",
      "{'000001.SZ': Empty DataFrame\n",
      "Columns: [time, open, high, low, close, volume, amount, settelementPrice, openInterest, preClose, suspendFlag]\n",
      "Index: []}\n",
      "{'000001.SZ': Empty DataFrame\n",
      "Columns: [time, open, high, low, close, volume, amount, settelementPrice, openInterest, preClose, suspendFlag]\n",
      "Index: []}\n",
      "{'000001.SZ': Empty DataFrame\n",
      "Columns: [time, open, high, low, close, volume, amount, settelementPrice, openInterest, preClose, suspendFlag]\n",
      "Index: []}\n",
      "{'000001.SZ': Empty DataFrame\n",
      "Columns: [time, open, high, low, close, volume, amount, settelementPrice, openInterest, preClose, suspendFlag]\n",
      "Index: []}\n",
      "{'000001.SZ': Empty DataFrame\n",
      "Columns: [time, open, high, low, close, volume, amount, settelementPrice, openInterest, preClose, suspendFlag]\n",
      "Index: []}\n",
      "{'000001.SZ': Empty DataFrame\n",
      "Columns: [time, open, high, low, close, volume, amount, settelementPrice, openInterest, preClose, suspendFlag]\n",
      "Index: []}\n",
      "{'000001.SZ': Empty DataFrame\n",
      "Columns: [time, open, high, low, close, volume, amount, settelementPrice, openInterest, preClose, suspendFlag]\n",
      "Index: []}\n",
      "{'000001.SZ': Empty DataFrame\n",
      "Columns: [time, open, high, low, close, volume, amount, settelementPrice, openInterest, preClose, suspendFlag]\n",
      "Index: []}\n",
      "{'000001.SZ': Empty DataFrame\n",
      "Columns: [time, open, high, low, close, volume, amount, settelementPrice, openInterest, preClose, suspendFlag]\n",
      "Index: []}\n"
     ]
    }
   ],
   "execution_count": 5
  },
  {
   "metadata": {
    "ExecuteTime": {
     "end_time": "2025-04-26T11:52:29.544577Z",
     "start_time": "2025-04-26T11:52:20.498977Z"
    }
   },
   "cell_type": "code",
   "source": [
    "\n",
    "# 如果不想用固定间隔触发，可以以用订阅后的回调来执行\n",
    "# 这种模式下当订阅的callback回调函数将会异步的执行，每当订阅的标的tick发生变化更新，callback回调函数就会被调用一次\n",
    "# 本地已有的数据不会触发callback\n",
    "\n",
    "# 定义的回测函数\n",
    "    ## 回调函数中，data是本次触发回调的数据，只有一条\n",
    "def f(data):\n",
    "    print(data)\n",
    "\n",
    "    code_list = list(data.keys())    # 获取到本次触发的标的代码\n",
    "    print(f'获取到本次触发的标的代码：{code_list}')\n",
    "    kline_in_callabck = xtdata.get_market_data_ex([],code_list,period = period)    # 在回调中获取klines数据\n",
    "    print(kline_in_callabck)\n",
    "\n",
    "for i in code_list:\n",
    "    xtdata.subscribe_quote(i,period=period,count=10,callback=f) # 订阅时设定回调函数\n",
    "\n",
    "# 使用回调时，必须要同时使用xtdata.run()来阻塞程序，否则程序运行到最后一行就直接结束退出了。\n",
    "xtdata.run()\n",
    "\n",
    "\n",
    "\n"
   ],
   "id": "1b9859efe698c380",
   "outputs": [
    {
     "ename": "KeyboardInterrupt",
     "evalue": "",
     "output_type": "error",
     "traceback": [
      "\u001B[31m---------------------------------------------------------------------------\u001B[39m",
      "\u001B[31mKeyboardInterrupt\u001B[39m                         Traceback (most recent call last)",
      "\u001B[36mCell\u001B[39m\u001B[36m \u001B[39m\u001B[32mIn[9]\u001B[39m\u001B[32m, line 19\u001B[39m\n\u001B[32m     16\u001B[39m     xtdata.subscribe_quote(i,period=period,count=\u001B[32m10\u001B[39m,callback=f) \u001B[38;5;66;03m# 订阅时设定回调函数\u001B[39;00m\n\u001B[32m     18\u001B[39m \u001B[38;5;66;03m# 使用回调时，必须要同时使用xtdata.run()来阻塞程序，否则程序运行到最后一行就直接结束退出了。\u001B[39;00m\n\u001B[32m---> \u001B[39m\u001B[32m19\u001B[39m \u001B[43mxtdata\u001B[49m\u001B[43m.\u001B[49m\u001B[43mrun\u001B[49m\u001B[43m(\u001B[49m\u001B[43m)\u001B[49m\n",
      "\u001B[36mFile \u001B[39m\u001B[32m~\\AppData\\Local\\Programs\\Python\\Python312\\Lib\\site-packages\\xtquant\\xtdata.py:1251\u001B[39m, in \u001B[36mrun\u001B[39m\u001B[34m()\u001B[39m\n\u001B[32m   1249\u001B[39m client = get_client()\n\u001B[32m   1250\u001B[39m \u001B[38;5;28;01mwhile\u001B[39;00m \u001B[38;5;28;01mTrue\u001B[39;00m:\n\u001B[32m-> \u001B[39m\u001B[32m1251\u001B[39m     \u001B[43m_TIME_\u001B[49m\u001B[43m.\u001B[49m\u001B[43msleep\u001B[49m\u001B[43m(\u001B[49m\u001B[32;43m3\u001B[39;49m\u001B[43m)\u001B[49m\n\u001B[32m   1252\u001B[39m     \u001B[38;5;28;01mif\u001B[39;00m \u001B[38;5;129;01mnot\u001B[39;00m client.is_connected():\n\u001B[32m   1253\u001B[39m         \u001B[38;5;28;01mraise\u001B[39;00m \u001B[38;5;167;01mException\u001B[39;00m(\u001B[33m'\u001B[39m\u001B[33m行情服务连接断开\u001B[39m\u001B[33m'\u001B[39m)\n",
      "\u001B[31mKeyboardInterrupt\u001B[39m: "
     ]
    }
   ],
   "execution_count": 9
  }
 ],
 "metadata": {
  "kernelspec": {
   "display_name": "Python 3",
   "language": "python",
   "name": "python3"
  },
  "language_info": {
   "codemirror_mode": {
    "name": "ipython",
    "version": 2
   },
   "file_extension": ".py",
   "mimetype": "text/x-python",
   "name": "python",
   "nbconvert_exporter": "python",
   "pygments_lexer": "ipython2",
   "version": "2.7.6"
  }
 },
 "nbformat": 4,
 "nbformat_minor": 5
}
