{
 "cells": [
  {
   "cell_type": "code",
   "id": "initial_id",
   "metadata": {
    "collapsed": true
   },
   "source": [
    "# coding:utf-8\n",
    "import time\n",
    "\n",
    "from xtquant import xtdata\n",
    "\n",
    "code = '600000.SH'\n",
    "\n",
    "#取全推数据\n",
    "full_tick = xtdata.get_full_tick([code])\n",
    "print('全推数据 日线最新值', full_tick)\n",
    "\n",
    "#下载历史数据 下载接口本身不返回数据\n",
    "xtdata.download_history_data(code, period='1m', start_time='20250423', end_time='20250424', incrementally=True)\n",
    "\n",
    "#订阅最新行情\n",
    "def callback_func(data):\n",
    "    print('回调触发', data)\n",
    "\n",
    "xtdata.subscribe_quote(code, period='1m', count=10, callback= callback_func)\n",
    "data = xtdata.get_market_data(['close'], [code], period='1m', start_time='20250423')\n",
    "print('一次性取数据', data)\n",
    "\n",
    "#死循环 阻塞主线程退出\n",
    "xtdata.run()\n",
    "\n"
   ],
   "outputs": [],
   "execution_count": null
  }
 ],
 "metadata": {
  "kernelspec": {
   "display_name": "Python 3",
   "language": "python",
   "name": "python3"
  },
  "language_info": {
   "codemirror_mode": {
    "name": "ipython",
    "version": 2
   },
   "file_extension": ".py",
   "mimetype": "text/x-python",
   "name": "python",
   "nbconvert_exporter": "python",
   "pygments_lexer": "ipython2",
   "version": "2.7.6"
  }
 },
 "nbformat": 4,
 "nbformat_minor": 5
}
