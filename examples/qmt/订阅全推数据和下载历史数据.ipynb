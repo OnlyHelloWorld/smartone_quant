{
 "cells": [
  {
   "cell_type": "code",
   "execution_count": null,
   "id": "initial_id",
   "metadata": {},
   "outputs": [
    {
     "name": "stdout",
     "output_type": "stream",
     "text": [
      "***** xtdata连接成功 *****\n",
      "服务信息: {'tag': 'sp3', 'version': '1.0'}\n",
      "服务地址: 127.0.0.1:58610\n",
      "数据路径: D:\\gjzqqmt\\bin.x64/../userdata_mini/datadir\n",
      "设置xtdata.enable_hello = False可隐藏此消息\n",
      "\n",
      "全推数据 日线最新值 {'600000.SH': {'timetag': '20250606 15:00:03', 'lastPrice': 12.32, 'open': 12.33, 'high': 12.39, 'low': 12.21, 'lastClose': 12.32, 'amount': 531488400, 'volume': 432402, 'pvolume': 43240203, 'stockStatus': 5, 'openInt': 15, 'settlementPrice': 0, 'lastSettlementPrice': 12.32, 'askPrice': [12.32, 12.33, 12.34, 12.35, 12.36], 'bidPrice': [12.31, 12.3, 12.29, 12.28, 12.27], 'askVol': [2433, 986, 1071, 2588, 1252], 'bidVol': [129, 1813, 2491, 2333, 1423]}}\n",
      "回调触发 {'600000.SH': [{'time': 1749192660000, 'open': 12.3, 'high': 12.31, 'low': 12.3, 'close': 12.31, 'volume': 2741, 'amount': 3373059.0, 'settlementPrice': 0.0, 'openInterest': 13, 'dr': 1.0, 'totaldr': 16.11206719610875, 'preClose': 0.0, 'suspendFlag': 121894608}, {'time': 1749192720000, 'open': 12.31, 'high': 12.31, 'low': 12.3, 'close': 12.31, 'volume': 3845, 'amount': 4730205.0, 'settlementPrice': 0.0, 'openInterest': 13, 'dr': 1.0, 'totaldr': 16.11206719610875, 'preClose': 0.0, 'suspendFlag': 121894608}, {'time': 1749192780000, 'open': 12.3, 'high': 12.31, 'low': 12.290000000000001, 'close': 12.3, 'volume': 1601, 'amount': 1969571.0000000002, 'settlementPrice': 0.0, 'openInterest': 13, 'dr': 1.0, 'totaldr': 16.11206719610875, 'preClose': 0.0, 'suspendFlag': 121894608}, {'time': 1749192840000, 'open': 12.3, 'high': 12.31, 'low': 12.290000000000001, 'close': 12.3, 'volume': 995, 'amount': 1224277.0, 'settlementPrice': 0.0, 'openInterest': 13, 'dr': 1.0, 'totaldr': 16.11206719610875, 'preClose': 0.0, 'suspendFlag': 121894608}, {'time': 1749192900000, 'open': 12.31, 'high': 12.32, 'low': 12.3, 'close': 12.31, 'volume': 2525, 'amount': 3107836.0, 'settlementPrice': 0.0, 'openInterest': 13, 'dr': 1.0, 'totaldr': 16.11206719610875, 'preClose': 0.0, 'suspendFlag': 121894608}, {'time': 1749192960000, 'open': 12.31, 'high': 12.32, 'low': 12.3, 'close': 12.31, 'volume': 2647, 'amount': 3258867.0, 'settlementPrice': 0.0, 'openInterest': 13, 'dr': 1.0, 'totaldr': 16.11206719610875, 'preClose': 0.0, 'suspendFlag': 121894608}, {'time': 1749193020000, 'open': 12.32, 'high': 12.32, 'low': 12.3, 'close': 12.32, 'volume': 1984, 'amount': 2441949.0, 'settlementPrice': 0.0, 'openInterest': 13, 'dr': 1.0, 'totaldr': 16.11206719610875, 'preClose': 0.0, 'suspendFlag': 121894608}, {'time': 1749193080000, 'open': 12.32, 'high': 12.32, 'low': 12.32, 'close': 12.32, 'volume': 0, 'amount': 0.0, 'settlementPrice': 0.0, 'openInterest': 18, 'dr': 1.0, 'totaldr': 16.11206719610875, 'preClose': 0.0, 'suspendFlag': 121894608}, {'time': 1749193140000, 'open': 12.32, 'high': 12.32, 'low': 12.32, 'close': 12.32, 'volume': 0, 'amount': 0.0, 'settlementPrice': 0.0, 'openInterest': 18, 'dr': 1.0, 'totaldr': 16.11206719610875, 'preClose': 0.0, 'suspendFlag': 121894608}, {'time': 1749193200000, 'open': 12.32, 'high': 12.32, 'low': 12.32, 'close': 12.32, 'volume': 9349, 'amount': 11517968.0, 'settlementPrice': 0.0, 'openInterest': 15, 'dr': 1.0, 'totaldr': 16.11206719610875, 'preClose': 0.0, 'suspendFlag': 121894608}]}\n",
      "一次性取数据 {'close':            20250423093000  20250423093100  20250423093200  20250423093300  \\\n",
      "600000.SH           10.71           10.68           10.64           10.63   \n",
      "\n",
      "           20250423093400  20250423093500  20250423093600  20250423093700  \\\n",
      "600000.SH           10.62           10.63           10.62           10.66   \n",
      "\n",
      "           20250423093800  20250423093900  ...  20250606145100  \\\n",
      "600000.SH           10.65           10.63  ...           12.31   \n",
      "\n",
      "           20250606145200  20250606145300  20250606145400  20250606145500  \\\n",
      "600000.SH           12.31            12.3            12.3           12.31   \n",
      "\n",
      "           20250606145600  20250606145700  20250606145800  20250606145900  \\\n",
      "600000.SH           12.31           12.32           12.32           12.32   \n",
      "\n",
      "           20250606150000  \n",
      "600000.SH           12.32  \n",
      "\n",
      "[1 rows x 6989 columns]}\n"
     ]
    }
   ],
   "source": [
    "# coding:utf-8\n",
    "\n",
    "from xtquant import xtdata\n",
    "\n",
    "code = '600000.SH'\n",
    "\n",
    "#取全推数据\n",
    "full_tick = xtdata.get_full_tick([code])\n",
    "print('全推数据 日线最新值', full_tick)\n",
    "\n",
    "#下载历史数据 下载接口本身不返回数据\n",
    "xtdata.download_history_data(code, period='1m', start_time='20250423', end_time='20250424', incrementally=True)\n",
    "\n",
    "#订阅最新行情\n",
    "def callback_func(data):\n",
    "    print('回调触发', data)\n",
    "\n",
    "xtdata.subscribe_quote(code, period='1m', count=10, callback= callback_func)\n",
    "data = xtdata.get_market_data(['close'], [code], period='1m', start_time='20250423')\n",
    "print('一次性取数据', data)\n",
    "\n",
    "#死循环 阻塞主线程退出\n",
    "xtdata.run()\n",
    "\n"
   ]
  },
  {
   "cell_type": "code",
   "execution_count": null,
   "id": "4855640b-8344-471c-9cb3-be33bca3bffe",
   "metadata": {},
   "outputs": [],
   "source": []
  }
 ],
 "metadata": {
  "kernelspec": {
   "display_name": "Python 3 (ipykernel)",
   "language": "python",
   "name": "python3"
  },
  "language_info": {
   "codemirror_mode": {
    "name": "ipython",
    "version": 3
   },
   "file_extension": ".py",
   "mimetype": "text/x-python",
   "name": "python",
   "nbconvert_exporter": "python",
   "pygments_lexer": "ipython3",
   "version": "3.12.10"
  }
 },
 "nbformat": 4,
 "nbformat_minor": 5
}
