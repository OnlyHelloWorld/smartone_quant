{
 "cells": [
  {
   "cell_type": "code",
   "id": "4376d6d90394d3b",
   "metadata": {
    "ExecuteTime": {
     "end_time": "2025-05-08T13:09:26.424098Z",
     "start_time": "2025-05-08T13:09:25.914445Z"
    }
   },
   "source": [
    "# coding:utf-8\n",
    "import datetime\n",
    "import sys\n",
    "import time\n",
    "\n",
    "from xtquant import xtconstant\n",
    "from xtquant import xtdata\n",
    "from xtquant.xttrader import XtQuantTrader, XtQuantTraderCallback\n",
    "from xtquant.xttype import StockAccount"
   ],
   "outputs": [],
   "execution_count": 1
  },
  {
   "metadata": {
    "ExecuteTime": {
     "end_time": "2025-05-08T13:09:28.057364Z",
     "start_time": "2025-05-08T13:09:28.028065Z"
    }
   },
   "cell_type": "code",
   "source": [
    "# 定义一个类 创建类的实例 作为状态的容器\n",
    "class _a():\n",
    "    pass\n",
    "\n",
    "\n",
    "A = _a()\n",
    "A.bought_list = []\n",
    "A.hsa = xtdata.get_stock_list_in_sector('沪深A股')"
   ],
   "id": "5993de8391ac6a9e",
   "outputs": [
    {
     "name": "stdout",
     "output_type": "stream",
     "text": [
      "***** xtdata连接成功 *****\n",
      "服务信息: {'tag': 'sp3', 'version': '1.0'}\n",
      "服务地址: 127.0.0.1:58610\n",
      "数据路径: D:\\gjzqqmt\\bin.x64/../userdata_mini/datadir\n",
      "设置xtdata.enable_hello = False可隐藏此消息\n",
      "\n"
     ]
    }
   ],
   "execution_count": 2
  },
  {
   "metadata": {
    "ExecuteTime": {
     "end_time": "2025-05-08T13:09:36.759465Z",
     "start_time": "2025-05-08T13:09:34.681168Z"
    }
   },
   "cell_type": "code",
   "source": [
    "\n",
    "def interact():\n",
    "    \"\"\"执行后进入repl模式\"\"\"\n",
    "    import code\n",
    "    code.InteractiveConsole(locals=globals()).interact()\n",
    "\n",
    "\n",
    "xtdata.download_sector_data()"
   ],
   "id": "f2c29faaed4f48d4",
   "outputs": [],
   "execution_count": 3
  },
  {
   "metadata": {
    "ExecuteTime": {
     "end_time": "2025-05-08T13:09:40.417974Z",
     "start_time": "2025-05-08T13:09:40.411869Z"
    }
   },
   "cell_type": "code",
   "source": [
    "def f(data):\n",
    "    print(data)\n",
    "    now = datetime.datetime.now()\n",
    "    for stock in data:\n",
    "        if stock not in A.hsa:\n",
    "            continue\n",
    "        cuurent_price = data[stock][0]['close']\n",
    "        pre_price = data[stock][0]['preClose']\n",
    "        ratio = cuurent_price / pre_price - 1 if pre_price > 0 else 0\n",
    "        if ratio > 0.09 and stock not in A.bought_list:\n",
    "            print(f\"{now} 最新价 买入 {stock} 100股\")\n",
    "            async_seq = xt_trader.order_stock_async(acc, stock, xtconstant.STOCK_BUY, 100, xtconstant.LATEST_PRICE, -1,\n",
    "                                                    'strategy_name', stock)\n",
    "            A.bought_list.append(stock)"
   ],
   "id": "1d1e30c61446fdd0",
   "outputs": [],
   "execution_count": 4
  },
  {
   "metadata": {
    "ExecuteTime": {
     "end_time": "2025-05-08T13:09:42.926871Z",
     "start_time": "2025-05-08T13:09:42.919030Z"
    }
   },
   "cell_type": "code",
   "source": [
    "class MyXtQuantTraderCallback(XtQuantTraderCallback):\n",
    "    def on_disconnected(self):\n",
    "        \"\"\"\n",
    "        连接断开\n",
    "        :return:\n",
    "        \"\"\"\n",
    "        print(datetime.datetime.now(), '连接断开回调')\n",
    "\n",
    "    def on_stock_order(self, order):\n",
    "        \"\"\"\n",
    "        委托回报推送\n",
    "        :param order: XtOrder对象\n",
    "        :return:\n",
    "        \"\"\"\n",
    "        print(datetime.datetime.now(), '委托回调', order.order_remark)\n",
    "\n",
    "    def on_stock_trade(self, trade):\n",
    "        \"\"\"\n",
    "        成交变动推送\n",
    "        :param trade: XtTrade对象\n",
    "        :return:\n",
    "        \"\"\"\n",
    "        print(datetime.datetime.now(), '成交回调', trade.order_remark)\n",
    "\n",
    "    def on_order_error(self, order_error):\n",
    "        \"\"\"\n",
    "        委托失败推送\n",
    "        :param order_error:XtOrderError 对象\n",
    "        :return:\n",
    "        \"\"\"\n",
    "        # print(\"on order_error callback\")\n",
    "        # print(order_error.order_id, order_error.error_id, order_error.error_msg)\n",
    "        print(f\"委托报错回调 {order_error.order_remark} {order_error.error_msg}\")\n",
    "\n",
    "    def on_cancel_error(self, cancel_error):\n",
    "        \"\"\"\n",
    "        撤单失败推送\n",
    "        :param cancel_error: XtCancelError 对象\n",
    "        :return:\n",
    "        \"\"\"\n",
    "        print(datetime.datetime.now(), sys._getframe().f_code.co_name)\n",
    "\n",
    "    def on_order_stock_async_response(self, response):\n",
    "        \"\"\"\n",
    "        异步下单回报推送\n",
    "        :param response: XtOrderResponse 对象\n",
    "        :return:\n",
    "        \"\"\"\n",
    "        print(f\"异步委托回调 {response.order_remark}\")\n",
    "\n",
    "    def on_cancel_order_stock_async_response(self, response):\n",
    "        \"\"\"\n",
    "        :param response: XtCancelOrderResponse 对象\n",
    "        :return:\n",
    "        \"\"\"\n",
    "        print(datetime.datetime.now(), sys._getframe().f_code.co_name)\n",
    "\n",
    "    def on_account_status(self, status):\n",
    "        \"\"\"\n",
    "        :param response: XtAccountStatus 对象\n",
    "        :return:\n",
    "        \"\"\"\n",
    "        print(datetime.datetime.now(), sys._getframe().f_code.co_name)"
   ],
   "id": "3e7e7c8493fb13d0",
   "outputs": [],
   "execution_count": 5
  },
  {
   "metadata": {
    "ExecuteTime": {
     "end_time": "2025-05-08T13:10:01.678426Z",
     "start_time": "2025-05-08T13:09:49.153717Z"
    }
   },
   "cell_type": "code",
   "source": [
    "if __name__ == '__main__':\n",
    "    print(\"start\")\n",
    "    # 指定客户端所在路径, 券商端指定到 userdata_mini文件夹\n",
    "    # 注意：如果是连接投研端进行交易，文件目录需要指定到f\"{安装目录}\\userdata\"\n",
    "    path = r'D:\\gjzqqmt\\userdata_mini'\n",
    "    # 生成session id 整数类型 同时运行的策略不能重复\n",
    "    session_id = int(time.time())\n",
    "    print(f'session_id: {session_id}')\n",
    "    xt_trader = XtQuantTrader(path, session_id)\n",
    "    # 开启主动请求接口的专用线程 开启后在on_stock_xxx回调函数里调用XtQuantTrader.query_xxx函数不会卡住回调线程，但是查询和推送的数据在时序上会变得不确定\n",
    "    # 详见: http://docs.thinktrader.net/vip/pages/ee0e9b/#开启主动请求接口的专用线程\n",
    "    # xt_trader.set_relaxed_response_order_enabled(True)\n",
    "\n",
    "    # 创建资金账号为 800068 的证券账号对象 股票账号为STOCK 信用CREDIT 期货FUTURE\n",
    "    acc = StockAccount('57006529', 'STOCK')\n",
    "    # 创建交易回调类对象，并声明接收回调\n",
    "    callback = MyXtQuantTraderCallback()\n",
    "    xt_trader.register_callback(callback)\n",
    "    # 启动交易线程\n",
    "    xt_trader.start()\n",
    "    # 建立交易连接，返回0表示连接成功\n",
    "    connect_result = xt_trader.connect()\n",
    "    print('建立交易连接，返回0表示连接成功', connect_result)\n",
    "    # 对交易回调进行订阅，订阅后可以收到交易主推，返回0表示订阅成功\n",
    "    subscribe_result = xt_trader.subscribe(acc)\n",
    "    print('对交易回调进行订阅，订阅后可以收到交易主推，返回0表示订阅成功', subscribe_result)\n",
    "\n",
    "    #订阅的品种列表\n",
    "    code_list = ['513260.SH']\n",
    "\n",
    "    for code in code_list:\n",
    "        xtdata.subscribe_quote(code, '1d', callback = f)\n",
    "\n",
    "    # 阻塞主线程退出\n",
    "    xt_trader.run_forever()\n",
    "    # 如果使用vscode pycharm等本地编辑器 可以进入交互模式 方便调试 （把上一行的run_forever注释掉 否则不会执行到这里）\n",
    "    interact()\n",
    "\n",
    "\n"
   ],
   "id": "initial_id",
   "outputs": [
    {
     "name": "stdout",
     "output_type": "stream",
     "text": [
      "start\n",
      "session_id: 1746709789\n",
      "建立交易连接，返回0表示连接成功 0\n",
      "对交易回调进行订阅，订阅后可以收到交易主推，返回0表示订阅成功 0\n"
     ]
    },
    {
     "ename": "KeyboardInterrupt",
     "evalue": "",
     "output_type": "error",
     "traceback": [
      "\u001B[31m---------------------------------------------------------------------------\u001B[39m",
      "\u001B[31mKeyboardInterrupt\u001B[39m                         Traceback (most recent call last)",
      "\u001B[36mCell\u001B[39m\u001B[36m \u001B[39m\u001B[32mIn[6]\u001B[39m\u001B[32m, line 35\u001B[39m\n\u001B[32m     32\u001B[39m     xtdata.subscribe_quote(code, \u001B[33m'\u001B[39m\u001B[33m1d\u001B[39m\u001B[33m'\u001B[39m, callback = f)\n\u001B[32m     34\u001B[39m \u001B[38;5;66;03m# 阻塞主线程退出\u001B[39;00m\n\u001B[32m---> \u001B[39m\u001B[32m35\u001B[39m \u001B[43mxt_trader\u001B[49m\u001B[43m.\u001B[49m\u001B[43mrun_forever\u001B[49m\u001B[43m(\u001B[49m\u001B[43m)\u001B[49m\n\u001B[32m     36\u001B[39m \u001B[38;5;66;03m# 如果使用vscode pycharm等本地编辑器 可以进入交互模式 方便调试 （把上一行的run_forever注释掉 否则不会执行到这里）\u001B[39;00m\n\u001B[32m     37\u001B[39m interact()\n",
      "\u001B[36mFile \u001B[39m\u001B[32m~\\AppData\\Local\\Programs\\Python\\Python312\\Lib\\site-packages\\xtquant\\xttrader.py:382\u001B[39m, in \u001B[36mXtQuantTrader.run_forever\u001B[39m\u001B[34m(self)\u001B[39m\n\u001B[32m    380\u001B[39m \u001B[38;5;28;01mimport\u001B[39;00m\u001B[38;5;250m \u001B[39m\u001B[34;01mtime\u001B[39;00m\n\u001B[32m    381\u001B[39m \u001B[38;5;28;01mwhile\u001B[39;00m \u001B[38;5;28;01mTrue\u001B[39;00m:\n\u001B[32m--> \u001B[39m\u001B[32m382\u001B[39m     \u001B[43mtime\u001B[49m\u001B[43m.\u001B[49m\u001B[43msleep\u001B[49m\u001B[43m(\u001B[49m\u001B[32;43m2\u001B[39;49m\u001B[43m)\u001B[49m\n\u001B[32m    383\u001B[39m \u001B[38;5;28;01mreturn\u001B[39;00m\n",
      "\u001B[31mKeyboardInterrupt\u001B[39m: "
     ]
    }
   ],
   "execution_count": 6
  }
 ],
 "metadata": {
  "kernelspec": {
   "display_name": "Python 3",
   "language": "python",
   "name": "python3"
  },
  "language_info": {
   "codemirror_mode": {
    "name": "ipython",
    "version": 2
   },
   "file_extension": ".py",
   "mimetype": "text/x-python",
   "name": "python",
   "nbconvert_exporter": "python",
   "pygments_lexer": "ipython2",
   "version": "2.7.6"
  }
 },
 "nbformat": 4,
 "nbformat_minor": 5
}
