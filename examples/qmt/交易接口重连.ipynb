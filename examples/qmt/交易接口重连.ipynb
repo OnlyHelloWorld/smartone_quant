{
 "cells": [
  {
   "cell_type": "code",
   "id": "3012b7bd5a5cf4ba",
   "metadata": {
    "ExecuteTime": {
     "end_time": "2025-05-08T13:35:25.569126Z",
     "start_time": "2025-05-08T13:35:25.564411Z"
    }
   },
   "source": [
    "#本文用一个均线策略演示交易连接断开时怎么处理交易接口重连\n",
    "# 策略本身不严谨，不能作为实盘策略或者参考策略，本策略仅是演示重连用法\n",
    "import time\n",
    "from xtquant.xttrader import XtQuantTrader, XtQuantTraderCallback\n",
    "from xtquant.xttype import StockAccount\n",
    "from xtquant import xtconstant\n",
    "from xtquant import xtdata"
   ],
   "outputs": [],
   "execution_count": 4
  },
  {
   "metadata": {
    "ExecuteTime": {
     "end_time": "2025-05-08T13:35:25.596467Z",
     "start_time": "2025-05-08T13:35:25.583946Z"
    }
   },
   "cell_type": "code",
   "source": [
    "class MyXtQuantTraderCallback(XtQuantTraderCallback):\n",
    "    # 更多说明见 http://dict.thinktrader.net/nativeApi/xttrader.html?id=I3DJ97#%E5%A7%94%E6%89%98xtorder\n",
    "    def on_disconnected(self):\n",
    "        \"\"\"\n",
    "        连接断开\n",
    "        :return:\n",
    "        \"\"\"\n",
    "        print(\"connection lost, 交易接口断开，即将重连\")\n",
    "        global xt_trader\n",
    "        xt_trader = None\n",
    "\n",
    "    def on_stock_order(self, order):\n",
    "        print(f'委托回报: 股票代码:{order.stock_code} 账号:{order.account_id}, 订单编号:{order.order_id} 柜台合同编号:{order.order_sysid} \\\n",
    "            委托状态:{order.order_status} 成交数量:{order.order_status} 委托数量:{order.order_volume} 已成数量：{order.traded_volume}')\n",
    "\n",
    "    def on_stock_trade(self, trade):\n",
    "        print(f'成交回报: 股票代码:{trade.stock_code} 账号:{trade.account_id}, 订单编号:{trade.order_id} 柜台合同编号:{trade.order_sysid} \\\n",
    "            成交编号:{trade.traded_id} 成交数量:{trade.traded_volume} 委托数量:{trade.direction} ')\n",
    "\n",
    "    def on_order_error(self, order_error):\n",
    "        print(f\"报单失败： 订单编号：{order_error.order_id} 下单失败具体信息:{order_error.error_msg} 委托备注:{order_error.order_remark}\")\n",
    "\n",
    "    def on_cancel_error(self, cancel_error):\n",
    "        print(f\"撤单失败: 订单编号：{cancel_error.order_id} 失败具体信息:{cancel_error.error_msg} 市场：{cancel_error.market}\")\n",
    "\n",
    "    def on_order_stock_async_response(self, response):\n",
    "        print(f\"异步下单的请求序号:{response.seq}, 订单编号：{response.order_id} \")\n",
    "\n",
    "    def on_account_status(self, status):\n",
    "        print(f\"账号状态发生变化， 账号:{status.account_id} 最新状态：{status.status}\")\n",
    "\n",
    "def create_trader(xt_acc,path, session_id):\n",
    "    trader = XtQuantTrader(path, session_id,callback=MyXtQuantTraderCallback())\n",
    "    trader.start()\n",
    "    connect_result = trader.connect()\n",
    "    trader.subscribe(xt_acc)\n",
    "    return trader if connect_result == 0 else None\n",
    "\n",
    "\n",
    "def try_connect(xt_acc,path):\n",
    "    session_id_range = [i for i in range(100, 120)]\n",
    "\n",
    "    import random\n",
    "    random.shuffle(session_id_range)\n",
    "\n",
    "    # 遍历尝试session_id列表尝试连接\n",
    "    for session_id in session_id_range:\n",
    "        trader = create_trader(xt_acc,path, session_id)\n",
    "        if trader:\n",
    "            print('连接成功，session_id:{}', session_id)\n",
    "            return trader\n",
    "        else:\n",
    "            print('连接失败，session_id:{}，继续尝试下一个id', session_id)\n",
    "            continue\n",
    "\n",
    "    print('所有id都尝试后仍失败，放弃连接')\n",
    "    return None\n",
    "\n",
    "\n",
    "def get_xttrader(xt_acc,path):\n",
    "    global xt_trader\n",
    "    if xt_trader is None:\n",
    "        xt_trader = try_connect(xt_acc,path)\n",
    "    return xt_trader"
   ],
   "id": "d8b996d91098ad3",
   "outputs": [],
   "execution_count": 5
  },
  {
   "metadata": {
    "ExecuteTime": {
     "end_time": "2025-05-08T13:35:26.847689Z",
     "start_time": "2025-05-08T13:35:25.616523Z"
    }
   },
   "cell_type": "code",
   "source": [
    "if __name__ == \"__main__\":\n",
    "\n",
    "    # 注意实际连接XtQuantTrader时不要写类似while True 这种无限循环的尝试，因为每次连接都会用session_id创建一个对接文件，这样就会占满硬盘导致电脑运行异常\n",
    "    # 要控制session_id在有限的范围内尝试，这里提供10个session_id供重连尝试\n",
    "    # 当所有session_id都尝试后，程序会抛出异常。实际使用过程中当session_id用完时，可以增加邮件等通知方式提醒人工处理\n",
    "\n",
    "    #指定客户端所在路径\n",
    "    path = r'D:\\gjzqqmt\\userdata_mini'\n",
    "    xt_trader = None\n",
    "    xt_acc = StockAccount('57006529')\n",
    "    xt_trader = get_xttrader(xt_acc,path)\n",
    "    if not xt_trader:\n",
    "        raise Exception('交易接口连接失败')\n",
    "    print('交易接口连接成功， 策略开始')\n",
    "\n",
    "    stock = '513050.SH'\n",
    "    xtdata.subscribe_quote(stock, '5m','','',count=-1)\n",
    "    time.sleep(1)\n",
    "    order_record = []\n",
    "    while '093000'<=time.strftime('%H%M%S')<'150000':\n",
    "        time.sleep(3)\n",
    "        xt_trader = get_xttrader(xt_acc,path)\n",
    "\n",
    "        price = xtdata.get_market_data_ex(['close'],[stock],period='5m',)[stock]\n",
    "        #计算均线\n",
    "        ma5 = price['close'].rolling(5).mean()\n",
    "        ma10 = price['close'].rolling(10).mean()\n",
    "\n",
    "        if ma5.iloc[-1]>ma5.iloc[-10]:\n",
    "            t = price.index[-1]\n",
    "            order_flag = (t, '买')\n",
    "            if order_flag not in order_record: #防止重复下单\n",
    "                print(f'发起买入 {stock}  k线时间:{t}')\n",
    "\n",
    "                # 用最新价买100股\n",
    "                xt_trader.order_stock_async(xt_acc, stock, xtconstant.STOCK_BUY,100,xtconstant.LATEST_PRICE,0)\n",
    "                order_record.append(order_flag)\n",
    "        elif ma5.iloc[-1]<ma5[-10]:\n",
    "            t = price.index[-1]\n",
    "            order_flag = (t, '卖')\n",
    "            if order_flag not in order_record: #防止重复下单\n",
    "                print(f'发起卖出 {stock} k线时间:{t}')\n",
    "                # 用最新价买100股\n",
    "                xt_trader.order_stock_async(xt_acc, stock, xtconstant.STOCK_SELL,100,xtconstant.LATEST_PRICE,0)\n",
    "\n",
    "                order_record.append(order_flag)\n",
    "\n",
    "\n"
   ],
   "id": "initial_id",
   "outputs": [
    {
     "name": "stdout",
     "output_type": "stream",
     "text": [
      "连接成功，session_id:{} 117\n",
      "交易接口连接成功， 策略开始\n",
      "***** xtdata连接成功 *****\n",
      "服务信息: {'tag': 'sp3', 'version': '1.0'}\n",
      "服务地址: 127.0.0.1:58610\n",
      "数据路径: D:\\gjzqqmt\\bin.x64/../userdata_mini/datadir\n",
      "设置xtdata.enable_hello = False可隐藏此消息\n",
      "\n"
     ]
    }
   ],
   "execution_count": 6
  }
 ],
 "metadata": {
  "kernelspec": {
   "display_name": "Python 3",
   "language": "python",
   "name": "python3"
  },
  "language_info": {
   "codemirror_mode": {
    "name": "ipython",
    "version": 2
   },
   "file_extension": ".py",
   "mimetype": "text/x-python",
   "name": "python",
   "nbconvert_exporter": "python",
   "pygments_lexer": "ipython2",
   "version": "2.7.6"
  }
 },
 "nbformat": 4,
 "nbformat_minor": 5
}
