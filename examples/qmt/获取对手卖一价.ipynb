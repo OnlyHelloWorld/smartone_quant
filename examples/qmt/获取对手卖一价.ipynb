{
 "cells": [
  {
   "metadata": {},
   "cell_type": "markdown",
   "source": "# 获取对手价",
   "id": "bcfaa1971efac026"
  },
  {
   "metadata": {
    "ExecuteTime": {
     "end_time": "2025-04-26T12:09:24.042562Z",
     "start_time": "2025-04-26T12:09:24.034935Z"
    }
   },
   "cell_type": "code",
   "source": [
    "# 以卖出为例\n",
    "\n",
    "from xtquant import xtdata\n",
    "\n",
    "to_do_trade_list = [\"000001.SZ\"]\n",
    "tick = xtdata.get_full_tick(to_do_trade_list)\n",
    "print(f\"获取到{len(tick)}条数据，数据如下：\")\n",
    "print(tick)\n",
    "\n",
    "# 取买一价为对手价，若买一价为0，说明已经跌停，则取最新价\n",
    "for i in tick:\n",
    "    fix_price = tick[i][\"bidPrice\"][0] if tick[i][\"bidPrice\"][0] != 0 else tick[i][\"lastPrice\"]\n",
    "    print(f\"股票代码：{i}，对手价：{fix_price}\")\n"
   ],
   "id": "6fa09540c98d63f",
   "outputs": [
    {
     "name": "stdout",
     "output_type": "stream",
     "text": [
      "获取到1条数据，数据如下：\n",
      "{'000001.SZ': {'timetag': '20250426 15:00:00', 'lastPrice': 12.11, 'open': 12.11, 'high': 12.11, 'low': 12.11, 'lastClose': 11.03, 'amount': 51857400, 'volume': 42822, 'pvolume': 4282193, 'stockStatus': 5, 'openInt': 15, 'settlementPrice': 0, 'lastSettlementPrice': 11.03, 'askPrice': [0, 0, 0, 0, 0], 'bidPrice': [12.11, 12.1, 12.09, 12.08, 12.07], 'askVol': [0, 0, 0, 0, 0], 'bidVol': [978574, 2998, 13, 11, 22]}}\n",
      "股票代码：000001.SZ，对手价：12.11\n"
     ]
    }
   ],
   "execution_count": 2
  }
 ],
 "metadata": {
  "kernelspec": {
   "display_name": "Python 3",
   "language": "python",
   "name": "python3"
  },
  "language_info": {
   "codemirror_mode": {
    "name": "ipython",
    "version": 2
   },
   "file_extension": ".py",
   "mimetype": "text/x-python",
   "name": "python",
   "nbconvert_exporter": "python",
   "pygments_lexer": "ipython2",
   "version": "2.7.6"
  }
 },
 "nbformat": 4,
 "nbformat_minor": 5
}
