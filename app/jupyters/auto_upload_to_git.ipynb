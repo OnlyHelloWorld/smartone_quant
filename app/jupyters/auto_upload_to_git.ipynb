{
 "cells": [
  {
   "cell_type": "code",
   "id": "b8461cbab2ec97b3",
   "metadata": {},
   "source": [
    "import os\n",
    "import subprocess"
   ],
   "outputs": [],
   "execution_count": null
  },
  {
   "metadata": {},
   "cell_type": "code",
   "source": [
    "\n",
    "def find_git_root(start_path=None):\n",
    "    \"\"\"从指定路径开始向上查找包含 .git 的目录\"\"\"\n",
    "    path = os.path.abspath(start_path or os.getcwd())\n",
    "    while path != os.path.dirname(path):  # 一直查到根目录\n",
    "        if os.path.isdir(os.path.join(path, \".git\")):\n",
    "            return path\n",
    "        path = os.path.dirname(path)\n",
    "    return None\n",
    "\n",
    "def update_and_commit_to_git(commit_message=\"Update via Jupyter\"):\n",
    "    # 自动定位 Git 项目根目录\n",
    "    project_root = find_git_root()\n",
    "    if not project_root:\n",
    "        print(\"❌ 未找到 Git 项目根目录（.git 文件夹）。\")\n",
    "        return\n",
    "\n",
    "    print(f\"📁 检测到 Git 项目目录: {project_root}\")\n",
    "\n",
    "    try:\n",
    "        # Step 1: 拉取远程更新\n",
    "        print(\"🔄 Pulling latest changes...\")\n",
    "        subprocess.check_call([\"git\", \"pull\"], cwd=project_root)\n",
    "\n",
    "        # Step 2: 添加所有更改\n",
    "        print(\"➕ Adding changes...\")\n",
    "        subprocess.check_call([\"git\", \"add\", \".\"], cwd=project_root)\n",
    "\n",
    "        # Step 3: 检查是否有变更可提交\n",
    "        status_output = subprocess.check_output([\"git\", \"status\", \"--porcelain\"], cwd=project_root).decode().strip()\n",
    "        if not status_output:\n",
    "            print(\"✅ 没有变更需要提交。\")\n",
    "            return\n",
    "\n",
    "        # Step 4: 提交更改\n",
    "        print(\"📝 Committing changes...\")\n",
    "        subprocess.check_call([\"git\", \"commit\", \"-m\", commit_message], cwd=project_root)\n",
    "\n",
    "        # Step 5: 推送到远程仓库\n",
    "        print(\"🚀 Pushing to remote...\")\n",
    "        subprocess.check_call([\"git\", \"push\"], cwd=project_root)\n",
    "\n",
    "        print(\"🎉 Git 更新并推送成功。\")\n",
    "\n",
    "    except subprocess.CalledProcessError as e:\n",
    "        print(f\"❌ Git 命令执行失败: {e}\")\n"
   ],
   "id": "initial_id",
   "outputs": [],
   "execution_count": null
  },
  {
   "metadata": {},
   "cell_type": "code",
   "source": "update_and_commit_to_git()",
   "id": "4cf0882826a3efa",
   "outputs": [],
   "execution_count": null
  }
 ],
 "metadata": {
  "kernelspec": {
   "display_name": "smartone_quant",
   "language": "python",
   "name": "smartone_quant"
  },
  "language_info": {
   "codemirror_mode": {
    "name": "ipython",
    "version": 2
   },
   "file_extension": ".py",
   "mimetype": "text/x-python",
   "name": "python",
   "nbconvert_exporter": "python",
   "pygments_lexer": "ipython2",
   "version": "2.7.6"
  }
 },
 "nbformat": 4,
 "nbformat_minor": 5
}
