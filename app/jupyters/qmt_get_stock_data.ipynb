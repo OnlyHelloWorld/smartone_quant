{
 "cells": [
  {
   "cell_type": "code",
   "id": "f4d325fb54a2794d",
   "metadata": {},
   "source": [
    "import sys\n",
    "\n",
    "from IPython.core.interactiveshell import InteractiveShell\n",
    "\n",
    "InteractiveShell.ast_node_interactivity = \"all\"\n",
    "\n",
    "sys.path.append(r'C:\\Users\\19167\\AppData\\Local\\Programs\\Python\\smartone_quant\\app')"
   ],
   "outputs": [],
   "execution_count": null
  },
  {
   "cell_type": "code",
   "id": "7166c07bc7589eb",
   "metadata": {},
   "source": [
    "# 获取股票行情数据\n",
    "\"\"\"\n",
    "\"time\"                #时间戳\n",
    "\"open\"                #开盘价\n",
    "\"high\"                #最高价\n",
    "\"low\"                 #最低价\n",
    "\"close\"               #收盘价\n",
    "\"volume\"              #成交量\n",
    "\"amount\"              #成交额\n",
    "\"settle\"              #今结算\n",
    "\"openInterest\"        #持仓量\n",
    "\"\"\""
   ],
   "outputs": [],
   "execution_count": null
  },
  {
   "cell_type": "code",
   "id": "initial_id",
   "metadata": {},
   "source": [
    "# 日期工具\n",
    "from datetime import datetime, timedelta\n",
    "from xtquant import xtdata\n",
    "\n",
    "from app.utils.qmt_data_utils import parse_stock_data"
   ],
   "outputs": [],
   "execution_count": null
  },
  {
   "cell_type": "code",
   "id": "bc31972795a0554f",
   "metadata": {},
   "source": [
    "# 测试下载000001.SZ的日 k 行情数据并获取打印\n",
    "stock_code: str = '000001.SZ'\n",
    "print(f'开始下载股票{stock_code}的行情数据')\n",
    "# 获取一年前的日期,yyyyMMdd格式\n",
    "one_years_ago = (datetime.now() - timedelta(days=1 * 365)).strftime('%Y%m%d')\n",
    "print(f'一年前的日期为：{one_years_ago}')\n",
    "# 获取两年前的日期,yyyyMMdd格式\n",
    "two_years_ago = (datetime.now() - timedelta(days=2 * 365)).strftime('%Y%m%d')\n",
    "print(f'两年前的日期为：{two_years_ago}')\n",
    "# 获取三年前的日期,yyyyMMdd格式\n",
    "three_years_ago = (datetime.now() - timedelta(days=3 * 365)).strftime('%Y%m%d')\n",
    "print(f'三年前的日期为：{three_years_ago}')\n",
    "# 获取今天日期\n",
    "today = datetime.now().strftime('%Y%m%d')\n",
    "print(f'今天的日期为：{today}')"
   ],
   "outputs": [],
   "execution_count": null
  },
  {
   "metadata": {},
   "cell_type": "code",
   "source": [
    "# 获取市场数据\n",
    "market_data = xtdata.get_market_data(\n",
    "    field_list=[\"time\", \"open\", \"high\", \"low\", \"close\", \"volume\", \"amount\"],\n",
    "    stock_list=[\"000001.SZ\"],\n",
    "    period='1w',\n",
    "    start_time=three_years_ago,\n",
    "    end_time=today,\n",
    "    count=-1,\n",
    "    dividend_type='front',\n",
    "    fill_data=False\n",
    ")\n",
    "\n",
    "if not market_data:\n",
    "    print(f'没有获取到股票{stock_code}的行情数据')\n",
    "\n",
    "print(market_data[\"time\"])"
   ],
   "id": "2aad8bd12f66d4b8",
   "outputs": [],
   "execution_count": null
  },
  {
   "metadata": {
    "ExecuteTime": {
     "end_time": "2025-06-26T06:38:16.961169Z",
     "start_time": "2025-06-26T06:38:16.869165Z"
    }
   },
   "cell_type": "code",
   "source": [
    "from app.models.qmt_stock_weekly import QmtStockWeeklyOri\n",
    "\n",
    "# 解析股票数据\n",
    "stock_objs = parse_stock_data(market_data, model_cls=QmtStockWeeklyOri)\n",
    "stock_objs"
   ],
   "id": "9273e0041d918951",
   "outputs": [
    {
     "name": "stderr",
     "output_type": "stream",
     "text": [
      "[2025-06-26 14:38:16,875] [INFO] 正在解析股票数据: 000001.SZ\n",
      "[2025-06-26 14:38:16,946] [INFO] 解析完成，共解析出 152 条股票数据\n"
     ]
    },
    {
     "data": {
      "text/plain": [
       "[QmtStockWeeklyOri(stock_code='000001.SZ', time=datetime.datetime(2022, 7, 3, 0, 0), open=np.float64(12.4), high=np.float64(13.23), low=np.float64(12.38), close=np.float64(13.08), volume=6216923, amount=9139037824.0, id=None),\n",
       " QmtStockWeeklyOri(stock_code='000001.SZ', time=datetime.datetime(2022, 7, 10, 0, 0), open=np.float64(13.11), high=np.float64(13.43), low=np.float64(12.53), close=np.float64(12.7), volume=4363334, amount=6422741835.0, id=None),\n",
       " QmtStockWeeklyOri(stock_code='000001.SZ', time=datetime.datetime(2022, 7, 17, 0, 0), open=np.float64(12.66), high=np.float64(12.89), low=np.float64(11.38), close=np.float64(11.4), volume=7761328, amount=10693452836.0, id=None),\n",
       " QmtStockWeeklyOri(stock_code='000001.SZ', time=datetime.datetime(2022, 7, 24, 0, 0), open=np.float64(11.41), high=np.float64(11.63), low=np.float64(11.01), close=np.float64(11.2), volume=6057460, amount=7963091533.0, id=None),\n",
       " QmtStockWeeklyOri(stock_code='000001.SZ', time=datetime.datetime(2022, 7, 31, 0, 0), open=np.float64(11.19), high=np.float64(11.3), low=np.float64(11.04), close=np.float64(11.07), volume=4293763, amount=5497694150.0, id=None),\n",
       " QmtStockWeeklyOri(stock_code='000001.SZ', time=datetime.datetime(2022, 8, 7, 0, 0), open=np.float64(11.05), high=np.float64(11.05), low=np.float64(10.33), close=np.float64(10.7), volume=4512853, amount=5508226064.0, id=None),\n",
       " QmtStockWeeklyOri(stock_code='000001.SZ', time=datetime.datetime(2022, 8, 14, 0, 0), open=np.float64(10.64), high=np.float64(10.8), low=np.float64(10.41), close=np.float64(10.77), volume=4013279, amount=4899187470.0, id=None),\n",
       " QmtStockWeeklyOri(stock_code='000001.SZ', time=datetime.datetime(2022, 8, 21, 0, 0), open=np.float64(10.68), high=np.float64(11.14), low=np.float64(10.46), close=np.float64(10.96), volume=6527859, amount=8062057949.0, id=None),\n",
       " QmtStockWeeklyOri(stock_code='000001.SZ', time=datetime.datetime(2022, 8, 28, 0, 0), open=np.float64(10.97), high=np.float64(11.14), low=np.float64(10.67), close=np.float64(11.0), volume=5346560, amount=6672153359.0, id=None),\n",
       " QmtStockWeeklyOri(stock_code='000001.SZ', time=datetime.datetime(2022, 9, 4, 0, 0), open=np.float64(10.89), high=np.float64(11.18), low=np.float64(10.67), close=np.float64(10.9), volume=5025590, amount=6304145253.0, id=None),\n",
       " QmtStockWeeklyOri(stock_code='000001.SZ', time=datetime.datetime(2022, 9, 11, 0, 0), open=np.float64(10.85), high=np.float64(11.13), low=np.float64(10.67), close=np.float64(11.11), volume=4915562, amount=6149517846.0, id=None),\n",
       " QmtStockWeeklyOri(stock_code='000001.SZ', time=datetime.datetime(2022, 9, 18, 0, 0), open=np.float64(11.27), high=np.float64(11.49), low=np.float64(10.95), close=np.float64(10.95), volume=5779192, amount=7431254483.0, id=None),\n",
       " QmtStockWeeklyOri(stock_code='000001.SZ', time=datetime.datetime(2022, 9, 25, 0, 0), open=np.float64(10.93), high=np.float64(11.06), low=np.float64(10.59), close=np.float64(10.68), volume=3378881, amount=4183942027.0, id=None),\n",
       " QmtStockWeeklyOri(stock_code='000001.SZ', time=datetime.datetime(2022, 10, 2, 0, 0), open=np.float64(10.55), high=np.float64(10.67), low=np.float64(10.2), close=np.float64(10.23), volume=3929225, amount=4726317743.0, id=None),\n",
       " QmtStockWeeklyOri(stock_code='000001.SZ', time=datetime.datetime(2022, 10, 16, 0, 0), open=np.float64(10.09), high=np.float64(10.16), low=np.float64(9.7), close=np.float64(9.92), volume=3889583, amount=4473123753.0, id=None),\n",
       " QmtStockWeeklyOri(stock_code='000001.SZ', time=datetime.datetime(2022, 10, 23, 0, 0), open=np.float64(9.81), high=np.float64(10.03), low=np.float64(9.46), close=np.float64(9.48), volume=4463147, amount=5066486600.0, id=None),\n",
       " QmtStockWeeklyOri(stock_code='000001.SZ', time=datetime.datetime(2022, 10, 30, 0, 0), open=np.float64(9.48), high=np.float64(9.49), low=np.float64(8.8), close=np.float64(8.81), volume=5859530, amount=6263082332.0, id=None),\n",
       " QmtStockWeeklyOri(stock_code='000001.SZ', time=datetime.datetime(2022, 11, 6, 0, 0), open=np.float64(8.72), high=np.float64(9.24), low=np.float64(8.61), close=np.float64(9.21), volume=6426966, amount=6786429828.0, id=None),\n",
       " QmtStockWeeklyOri(stock_code='000001.SZ', time=datetime.datetime(2022, 11, 13, 0, 0), open=np.float64(9.2), high=np.float64(10.05), low=np.float64(9.08), close=np.float64(9.82), volume=5500503, amount=6090018238.0, id=None),\n",
       " QmtStockWeeklyOri(stock_code='000001.SZ', time=datetime.datetime(2022, 11, 20, 0, 0), open=np.float64(10.09), high=np.float64(10.67), low=np.float64(9.96), close=np.float64(9.98), volume=8683818, amount=10333076551.0, id=None),\n",
       " QmtStockWeeklyOri(stock_code='000001.SZ', time=datetime.datetime(2022, 11, 27, 0, 0), open=np.float64(9.87), high=np.float64(10.62), low=np.float64(9.61), close=np.float64(10.56), volume=6344165, amount=7492642651.0, id=None),\n",
       " QmtStockWeeklyOri(stock_code='000001.SZ', time=datetime.datetime(2022, 12, 4, 0, 0), open=np.float64(10.29), high=np.float64(12.05), low=np.float64(10.08), close=np.float64(11.29), volume=12697360, amount=16262623723.000002, id=None),\n",
       " QmtStockWeeklyOri(stock_code='000001.SZ', time=datetime.datetime(2022, 12, 11, 0, 0), open=np.float64(11.48), high=np.float64(12.14), low=np.float64(11.4), close=np.float64(12.09), volume=7599138, amount=10173042702.0, id=None),\n",
       " QmtStockWeeklyOri(stock_code='000001.SZ', time=datetime.datetime(2022, 12, 18, 0, 0), open=np.float64(11.97), high=np.float64(11.97), low=np.float64(11.33), close=np.float64(11.73), volume=5028531, amount=6650134425.0, id=None),\n",
       " QmtStockWeeklyOri(stock_code='000001.SZ', time=datetime.datetime(2022, 12, 25, 0, 0), open=np.float64(11.72), high=np.float64(11.86), low=np.float64(11.06), close=np.float64(11.37), volume=3778488, amount=4904714507.0, id=None),\n",
       " QmtStockWeeklyOri(stock_code='000001.SZ', time=datetime.datetime(2023, 1, 1, 0, 0), open=np.float64(11.38), high=np.float64(11.77), low=np.float64(11.1), close=np.float64(11.55), volume=3959242, amount=5164297881.0, id=None),\n",
       " QmtStockWeeklyOri(stock_code='000001.SZ', time=datetime.datetime(2023, 1, 8, 0, 0), open=np.float64(11.59), high=np.float64(13.13), low=np.float64(11.44), close=np.float64(13.01), volume=7244981, amount=10247463962.0, id=None),\n",
       " QmtStockWeeklyOri(stock_code='000001.SZ', time=datetime.datetime(2023, 1, 15, 0, 0), open=np.float64(13.14), high=np.float64(13.34), low=np.float64(12.78), close=np.float64(13.34), volume=4732429, amount=6951461787.0, id=None),\n",
       " QmtStockWeeklyOri(stock_code='000001.SZ', time=datetime.datetime(2023, 1, 22, 0, 0), open=np.float64(13.34), high=np.float64(13.67), low=np.float64(13.16), close=np.float64(13.52), volume=4464774, amount=6719803941.0, id=None),\n",
       " QmtStockWeeklyOri(stock_code='000001.SZ', time=datetime.datetime(2023, 2, 5, 0, 0), open=np.float64(13.99), high=np.float64(14.13), low=np.float64(12.55), close=np.float64(12.71), volume=6882520, amount=10154829720.0, id=None),\n",
       " QmtStockWeeklyOri(stock_code='000001.SZ', time=datetime.datetime(2023, 2, 12, 0, 0), open=np.float64(12.49), high=np.float64(12.71), low=np.float64(12.25), close=np.float64(12.37), volume=4522597, amount=6361080753.0, id=None),\n",
       " QmtStockWeeklyOri(stock_code='000001.SZ', time=datetime.datetime(2023, 2, 19, 0, 0), open=np.float64(12.33), high=np.float64(12.37), low=np.float64(11.82), close=np.float64(11.82), volume=6157722, amount=8455072431.0, id=None),\n",
       " QmtStockWeeklyOri(stock_code='000001.SZ', time=datetime.datetime(2023, 2, 26, 0, 0), open=np.float64(11.89), high=np.float64(12.71), low=np.float64(11.88), close=np.float64(12.25), volume=5300088, amount=7413058506.0, id=None),\n",
       " QmtStockWeeklyOri(stock_code='000001.SZ', time=datetime.datetime(2023, 3, 5, 0, 0), open=np.float64(12.14), high=np.float64(12.83), low=np.float64(12.0), close=np.float64(12.68), volume=4159681, amount=5840998804.0, id=None),\n",
       " QmtStockWeeklyOri(stock_code='000001.SZ', time=datetime.datetime(2023, 3, 12, 0, 0), open=np.float64(12.69), high=np.float64(12.69), low=np.float64(11.39), close=np.float64(11.53), volume=6425049, amount=8711772465.0, id=None),\n",
       " QmtStockWeeklyOri(stock_code='000001.SZ', time=datetime.datetime(2023, 3, 19, 0, 0), open=np.float64(11.51), high=np.float64(11.68), low=np.float64(11.04), close=np.float64(11.14), volume=5602681, amount=7244763342.0, id=None),\n",
       " QmtStockWeeklyOri(stock_code='000001.SZ', time=datetime.datetime(2023, 3, 26, 0, 0), open=np.float64(11.15), high=np.float64(11.29), low=np.float64(10.89), close=np.float64(11.21), volume=4332075, amount=5513588505.0, id=None),\n",
       " QmtStockWeeklyOri(stock_code='000001.SZ', time=datetime.datetime(2023, 4, 2, 0, 0), open=np.float64(11.19), high=np.float64(11.2), low=np.float64(10.8), close=np.float64(10.92), volume=3968392, amount=4997116842.0, id=None),\n",
       " QmtStockWeeklyOri(stock_code='000001.SZ', time=datetime.datetime(2023, 4, 9, 0, 0), open=np.float64(10.94), high=np.float64(11.11), low=np.float64(10.85), close=np.float64(11.01), volume=2559132, amount=3225847160.0, id=None),\n",
       " QmtStockWeeklyOri(stock_code='000001.SZ', time=datetime.datetime(2023, 4, 16, 0, 0), open=np.float64(11.03), high=np.float64(11.29), low=np.float64(10.69), close=np.float64(11.08), volume=4757505, amount=5992702317.0, id=None),\n",
       " QmtStockWeeklyOri(stock_code='000001.SZ', time=datetime.datetime(2023, 4, 23, 0, 0), open=np.float64(11.05), high=np.float64(11.59), low=np.float64(10.87), close=np.float64(10.89), volume=5587983, amount=7182668993.0, id=None),\n",
       " QmtStockWeeklyOri(stock_code='000001.SZ', time=datetime.datetime(2023, 4, 30, 0, 0), open=np.float64(10.87), high=np.float64(11.17), low=np.float64(10.38), close=np.float64(10.94), volume=6210180, amount=7630633823.0, id=None),\n",
       " QmtStockWeeklyOri(stock_code='000001.SZ', time=datetime.datetime(2023, 5, 7, 0, 0), open=np.float64(10.79), high=np.float64(11.5), low=np.float64(10.58), close=np.float64(11.3), volume=3240453, amount=4147127176.0, id=None),\n",
       " QmtStockWeeklyOri(stock_code='000001.SZ', time=datetime.datetime(2023, 5, 14, 0, 0), open=np.float64(11.33), high=np.float64(11.99), low=np.float64(11.0), close=np.float64(11.01), volume=8079668, amount=10608856547.0, id=None),\n",
       " QmtStockWeeklyOri(stock_code='000001.SZ', time=datetime.datetime(2023, 5, 21, 0, 0), open=np.float64(11.07), high=np.float64(11.31), low=np.float64(10.71), close=np.float64(10.73), volume=4056850, amount=5099344653.0, id=None),\n",
       " QmtStockWeeklyOri(stock_code='000001.SZ', time=datetime.datetime(2023, 5, 28, 0, 0), open=np.float64(10.7), high=np.float64(10.84), low=np.float64(10.2), close=np.float64(10.49), volume=3462116, amount=4193002058.0, id=None),\n",
       " QmtStockWeeklyOri(stock_code='000001.SZ', time=datetime.datetime(2023, 6, 4, 0, 0), open=np.float64(10.5), high=np.float64(10.52), low=np.float64(9.89), close=np.float64(10.32), volume=4474524, amount=5271499464.0, id=None),\n",
       " QmtStockWeeklyOri(stock_code='000001.SZ', time=datetime.datetime(2023, 6, 11, 0, 0), open=np.float64(10.27), high=np.float64(10.59), low=np.float64(10.21), close=np.float64(10.27), volume=4183499, amount=5003153113.0, id=None),\n",
       " QmtStockWeeklyOri(stock_code='000001.SZ', time=datetime.datetime(2023, 6, 18, 0, 0), open=np.float64(10.21), high=np.float64(10.4), low=np.float64(10.06), close=np.float64(10.3), volume=4445270, amount=5177012597.0, id=None),\n",
       " QmtStockWeeklyOri(stock_code='000001.SZ', time=datetime.datetime(2023, 6, 25, 0, 0), open=np.float64(10.3), high=np.float64(10.3), low=np.float64(10.01), close=np.float64(10.02), volume=2115131, amount=2420406966.0, id=None),\n",
       " QmtStockWeeklyOri(stock_code='000001.SZ', time=datetime.datetime(2023, 7, 2, 0, 0), open=np.float64(9.97), high=np.float64(10.0), low=np.float64(9.82), close=np.float64(9.9), volume=2508634, amount=2817565510.0, id=None),\n",
       " QmtStockWeeklyOri(stock_code='000001.SZ', time=datetime.datetime(2023, 7, 9, 0, 0), open=np.float64(9.91), high=np.float64(10.2), low=np.float64(9.85), close=np.float64(9.87), volume=3006411, amount=3407108250.0, id=None),\n",
       " QmtStockWeeklyOri(stock_code='000001.SZ', time=datetime.datetime(2023, 7, 16, 0, 0), open=np.float64(9.92), high=np.float64(10.22), low=np.float64(9.84), close=np.float64(10.13), volume=3646152, amount=4134088304.0, id=None),\n",
       " QmtStockWeeklyOri(stock_code='000001.SZ', time=datetime.datetime(2023, 7, 23, 0, 0), open=np.float64(10.08), high=np.float64(10.11), low=np.float64(9.89), close=np.float64(10.01), volume=2393678, amount=2706406005.0, id=None),\n",
       " QmtStockWeeklyOri(stock_code='000001.SZ', time=datetime.datetime(2023, 7, 30, 0, 0), open=np.float64(10.0), high=np.float64(10.97), low=np.float64(9.91), close=np.float64(10.93), volume=6673682, amount=7868845218.0, id=None),\n",
       " QmtStockWeeklyOri(stock_code='000001.SZ', time=datetime.datetime(2023, 8, 6, 0, 0), open=np.float64(10.97), high=np.float64(11.2), low=np.float64(10.6), close=np.float64(10.97), volume=6407566, amount=7847066203.0, id=None),\n",
       " QmtStockWeeklyOri(stock_code='000001.SZ', time=datetime.datetime(2023, 8, 13, 0, 0), open=np.float64(10.88), high=np.float64(10.94), low=np.float64(10.56), close=np.float64(10.56), volume=3369360, amount=4076047593.0, id=None),\n",
       " QmtStockWeeklyOri(stock_code='000001.SZ', time=datetime.datetime(2023, 8, 20, 0, 0), open=np.float64(10.43), high=np.float64(10.52), low=np.float64(10.13), close=np.float64(10.23), volume=3886514, amount=4528394280.0, id=None),\n",
       " QmtStockWeeklyOri(stock_code='000001.SZ', time=datetime.datetime(2023, 8, 27, 0, 0), open=np.float64(10.23), high=np.float64(10.25), low=np.float64(9.72), close=np.float64(9.9), volume=4136737, amount=4658692821.0, id=None),\n",
       " QmtStockWeeklyOri(stock_code='000001.SZ', time=datetime.datetime(2023, 9, 3, 0, 0), open=np.float64(10.51), high=np.float64(10.6), low=np.float64(9.79), close=np.float64(9.99), volume=7283388, amount=8276660553.0, id=None),\n",
       " QmtStockWeeklyOri(stock_code='000001.SZ', time=datetime.datetime(2023, 9, 10, 0, 0), open=np.float64(10.02), high=np.float64(10.26), low=np.float64(9.9), close=np.float64(9.94), volume=3868119, amount=4415000872.0, id=None),\n",
       " QmtStockWeeklyOri(stock_code='000001.SZ', time=datetime.datetime(2023, 9, 17, 0, 0), open=np.float64(9.97), high=np.float64(10.07), low=np.float64(9.87), close=np.float64(9.89), volume=3082315, amount=3481006285.0, id=None),\n",
       " QmtStockWeeklyOri(stock_code='000001.SZ', time=datetime.datetime(2023, 9, 24, 0, 0), open=np.float64(9.89), high=np.float64(9.92), low=np.float64(9.7), close=np.float64(9.91), volume=3319275, amount=3702090421.0, id=None),\n",
       " QmtStockWeeklyOri(stock_code='000001.SZ', time=datetime.datetime(2023, 10, 1, 0, 0), open=np.float64(9.91), high=np.float64(9.99), low=np.float64(9.81), close=np.float64(9.87), volume=2217199, amount=2485463862.0000005, id=None),\n",
       " QmtStockWeeklyOri(stock_code='000001.SZ', time=datetime.datetime(2023, 10, 15, 0, 0), open=np.float64(9.83), high=np.float64(9.87), low=np.float64(9.62), close=np.float64(9.67), volume=3778234, amount=4181456570.0, id=None),\n",
       " QmtStockWeeklyOri(stock_code='000001.SZ', time=datetime.datetime(2023, 10, 22, 0, 0), open=np.float64(9.67), high=np.float64(9.72), low=np.float64(9.18), close=np.float64(9.27), volume=3362074, amount=3637672823.0, id=None),\n",
       " QmtStockWeeklyOri(stock_code='000001.SZ', time=datetime.datetime(2023, 10, 29, 0, 0), open=np.float64(9.26), high=np.float64(9.28), low=np.float64(8.97), close=np.float64(9.12), volume=4222269, amount=4409035364.0, id=None),\n",
       " QmtStockWeeklyOri(stock_code='000001.SZ', time=datetime.datetime(2023, 11, 5, 0, 0), open=np.float64(9.07), high=np.float64(9.27), low=np.float64(9.02), close=np.float64(9.15), volume=3350738, amount=3506266397.0, id=None),\n",
       " QmtStockWeeklyOri(stock_code='000001.SZ', time=datetime.datetime(2023, 11, 12, 0, 0), open=np.float64(9.18), high=np.float64(9.36), low=np.float64(8.96), close=np.float64(8.97), volume=4209927, amount=4422933199.0, id=None),\n",
       " QmtStockWeeklyOri(stock_code='000001.SZ', time=datetime.datetime(2023, 11, 19, 0, 0), open=np.float64(8.98), high=np.float64(9.12), low=np.float64(8.79), close=np.float64(8.82), volume=4302026, amount=4420551372.0, id=None),\n",
       " QmtStockWeeklyOri(stock_code='000001.SZ', time=datetime.datetime(2023, 11, 26, 0, 0), open=np.float64(8.82), high=np.float64(9.02), low=np.float64(8.74), close=np.float64(8.77), volume=3949535, amount=4022781386.0, id=None),\n",
       " QmtStockWeeklyOri(stock_code='000001.SZ', time=datetime.datetime(2023, 12, 3, 0, 0), open=np.float64(8.76), high=np.float64(8.76), low=np.float64(8.25), close=np.float64(8.33), volume=4769782, amount=4680144511.0, id=None),\n",
       " QmtStockWeeklyOri(stock_code='000001.SZ', time=datetime.datetime(2023, 12, 10, 0, 0), open=np.float64(8.34), high=np.float64(8.35), low=np.float64(7.97), close=np.float64(7.97), volume=3752404, amount=3558544436.0, id=None),\n",
       " QmtStockWeeklyOri(stock_code='000001.SZ', time=datetime.datetime(2023, 12, 17, 0, 0), open=np.float64(7.89), high=np.float64(8.17), low=np.float64(7.8), close=np.float64(7.88), volume=4781821, amount=4429172185.0, id=None),\n",
       " QmtStockWeeklyOri(stock_code='000001.SZ', time=datetime.datetime(2023, 12, 24, 0, 0), open=np.float64(7.85), high=np.float64(7.95), low=np.float64(7.66), close=np.float64(7.87), volume=4036823, amount=3687012891.0, id=None),\n",
       " QmtStockWeeklyOri(stock_code='000001.SZ', time=datetime.datetime(2023, 12, 31, 0, 0), open=np.float64(7.85), high=np.float64(8.15), low=np.float64(7.69), close=np.float64(8.06), volume=4112846, amount=3808874848.0, id=None),\n",
       " QmtStockWeeklyOri(stock_code='000001.SZ', time=datetime.datetime(2024, 1, 7, 0, 0), open=np.float64(8.06), high=np.float64(8.11), low=np.float64(7.74), close=np.float64(7.94), volume=4747792, amount=4389545639.0, id=None),\n",
       " QmtStockWeeklyOri(stock_code='000001.SZ', time=datetime.datetime(2024, 1, 14, 0, 0), open=np.float64(7.9), high=np.float64(7.97), low=np.float64(7.7), close=np.float64(7.86), volume=4453239, amount=4078061921.0, id=None),\n",
       " QmtStockWeeklyOri(stock_code='000001.SZ', time=datetime.datetime(2024, 1, 21, 0, 0), open=np.float64(7.83), high=np.float64(8.06), low=np.float64(7.67), close=np.float64(7.84), volume=6384855, amount=5880860173.0, id=None),\n",
       " QmtStockWeeklyOri(stock_code='000001.SZ', time=datetime.datetime(2024, 1, 28, 0, 0), open=np.float64(7.83), high=np.float64(8.34), low=np.float64(7.63), close=np.float64(8.29), volume=8909789, amount=8311304146.0, id=None),\n",
       " QmtStockWeeklyOri(stock_code='000001.SZ', time=datetime.datetime(2024, 2, 4, 0, 0), open=np.float64(8.36), high=np.float64(8.55), low=np.float64(7.74), close=np.float64(7.94), volume=8002065, amount=7628274946.0, id=None),\n",
       " QmtStockWeeklyOri(stock_code='000001.SZ', time=datetime.datetime(2024, 2, 11, 0, 0), open=np.float64(7.86), high=np.float64(8.35), low=np.float64(7.78), close=np.float64(8.34), volume=7517831, amount=7143831509.0, id=None),\n",
       " QmtStockWeeklyOri(stock_code='000001.SZ', time=datetime.datetime(2024, 2, 25, 0, 0), open=np.float64(8.43), high=np.float64(9.91), low=np.float64(8.32), close=np.float64(9.52), volume=16273897, amount=17183388308.0, id=None),\n",
       " QmtStockWeeklyOri(stock_code='000001.SZ', time=datetime.datetime(2024, 3, 3, 0, 0), open=np.float64(9.45), high=np.float64(9.55), low=np.float64(9.07), close=np.float64(9.16), volume=11600654, amount=12238282744.0, id=None),\n",
       " QmtStockWeeklyOri(stock_code='000001.SZ', time=datetime.datetime(2024, 3, 10, 0, 0), open=np.float64(9.12), high=np.float64(9.31), low=np.float64(8.93), close=np.float64(9.05), volume=7949029, amount=8269727740.0, id=None),\n",
       " QmtStockWeeklyOri(stock_code='000001.SZ', time=datetime.datetime(2024, 3, 17, 0, 0), open=np.float64(9.05), high=np.float64(9.42), low=np.float64(8.87), close=np.float64(9.27), volume=9779582, amount=10239165548.0, id=None),\n",
       " QmtStockWeeklyOri(stock_code='000001.SZ', time=datetime.datetime(2024, 3, 24, 0, 0), open=np.float64(9.23), high=np.float64(9.28), low=np.float64(8.98), close=np.float64(9.03), volume=5729884, amount=5993555250.0, id=None),\n",
       " QmtStockWeeklyOri(stock_code='000001.SZ', time=datetime.datetime(2024, 3, 31, 0, 0), open=np.float64(9.02), high=np.float64(9.33), low=np.float64(8.99), close=np.float64(9.19), volume=6142307, amount=6456390163.0, id=None),\n",
       " QmtStockWeeklyOri(stock_code='000001.SZ', time=datetime.datetime(2024, 4, 7, 0, 0), open=np.float64(9.19), high=np.float64(9.35), low=np.float64(9.09), close=np.float64(9.13), volume=3258392, amount=3440120062.0, id=None),\n",
       " QmtStockWeeklyOri(stock_code='000001.SZ', time=datetime.datetime(2024, 4, 14, 0, 0), open=np.float64(9.09), high=np.float64(9.16), low=np.float64(8.71), close=np.float64(8.73), volume=5325576, amount=5478287518.0, id=None),\n",
       " QmtStockWeeklyOri(stock_code='000001.SZ', time=datetime.datetime(2024, 4, 21, 0, 0), open=np.float64(8.74), high=np.float64(9.7), low=np.float64(8.73), close=np.float64(9.36), volume=9787469, amount=10336756408.0, id=None),\n",
       " QmtStockWeeklyOri(stock_code='000001.SZ', time=datetime.datetime(2024, 4, 28, 0, 0), open=np.float64(9.31), high=np.float64(9.48), low=np.float64(9.12), close=np.float64(9.27), volume=6912853, amount=7298568332.0, id=None),\n",
       " QmtStockWeeklyOri(stock_code='000001.SZ', time=datetime.datetime(2024, 5, 5, 0, 0), open=np.float64(9.23), high=np.float64(9.57), low=np.float64(9.19), close=np.float64(9.46), volume=3493734, amount=3768758592.0, id=None),\n",
       " QmtStockWeeklyOri(stock_code='000001.SZ', time=datetime.datetime(2024, 5, 12, 0, 0), open=np.float64(9.63), high=np.float64(9.78), low=np.float64(9.38), close=np.float64(9.61), volume=6930246, amount=7523394937.0, id=None),\n",
       " QmtStockWeeklyOri(stock_code='000001.SZ', time=datetime.datetime(2024, 5, 19, 0, 0), open=np.float64(9.57), high=np.float64(10.09), low=np.float64(9.48), close=np.float64(10.09), volume=9264621, amount=10260432668.0, id=None),\n",
       " QmtStockWeeklyOri(stock_code='000001.SZ', time=datetime.datetime(2024, 5, 26, 0, 0), open=np.float64(10.1), high=np.float64(10.41), low=np.float64(9.97), close=np.float64(9.98), volume=9555689, amount=10974061612.0, id=None),\n",
       " QmtStockWeeklyOri(stock_code='000001.SZ', time=datetime.datetime(2024, 6, 2, 0, 0), open=np.float64(9.98), high=np.float64(10.25), low=np.float64(9.73), close=np.float64(9.78), volume=6255698, amount=7078681789.0, id=None),\n",
       " QmtStockWeeklyOri(stock_code='000001.SZ', time=datetime.datetime(2024, 6, 9, 0, 0), open=np.float64(9.79), high=np.float64(9.8), low=np.float64(9.54), close=np.float64(9.66), volume=5546128, amount=6077250991.0, id=None),\n",
       " QmtStockWeeklyOri(stock_code='000001.SZ', time=datetime.datetime(2024, 6, 16, 0, 0), open=np.float64(9.65), high=np.float64(9.69), low=np.float64(9.38), close=np.float64(9.57), volume=5136553, amount=5452606814.0, id=None),\n",
       " QmtStockWeeklyOri(stock_code='000001.SZ', time=datetime.datetime(2024, 6, 23, 0, 0), open=np.float64(9.52), high=np.float64(9.6), low=np.float64(9.34), close=np.float64(9.39), volume=3638227, amount=3670422734.0, id=None),\n",
       " QmtStockWeeklyOri(stock_code='000001.SZ', time=datetime.datetime(2024, 6, 30, 0, 0), open=np.float64(9.36), high=np.float64(9.65), low=np.float64(9.27), close=np.float64(9.54), volume=4192646, amount=4226905628.0, id=None),\n",
       " QmtStockWeeklyOri(stock_code='000001.SZ', time=datetime.datetime(2024, 7, 7, 0, 0), open=np.float64(9.48), high=np.float64(9.87), low=np.float64(9.31), close=np.float64(9.36), volume=5888902, amount=6029461392.0, id=None),\n",
       " QmtStockWeeklyOri(stock_code='000001.SZ', time=datetime.datetime(2024, 7, 14, 0, 0), open=np.float64(9.33), high=np.float64(9.7), low=np.float64(9.24), close=np.float64(9.7), volume=4710566, amount=4764402010.0, id=None),\n",
       " QmtStockWeeklyOri(stock_code='000001.SZ', time=datetime.datetime(2024, 7, 21, 0, 0), open=np.float64(9.7), high=np.float64(9.82), low=np.float64(9.63), close=np.float64(9.76), volume=5018372, amount=5192041038.0, id=None),\n",
       " QmtStockWeeklyOri(stock_code='000001.SZ', time=datetime.datetime(2024, 7, 28, 0, 0), open=np.float64(9.75), high=np.float64(9.77), low=np.float64(9.36), close=np.float64(9.42), volume=4525109, amount=4595621019.0, id=None),\n",
       " QmtStockWeeklyOri(stock_code='000001.SZ', time=datetime.datetime(2024, 8, 4, 0, 0), open=np.float64(9.41), high=np.float64(9.71), low=np.float64(9.36), close=np.float64(9.53), volume=3815839, amount=3877705932.0, id=None),\n",
       " QmtStockWeeklyOri(stock_code='000001.SZ', time=datetime.datetime(2024, 8, 11, 0, 0), open=np.float64(9.5), high=np.float64(9.61), low=np.float64(9.28), close=np.float64(9.43), volume=3772809, amount=3776261797.0, id=None),\n",
       " QmtStockWeeklyOri(stock_code='000001.SZ', time=datetime.datetime(2024, 8, 18, 0, 0), open=np.float64(9.41), high=np.float64(9.6), low=np.float64(9.26), close=np.float64(9.52), volume=3448085, amount=3459586748.0, id=None),\n",
       " QmtStockWeeklyOri(stock_code='000001.SZ', time=datetime.datetime(2024, 8, 25, 0, 0), open=np.float64(9.52), high=np.float64(9.89), low=np.float64(9.51), close=np.float64(9.86), volume=6267996, amount=6483297824.0, id=None),\n",
       " QmtStockWeeklyOri(stock_code='000001.SZ', time=datetime.datetime(2024, 9, 1, 0, 0), open=np.float64(9.89), high=np.float64(9.94), low=np.float64(9.5), close=np.float64(9.55), volume=4898095, amount=5045587546.0, id=None),\n",
       " QmtStockWeeklyOri(stock_code='000001.SZ', time=datetime.datetime(2024, 9, 8, 0, 0), open=np.float64(9.51), high=np.float64(9.6), low=np.float64(9.37), close=np.float64(9.47), volume=4206483, amount=4244361757.0, id=None),\n",
       " QmtStockWeeklyOri(stock_code='000001.SZ', time=datetime.datetime(2024, 9, 15, 0, 0), open=np.float64(9.44), high=np.float64(9.46), low=np.float64(9.0), close=np.float64(9.09), volume=4664099, amount=4577777816.0, id=None),\n",
       " QmtStockWeeklyOri(stock_code='000001.SZ', time=datetime.datetime(2024, 9, 22, 0, 0), open=np.float64(9.11), high=np.float64(9.29), low=np.float64(9.05), close=np.float64(9.29), volume=1925201, amount=1886128006.0, id=None),\n",
       " QmtStockWeeklyOri(stock_code='000001.SZ', time=datetime.datetime(2024, 9, 29, 0, 0), open=np.float64(9.28), high=np.float64(10.95), low=np.float64(9.26), close=np.float64(10.81), volume=11622288, amount=12541342476.0, id=None),\n",
       " QmtStockWeeklyOri(stock_code='000001.SZ', time=datetime.datetime(2024, 10, 6, 0, 0), open=np.float64(11.01), high=np.float64(11.69), low=np.float64(10.95), close=np.float64(11.6), volume=5430284, amount=6467438837.000001, id=None),\n",
       " QmtStockWeeklyOri(stock_code='000001.SZ', time=datetime.datetime(2024, 10, 13, 0, 0), open=np.float64(12.82), high=np.float64(12.82), low=np.float64(11.05), close=np.float64(11.36), volume=15655636, amount=19326135422.0, id=None),\n",
       " QmtStockWeeklyOri(stock_code='000001.SZ', time=datetime.datetime(2024, 10, 20, 0, 0), open=np.float64(11.62), high=np.float64(11.87), low=np.float64(11.32), close=np.float64(11.68), volume=10646292, amount=12783332244.0, id=None),\n",
       " QmtStockWeeklyOri(stock_code='000001.SZ', time=datetime.datetime(2024, 10, 27, 0, 0), open=np.float64(11.58), high=np.float64(11.58), low=np.float64(11.27), close=np.float64(11.35), volume=7927362, amount=9337358655.0, id=None),\n",
       " QmtStockWeeklyOri(stock_code='000001.SZ', time=datetime.datetime(2024, 11, 3, 0, 0), open=np.float64(11.32), high=np.float64(11.38), low=np.float64(10.88), close=np.float64(11.07), volume=6689931, amount=7674708644.0, id=None),\n",
       " QmtStockWeeklyOri(stock_code='000001.SZ', time=datetime.datetime(2024, 11, 10, 0, 0), open=np.float64(11.07), high=np.float64(11.65), low=np.float64(10.9), close=np.float64(11.36), volume=8397168, amount=9767180419.0, id=None),\n",
       " QmtStockWeeklyOri(stock_code='000001.SZ', time=datetime.datetime(2024, 11, 17, 0, 0), open=np.float64(11.27), high=np.float64(11.48), low=np.float64(11.06), close=np.float64(11.08), volume=6666445, amount=7731601782.0, id=None),\n",
       " QmtStockWeeklyOri(stock_code='000001.SZ', time=datetime.datetime(2024, 11, 24, 0, 0), open=np.float64(11.27), high=np.float64(11.68), low=np.float64(10.92), close=np.float64(10.92), volume=10022658, amount=11723798845.0, id=None),\n",
       " QmtStockWeeklyOri(stock_code='000001.SZ', time=datetime.datetime(2024, 12, 1, 0, 0), open=np.float64(10.92), high=np.float64(11.1), low=np.float64(10.78), close=np.float64(11.02), volume=4653933, amount=5260303938.0, id=None),\n",
       " QmtStockWeeklyOri(stock_code='000001.SZ', time=datetime.datetime(2024, 12, 8, 0, 0), open=np.float64(11.03), high=np.float64(11.34), low=np.float64(10.95), close=np.float64(11.3), volume=5478842, amount=6290810072.0, id=None),\n",
       " QmtStockWeeklyOri(stock_code='000001.SZ', time=datetime.datetime(2024, 12, 15, 0, 0), open=np.float64(11.27), high=np.float64(11.59), low=np.float64(11.2), close=np.float64(11.2), volume=6429589, amount=7556068241.0, id=None),\n",
       " QmtStockWeeklyOri(stock_code='000001.SZ', time=datetime.datetime(2024, 12, 22, 0, 0), open=np.float64(11.2), high=np.float64(11.38), low=np.float64(11.16), close=np.float64(11.26), volume=4036453, amount=4689640572.0, id=None),\n",
       " QmtStockWeeklyOri(stock_code='000001.SZ', time=datetime.datetime(2024, 12, 29, 0, 0), open=np.float64(11.28), high=np.float64(11.66), low=np.float64(11.28), close=np.float64(11.47), volume=6775612, amount=8011303782.0, id=None),\n",
       " QmtStockWeeklyOri(stock_code='000001.SZ', time=datetime.datetime(2025, 1, 5, 0, 0), open=np.float64(11.42), high=np.float64(11.63), low=np.float64(11.0), close=np.float64(11.02), volume=5801490, amount=6781578225.0, id=None),\n",
       " QmtStockWeeklyOri(stock_code='000001.SZ', time=datetime.datetime(2025, 1, 12, 0, 0), open=np.float64(11.02), high=np.float64(11.27), low=np.float64(10.86), close=np.float64(10.94), volume=4445402, amount=5079074948.0, id=None),\n",
       " QmtStockWeeklyOri(stock_code='000001.SZ', time=datetime.datetime(2025, 1, 19, 0, 0), open=np.float64(10.89), high=np.float64(11.23), low=np.float64(10.72), close=np.float64(11.09), volume=4353955, amount=4963695525.0, id=None),\n",
       " QmtStockWeeklyOri(stock_code='000001.SZ', time=datetime.datetime(2025, 1, 26, 0, 0), open=np.float64(11.14), high=np.float64(11.16), low=np.float64(10.72), close=np.float64(10.98), volume=5541091, amount=6267861520.0, id=None),\n",
       " QmtStockWeeklyOri(stock_code='000001.SZ', time=datetime.datetime(2025, 2, 2, 0, 0), open=np.float64(11.02), high=np.float64(11.19), low=np.float64(11.02), close=np.float64(11.11), volume=1151935, amount=1324270606.0000002, id=None),\n",
       " QmtStockWeeklyOri(stock_code='000001.SZ', time=datetime.datetime(2025, 2, 9, 0, 0), open=np.float64(11.14), high=np.float64(11.16), low=np.float64(10.94), close=np.float64(11.02), volume=3206530, amount=3647608733.0, id=None),\n",
       " QmtStockWeeklyOri(stock_code='000001.SZ', time=datetime.datetime(2025, 2, 16, 0, 0), open=np.float64(11.02), high=np.float64(11.19), low=np.float64(10.98), close=np.float64(11.19), volume=5191615, amount=5942299376.0, id=None),\n",
       " QmtStockWeeklyOri(stock_code='000001.SZ', time=datetime.datetime(2025, 2, 23, 0, 0), open=np.float64(11.24), high=np.float64(11.6), low=np.float64(11.19), close=np.float64(11.28), volume=6994689, amount=8214949972.0, id=None),\n",
       " QmtStockWeeklyOri(stock_code='000001.SZ', time=datetime.datetime(2025, 3, 2, 0, 0), open=np.float64(11.27), high=np.float64(11.33), low=np.float64(11.1), close=np.float64(11.17), volume=4635156, amount=5360597048.0, id=None),\n",
       " QmtStockWeeklyOri(stock_code='000001.SZ', time=datetime.datetime(2025, 3, 9, 0, 0), open=np.float64(11.16), high=np.float64(11.34), low=np.float64(11.08), close=np.float64(11.31), volume=4307226, amount=4990623726.0, id=None),\n",
       " QmtStockWeeklyOri(stock_code='000001.SZ', time=datetime.datetime(2025, 3, 16, 0, 0), open=np.float64(11.3), high=np.float64(11.64), low=np.float64(11.16), close=np.float64(11.61), volume=6184916, amount=7297499957.0, id=None),\n",
       " QmtStockWeeklyOri(stock_code='000001.SZ', time=datetime.datetime(2025, 3, 23, 0, 0), open=np.float64(11.27), high=np.float64(11.31), low=np.float64(11.03), close=np.float64(11.06), volume=10048903, amount=11573476369.0, id=None),\n",
       " QmtStockWeeklyOri(stock_code='000001.SZ', time=datetime.datetime(2025, 3, 30, 0, 0), open=np.float64(11.05), high=np.float64(11.08), low=np.float64(10.98), close=np.float64(10.99), volume=3839344, amount=4370527236.0, id=None),\n",
       " QmtStockWeeklyOri(stock_code='000001.SZ', time=datetime.datetime(2025, 4, 6, 0, 0), open=np.float64(11.0), high=np.float64(11.05), low=np.float64(10.86), close=np.float64(10.98), volume=3374152, amount=3819145441.0, id=None),\n",
       " QmtStockWeeklyOri(stock_code='000001.SZ', time=datetime.datetime(2025, 4, 13, 0, 0), open=np.float64(10.64), high=np.float64(10.69), low=np.float64(10.12), close=np.float64(10.53), volume=6524369, amount=7050548488.0, id=None),\n",
       " QmtStockWeeklyOri(stock_code='000001.SZ', time=datetime.datetime(2025, 4, 20, 0, 0), open=np.float64(10.59), high=np.float64(10.83), low=np.float64(10.54), close=np.float64(10.82), volume=3902586, amount=4293641400.0, id=None),\n",
       " QmtStockWeeklyOri(stock_code='000001.SZ', time=datetime.datetime(2025, 4, 27, 0, 0), open=np.float64(10.64), high=np.float64(10.77), low=np.float64(10.61), close=np.float64(10.65), volume=3858499, amount=4255278424.0, id=None),\n",
       " QmtStockWeeklyOri(stock_code='000001.SZ', time=datetime.datetime(2025, 5, 4, 0, 0), open=np.float64(10.64), high=np.float64(10.68), low=np.float64(10.53), close=np.float64(10.55), volume=2160898, amount=2369223748.0, id=None),\n",
       " QmtStockWeeklyOri(stock_code='000001.SZ', time=datetime.datetime(2025, 5, 11, 0, 0), open=np.float64(10.56), high=np.float64(10.81), low=np.float64(10.53), close=np.float64(10.79), volume=4037452, amount=4456911910.0, id=None),\n",
       " QmtStockWeeklyOri(stock_code='000001.SZ', time=datetime.datetime(2025, 5, 18, 0, 0), open=np.float64(10.8), high=np.float64(11.14), low=np.float64(10.77), close=np.float64(11.02), volume=5790354, amount=6556931612.0, id=None),\n",
       " QmtStockWeeklyOri(stock_code='000001.SZ', time=datetime.datetime(2025, 5, 25, 0, 0), open=np.float64(11.04), high=np.float64(11.24), low=np.float64(11.0), close=np.float64(11.1), volume=4768915, amount=5476590340.0, id=None),\n",
       " QmtStockWeeklyOri(stock_code='000001.SZ', time=datetime.datetime(2025, 6, 1, 0, 0), open=np.float64(11.08), high=np.float64(11.22), low=np.float64(11.04), close=np.float64(11.2), volume=4209909, amount=4840139383.0, id=None),\n",
       " QmtStockWeeklyOri(stock_code='000001.SZ', time=datetime.datetime(2025, 6, 8, 0, 0), open=np.float64(11.18), high=np.float64(11.55), low=np.float64(11.17), close=np.float64(11.34), volume=5209596, amount=6133094641.0, id=None),\n",
       " QmtStockWeeklyOri(stock_code='000001.SZ', time=datetime.datetime(2025, 6, 15, 0, 0), open=np.float64(11.37), high=np.float64(11.74), low=np.float64(11.29), close=np.float64(11.58), volume=5681768, amount=6665827975.0, id=None),\n",
       " QmtStockWeeklyOri(stock_code='000001.SZ', time=datetime.datetime(2025, 6, 22, 0, 0), open=np.float64(11.57), high=np.float64(11.88), low=np.float64(11.53), close=np.float64(11.84), volume=4889431, amount=5741579764.0, id=None)]"
      ]
     },
     "execution_count": 38,
     "metadata": {},
     "output_type": "execute_result"
    }
   ],
   "execution_count": 38
  },
  {
   "metadata": {
    "ExecuteTime": {
     "end_time": "2025-06-26T06:30:42.593105Z",
     "start_time": "2025-06-26T06:30:42.503716Z"
    }
   },
   "cell_type": "code",
   "source": [
    "from sqlalchemy.orm import Session\n",
    "from app.core.config import settings\n",
    "from sqlalchemy import create_engine\n",
    "from app.utils.db_utils import insert_on_duplicate_update_for_kline\n"
   ],
   "id": "bb52d4b32e3252b9",
   "outputs": [],
   "execution_count": 36
  },
  {
   "metadata": {
    "ExecuteTime": {
     "end_time": "2025-06-26T06:43:24.121043Z",
     "start_time": "2025-06-26T06:43:23.451429Z"
    }
   },
   "cell_type": "code",
   "source": [
    "\n",
    "\n",
    "engine = create_engine(settings.SQLALCHEMY_MYSQL_DATABASE_URI, echo=False)\n",
    "with Session(engine) as db:\n",
    "    affected_rows = insert_on_duplicate_update_for_kline(\n",
    "        db=db,\n",
    "        model_cls=QmtStockWeeklyOri,\n",
    "        objs=stock_objs,\n",
    "        auto_commit=True\n",
    "    )\n",
    "    print(f'插入或更新股票{stock_code}的行情数据成功，受影响行数：{affected_rows}')"
   ],
   "id": "c7a80b887fc8080d",
   "outputs": [
    {
     "name": "stdout",
     "output_type": "stream",
     "text": [
      "插入或更新股票000001.SZ的行情数据成功，受影响行数：153\n"
     ]
    }
   ],
   "execution_count": 40
  },
  {
   "metadata": {
    "ExecuteTime": {
     "end_time": "2025-06-26T07:52:24.834592Z",
     "start_time": "2025-06-26T07:52:24.812393Z"
    }
   },
   "cell_type": "code",
   "source": [
    "# 获取10年前的日期\n",
    "ten_years_ago = (datetime.now() - timedelta(days=10 * 365)).strftime('%Y%m%d')\n",
    "divid_data = xtdata.get_divid_factors(\"000001.SZ\", start_time=three_years_ago, end_time=today)\n",
    "print(divid_data)"
   ],
   "id": "15d2c67996739a6e",
   "outputs": [
    {
     "name": "stdout",
     "output_type": "stream",
     "text": [
      "                  time  interest  stockBonus  stockGift  allotNum  allotPrice  \\\n",
      "20220722  1.658419e+12     0.228         0.0        0.0       0.0         0.0   \n",
      "20230614  1.686672e+12     0.285         0.0        0.0       0.0         0.0   \n",
      "20240614  1.718294e+12     0.719         0.0        0.0       0.0         0.0   \n",
      "20241010  1.728490e+12     0.246         0.0        0.0       0.0         0.0   \n",
      "20250612  1.749658e+12     0.362         0.0        0.0       0.0         0.0   \n",
      "\n",
      "          gugai        dr  \n",
      "20220722    0.0  1.017996  \n",
      "20230614    0.0  1.024369  \n",
      "20240614    0.0  1.071428  \n",
      "20241010    0.0  1.021872  \n",
      "20250612    0.0  1.031331  \n"
     ]
    }
   ],
   "execution_count": 46
  }
 ],
 "metadata": {
  "kernelspec": {
   "display_name": "smartone_quant",
   "language": "python",
   "name": "smartone_quant"
  },
  "language_info": {
   "codemirror_mode": {
    "name": "ipython",
    "version": 3
   },
   "file_extension": ".py",
   "mimetype": "text/x-python",
   "name": "python",
   "nbconvert_exporter": "python",
   "pygments_lexer": "ipython3",
   "version": "3.12.10"
  }
 },
 "nbformat": 4,
 "nbformat_minor": 5
}
