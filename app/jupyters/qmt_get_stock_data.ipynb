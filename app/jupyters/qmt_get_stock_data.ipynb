{
 "cells": [
  {
   "cell_type": "code",
   "id": "f4d325fb54a2794d",
   "metadata": {
    "ExecuteTime": {
     "end_time": "2025-06-13T08:46:48.309812Z",
     "start_time": "2025-06-13T08:46:48.301371Z"
    }
   },
   "source": [
    "import sys\n",
    "\n",
    "from IPython.core.interactiveshell import InteractiveShell\n",
    "\n",
    "InteractiveShell.ast_node_interactivity = \"all\"\n",
    "\n",
    "sys.path.append(r'C:\\Users\\19167\\AppData\\Local\\Programs\\Python\\smartone_quant')"
   ],
   "outputs": [],
   "execution_count": 1
  },
  {
   "cell_type": "code",
   "id": "7166c07bc7589eb",
   "metadata": {
    "ExecuteTime": {
     "end_time": "2025-06-13T08:46:50.227311Z",
     "start_time": "2025-06-13T08:46:50.215444Z"
    }
   },
   "source": [
    "# 获取股票行情数据\n",
    "\"\"\"\n",
    "\"time\"                #时间戳\n",
    "\"open\"                #开盘价\n",
    "\"high\"                #最高价\n",
    "\"low\"                 #最低价\n",
    "\"close\"               #收盘价\n",
    "\"volume\"              #成交量\n",
    "\"amount\"              #成交额\n",
    "\"settle\"              #今结算\n",
    "\"openInterest\"        #持仓量\n",
    "\"\"\""
   ],
   "outputs": [
    {
     "data": {
      "text/plain": [
       "'\\n\"time\"                #时间戳\\n\"open\"                #开盘价\\n\"high\"                #最高价\\n\"low\"                 #最低价\\n\"close\"               #收盘价\\n\"volume\"              #成交量\\n\"amount\"              #成交额\\n\"settle\"              #今结算\\n\"openInterest\"        #持仓量\\n'"
      ]
     },
     "execution_count": 2,
     "metadata": {},
     "output_type": "execute_result"
    }
   ],
   "execution_count": 2
  },
  {
   "cell_type": "code",
   "id": "initial_id",
   "metadata": {
    "ExecuteTime": {
     "end_time": "2025-06-13T08:46:56.675628Z",
     "start_time": "2025-06-13T08:46:52.987266Z"
    }
   },
   "source": [
    "from typing import List\n",
    "import pandas as pd\n",
    "\n",
    "# 日期工具\n",
    "from datetime import datetime, timedelta\n",
    "from xtquant import xtdata\n",
    "\n",
    "from app.models.qmt_stock_daily import QmtStockDailyOri"
   ],
   "outputs": [],
   "execution_count": 3
  },
  {
   "cell_type": "code",
   "id": "bc31972795a0554f",
   "metadata": {
    "ExecuteTime": {
     "end_time": "2025-06-13T08:48:21.352766Z",
     "start_time": "2025-06-13T08:48:21.345656Z"
    }
   },
   "source": [
    "# 测试下载000001.SZ的日 k 行情数据并获取打印\n",
    "stock_code: str = '000001.SZ'\n",
    "print(f'开始下载股票{stock_code}的行情数据')\n",
    "# 获取一年前的日期,yyyyMMdd格式\n",
    "one_years_ago = (datetime.now() - timedelta(days=1 * 365)).strftime('%Y%m%d')\n",
    "print(f'一年前的日期为：{one_years_ago}')\n",
    "# 获取两年前的日期,yyyyMMdd格式\n",
    "two_years_ago = (datetime.now() - timedelta(days=2 * 365)).strftime('%Y%m%d')\n",
    "print(f'两年前的日期为：{two_years_ago}')\n",
    "# 获取三年前的日期,yyyyMMdd格式\n",
    "three_years_ago = (datetime.now() - timedelta(days=3 * 365)).strftime('%Y%m%d')\n",
    "print(f'三年前的日期为：{three_years_ago}')\n",
    "# 获取今天日期\n",
    "today = datetime.now().strftime('%Y%m%d')\n",
    "print(f'今天的日期为：{today}')"
   ],
   "outputs": [
    {
     "name": "stdout",
     "output_type": "stream",
     "text": [
      "开始下载股票000001.SZ的行情数据\n",
      "一年前的日期为：20240613\n",
      "两年前的日期为：20230614\n",
      "三年前的日期为：20220614\n",
      "今天的日期为：20250613\n"
     ]
    }
   ],
   "execution_count": 5
  },
  {
   "metadata": {
    "ExecuteTime": {
     "end_time": "2025-06-13T08:48:25.969915Z",
     "start_time": "2025-06-13T08:48:25.958246Z"
    }
   },
   "cell_type": "code",
   "source": [
    "\"\"\"\n",
    "get_market_data函数返回数据格式为：\n",
    "{field1 : value1, field2 : value2, ...}\n",
    "            field1, field2, ... : 数据字段\n",
    "            value1, value2, ... : pd.DataFrame 字段对应的数据，各字段维度相同，index为stock_list，columns为time_list\n",
    "\"\"\"\n",
    "\n",
    "\n",
    "# 公共解析数据的方法，将stock_data解析为股票对象\n",
    "def parse_stock_data(stock_data: dict, model_cls) -> list:\n",
    "    \"\"\"\n",
    "    解析股票行情数据，支持日/周/月K模型\n",
    "    :param stock_data: 股票行情数据\n",
    "    :param model_cls: 股票数据模型类\n",
    "    :return: 股票对象列表\n",
    "    \"\"\"\n",
    "    stock_list = []\n",
    "    stock_data_time = stock_data['time']\n",
    "    stock_codes = stock_data_time.index.tolist()\n",
    "    stock_time_list = stock_data_time.columns.tolist()\n",
    "    for stock_code in stock_codes:\n",
    "        for stock_time in stock_time_list:\n",
    "            stock_open = stock_data['open'].loc[stock_code, stock_time].round(2)\n",
    "            stock_high = stock_data['high'].loc[stock_code, stock_time].round(2)\n",
    "            stock_low = stock_data['low'].loc[stock_code, stock_time].round(2)\n",
    "            stock_close = stock_data['close'].loc[stock_code, stock_time].round(2)\n",
    "            stock_volume = stock_data['volume'].loc[stock_code, stock_time]\n",
    "            stock_amount = stock_data['amount'].loc[stock_code, stock_time]\n",
    "            stock_obj = model_cls(\n",
    "                code=stock_code,\n",
    "                time=stock_time,\n",
    "                open=stock_open,\n",
    "                high=stock_high,\n",
    "                low=stock_low,\n",
    "                close=stock_close,\n",
    "                volume=stock_volume,\n",
    "                amount=stock_amount\n",
    "            )\n",
    "            stock_list.append(stock_obj)\n",
    "    print(f'解析股票数据成功，解析到{len(stock_list)}条数据')\n",
    "\n",
    "    return stock_list"
   ],
   "id": "15da2eac95c1abdb",
   "outputs": [
    {
     "data": {
      "text/plain": [
       "'\\nget_market_data函数返回数据格式为：\\n{field1 : value1, field2 : value2, ...}\\n            field1, field2, ... : 数据字段\\n            value1, value2, ... : pd.DataFrame 字段对应的数据，各字段维度相同，index为stock_list，columns为time_list\\n'"
      ]
     },
     "execution_count": 6,
     "metadata": {},
     "output_type": "execute_result"
    }
   ],
   "execution_count": 6
  },
  {
   "metadata": {},
   "cell_type": "code",
   "outputs": [],
   "execution_count": null,
   "source": [
    "# 获取可用周期列表\n",
    "xtdata.get_period_list()"
   ],
   "id": "c45f02165d2e88e5"
  },
  {
   "metadata": {},
   "cell_type": "code",
   "outputs": [],
   "execution_count": null,
   "source": [
    "# 获取节假日数据\n",
    "holidays: List = xtdata.get_holidays()\n",
    "print(f'节假日数据：{holidays}')"
   ],
   "id": "7bd7dbd0-ce2c-470b-b4cb-78f03e642f3e"
  },
  {
   "metadata": {},
   "cell_type": "code",
   "source": [
    "# 获取交易日历\n",
    "xtdata.get_trading_calendar('SH', start_time='20250101', end_time='20251231')"
   ],
   "id": "14a52f34-f18e-4e4d-a00f-3887ecf655db",
   "outputs": [],
   "execution_count": null
  },
  {
   "metadata": {},
   "cell_type": "code",
   "source": [
    "# 获取交易时段\n",
    "xtdata.get_all_trading_periods()"
   ],
   "id": "8423a60fda468305",
   "outputs": [],
   "execution_count": null
  },
  {
   "cell_type": "code",
   "id": "4c39223f-cbc3-4303-8de4-9e5f32044954",
   "metadata": {
    "ExecuteTime": {
     "end_time": "2025-06-13T09:12:01.043642Z",
     "start_time": "2025-06-13T09:12:00.797263Z"
    }
   },
   "source": [
    "# 下载股票的日K 行情数据\n",
    "xtdata.download_history_data(\n",
    "    stock_code=stock_code,\n",
    "    period='1d',\n",
    "    start_time=one_years_ago,\n",
    "    end_time=today,\n",
    "    incrementally=False)\n",
    "print(f\"下载股票 {stock_code} 的日 K 数据成功\")\n",
    "# 下载股票的周K 行情数据\n",
    "xtdata.download_history_data(\n",
    "    stock_code=stock_code,\n",
    "    period='1w',\n",
    "    start_time=one_years_ago,\n",
    "    end_time=today,\n",
    "    incrementally=False)\n",
    "print(f\"下载股票 {stock_code} 的周 K 数据成功\")\n",
    "# 下载股票的月K 行情数据\n",
    "xtdata.download_history_data(\n",
    "    stock_code=stock_code,\n",
    "    period='1mon',\n",
    "    start_time=one_years_ago,\n",
    "    end_time=today,\n",
    "    incrementally=False)\n",
    "print(f\"下载股票 {stock_code} 的月 K 数据成功\")"
   ],
   "outputs": [
    {
     "name": "stdout",
     "output_type": "stream",
     "text": [
      "下载股票 000001.SZ 的日 K 数据成功\n",
      "下载股票 000001.SZ 的周 K 数据成功\n",
      "下载股票 000001.SZ 的月 K 数据成功\n"
     ]
    }
   ],
   "execution_count": 46
  },
  {
   "cell_type": "code",
   "id": "441a3ceee2410edf",
   "metadata": {
    "ExecuteTime": {
     "end_time": "2025-06-13T08:54:24.639873Z",
     "start_time": "2025-06-13T08:54:24.546283Z"
    }
   },
   "source": [
    "# 测试获取下载的行情数据--获取最近10条数据\n",
    "stock_code: str = '000001.SZ'\n",
    "stock_data = xtdata.get_market_data(\n",
    "    field_list=['time', 'open', 'high', 'low', 'close', 'volume', 'amount', 'settle', 'openInterest'],\n",
    "    stock_list=[stock_code],\n",
    "    period='1d',\n",
    "    start_time=one_years_ago,\n",
    "    end_time=today,\n",
    "    count=10,  # 获取最近10条数据\n",
    "    fill_data=False\n",
    ")\n",
    "# 查看返回数据的格式\n",
    "print(f'获取股票 {stock_code} 的行情数据格式：{type(stock_data)}')\n",
    "# 解析返回数据\n",
    "\"\"\"\n",
    "{field1 : value1, field2 : value2, ...}\n",
    "            field1, field2, ... : 数据字段\n",
    "            value1, value2, ... : pd.DataFrame 字段对应的数据，各字段维度相同，index为stock_list，columns为time_list\n",
    "\"\"\"\n",
    "# 获取time字段的数据\n",
    "stock_data_time: pd.DataFrame = stock_data['time']\n",
    "\n",
    "stock_data_time.head()"
   ],
   "outputs": [
    {
     "name": "stdout",
     "output_type": "stream",
     "text": [
      "获取股票 000001.SZ 的行情数据格式：<class 'dict'>\n"
     ]
    },
    {
     "data": {
      "text/plain": [
       "'\\n{field1 : value1, field2 : value2, ...}\\n            field1, field2, ... : 数据字段\\n            value1, value2, ... : pd.DataFrame 字段对应的数据，各字段维度相同，index为stock_list，columns为time_list\\n'"
      ]
     },
     "execution_count": 11,
     "metadata": {},
     "output_type": "execute_result"
    },
    {
     "data": {
      "text/plain": [
       "                20250530       20250603       20250604       20250605  \\\n",
       "000001.SZ  1748534400000  1748880000000  1748966400000  1749052800000   \n",
       "\n",
       "                20250606       20250609       20250610       20250611  \\\n",
       "000001.SZ  1749139200000  1749398400000  1749484800000  1749571200000   \n",
       "\n",
       "                20250612       20250613  \n",
       "000001.SZ  1749657600000  1749744000000  "
      ],
      "text/html": [
       "<div>\n",
       "<style scoped>\n",
       "    .dataframe tbody tr th:only-of-type {\n",
       "        vertical-align: middle;\n",
       "    }\n",
       "\n",
       "    .dataframe tbody tr th {\n",
       "        vertical-align: top;\n",
       "    }\n",
       "\n",
       "    .dataframe thead th {\n",
       "        text-align: right;\n",
       "    }\n",
       "</style>\n",
       "<table border=\"1\" class=\"dataframe\">\n",
       "  <thead>\n",
       "    <tr style=\"text-align: right;\">\n",
       "      <th></th>\n",
       "      <th>20250530</th>\n",
       "      <th>20250603</th>\n",
       "      <th>20250604</th>\n",
       "      <th>20250605</th>\n",
       "      <th>20250606</th>\n",
       "      <th>20250609</th>\n",
       "      <th>20250610</th>\n",
       "      <th>20250611</th>\n",
       "      <th>20250612</th>\n",
       "      <th>20250613</th>\n",
       "    </tr>\n",
       "  </thead>\n",
       "  <tbody>\n",
       "    <tr>\n",
       "      <th>000001.SZ</th>\n",
       "      <td>1748534400000</td>\n",
       "      <td>1748880000000</td>\n",
       "      <td>1748966400000</td>\n",
       "      <td>1749052800000</td>\n",
       "      <td>1749139200000</td>\n",
       "      <td>1749398400000</td>\n",
       "      <td>1749484800000</td>\n",
       "      <td>1749571200000</td>\n",
       "      <td>1749657600000</td>\n",
       "      <td>1749744000000</td>\n",
       "    </tr>\n",
       "  </tbody>\n",
       "</table>\n",
       "</div>"
      ]
     },
     "execution_count": 11,
     "metadata": {},
     "output_type": "execute_result"
    }
   ],
   "execution_count": 11
  },
  {
   "cell_type": "code",
   "id": "36fcbe38c274df14",
   "metadata": {
    "ExecuteTime": {
     "end_time": "2025-06-13T09:18:29.974596Z",
     "start_time": "2025-06-13T09:18:29.947814Z"
    }
   },
   "source": [
    "# 获取下载的行情数据--获取所有数据\n",
    "stock_data = xtdata.get_market_data(\n",
    "    field_list=['time', 'open', 'high', 'low', 'close', 'volume', 'amount', 'settle', 'openInterest'],\n",
    "    stock_list=[stock_code],\n",
    "    period='1w',\n",
    "    start_time=one_years_ago,\n",
    "    end_time=today,\n",
    "    count=-1,\n",
    "    # dividend_type='none',  # 不获取分红派息数据\n",
    "    dividend_type='front',  # 获取前复权数据\n",
    "    fill_data=False\n",
    ")\n",
    "# 查看返回数据的格式\n",
    "print(f'获取股票 {stock_code} 的行情数据{len(stock_data)}格式：{type(stock_data)}')\n",
    "stock_data['high'].head()  # 查看返回数据的格式"
   ],
   "outputs": [
    {
     "name": "stdout",
     "output_type": "stream",
     "text": [
      "获取股票 000001.SZ 的行情数据8格式：<class 'dict'>\n"
     ]
    },
    {
     "data": {
      "text/plain": [
       "           20240616  20240623  20240630  20240707  20240714  20240721  \\\n",
       "000001.SZ     9.693     9.602     9.652     9.872     9.702     9.822   \n",
       "\n",
       "           20240728  20240804  20240811  20240818  ...  20250406  20250413  \\\n",
       "000001.SZ     9.772     9.712     9.612     9.602  ...    11.048    10.688   \n",
       "\n",
       "           20250420  20250427  20250504  20250511  20250518  20250525  \\\n",
       "000001.SZ    10.828    10.768    10.678    10.808    11.138    11.238   \n",
       "\n",
       "           20250601  20250608  \n",
       "000001.SZ    11.218    11.548  \n",
       "\n",
       "[1 rows x 52 columns]"
      ],
      "text/html": [
       "<div>\n",
       "<style scoped>\n",
       "    .dataframe tbody tr th:only-of-type {\n",
       "        vertical-align: middle;\n",
       "    }\n",
       "\n",
       "    .dataframe tbody tr th {\n",
       "        vertical-align: top;\n",
       "    }\n",
       "\n",
       "    .dataframe thead th {\n",
       "        text-align: right;\n",
       "    }\n",
       "</style>\n",
       "<table border=\"1\" class=\"dataframe\">\n",
       "  <thead>\n",
       "    <tr style=\"text-align: right;\">\n",
       "      <th></th>\n",
       "      <th>20240616</th>\n",
       "      <th>20240623</th>\n",
       "      <th>20240630</th>\n",
       "      <th>20240707</th>\n",
       "      <th>20240714</th>\n",
       "      <th>20240721</th>\n",
       "      <th>20240728</th>\n",
       "      <th>20240804</th>\n",
       "      <th>20240811</th>\n",
       "      <th>20240818</th>\n",
       "      <th>...</th>\n",
       "      <th>20250406</th>\n",
       "      <th>20250413</th>\n",
       "      <th>20250420</th>\n",
       "      <th>20250427</th>\n",
       "      <th>20250504</th>\n",
       "      <th>20250511</th>\n",
       "      <th>20250518</th>\n",
       "      <th>20250525</th>\n",
       "      <th>20250601</th>\n",
       "      <th>20250608</th>\n",
       "    </tr>\n",
       "  </thead>\n",
       "  <tbody>\n",
       "    <tr>\n",
       "      <th>000001.SZ</th>\n",
       "      <td>9.693</td>\n",
       "      <td>9.602</td>\n",
       "      <td>9.652</td>\n",
       "      <td>9.872</td>\n",
       "      <td>9.702</td>\n",
       "      <td>9.822</td>\n",
       "      <td>9.772</td>\n",
       "      <td>9.712</td>\n",
       "      <td>9.612</td>\n",
       "      <td>9.602</td>\n",
       "      <td>...</td>\n",
       "      <td>11.048</td>\n",
       "      <td>10.688</td>\n",
       "      <td>10.828</td>\n",
       "      <td>10.768</td>\n",
       "      <td>10.678</td>\n",
       "      <td>10.808</td>\n",
       "      <td>11.138</td>\n",
       "      <td>11.238</td>\n",
       "      <td>11.218</td>\n",
       "      <td>11.548</td>\n",
       "    </tr>\n",
       "  </tbody>\n",
       "</table>\n",
       "<p>1 rows × 52 columns</p>\n",
       "</div>"
      ]
     },
     "execution_count": 52,
     "metadata": {},
     "output_type": "execute_result"
    }
   ],
   "execution_count": 52
  },
  {
   "cell_type": "code",
   "id": "d8df5ae93f9d8595",
   "metadata": {
    "ExecuteTime": {
     "end_time": "2025-06-13T09:01:39.365459Z",
     "start_time": "2025-06-13T09:01:39.341202Z"
    }
   },
   "source": [
    "# 测试未下载的股票行情数据能否获取\n",
    "stock_code = '000001.SZ'  # 测试未下载的股票代码\n",
    "print(f'开始获取股票 {stock_code} 的行情数据')\n",
    "stock_data = xtdata.get_market_data(\n",
    "    field_list=['time', 'open', 'high', 'low', 'close', 'volume', 'amount', 'settle', 'openInterest'],\n",
    "    stock_list=[stock_code],\n",
    "    period='1d',\n",
    "    start_time=three_years_ago,\n",
    "    end_time=two_years_ago,\n",
    "    count=-1,\n",
    "    dividend_type='none',\n",
    "    fill_data=False\n",
    ")\n",
    "stock_data['time'].head()  # 查看返回数据的格式"
   ],
   "outputs": [
    {
     "name": "stdout",
     "output_type": "stream",
     "text": [
      "开始获取股票 000001.SZ 的行情数据\n"
     ]
    },
    {
     "data": {
      "text/plain": [
       "Empty DataFrame\n",
       "Columns: []\n",
       "Index: [000001.SZ]"
      ],
      "text/html": [
       "<div>\n",
       "<style scoped>\n",
       "    .dataframe tbody tr th:only-of-type {\n",
       "        vertical-align: middle;\n",
       "    }\n",
       "\n",
       "    .dataframe tbody tr th {\n",
       "        vertical-align: top;\n",
       "    }\n",
       "\n",
       "    .dataframe thead th {\n",
       "        text-align: right;\n",
       "    }\n",
       "</style>\n",
       "<table border=\"1\" class=\"dataframe\">\n",
       "  <thead>\n",
       "    <tr style=\"text-align: right;\">\n",
       "      <th></th>\n",
       "    </tr>\n",
       "  </thead>\n",
       "  <tbody>\n",
       "    <tr>\n",
       "      <th>000001.SZ</th>\n",
       "    </tr>\n",
       "  </tbody>\n",
       "</table>\n",
       "</div>"
      ]
     },
     "execution_count": 32,
     "metadata": {},
     "output_type": "execute_result"
    }
   ],
   "execution_count": 32
  },
  {
   "cell_type": "code",
   "id": "fe80656b1794ca8f",
   "metadata": {
    "ExecuteTime": {
     "end_time": "2025-06-13T09:10:02.218715Z",
     "start_time": "2025-06-13T09:10:02.198330Z"
    }
   },
   "source": [
    "# 测试能否够获取前复权的股票行情数据\n",
    "print(f\"开始获取股票 {stock_code} 的前复权行情数据\")\n",
    "stock_data = xtdata.get_market_data(\n",
    "    field_list=['time', 'open', 'high', 'low', 'close', 'volume', 'amount', 'settle', 'openInterest'],\n",
    "    stock_list=[stock_code],\n",
    "    period='1d',\n",
    "    start_time=one_years_ago,\n",
    "    end_time=today,\n",
    "    count=10,  # 获取最近10条数据\n",
    "    dividend_type='front',  # 获取前复权数据 0530:11.108 0603:11.178 0612:11.56 0613：11.68\n",
    "    # dividend_type='none',  # 获取无复权数据 0530:11.47 0603:11.54 0612:11.56 0613:11.68\n",
    "    fill_data=False\n",
    ")\n",
    "stock_data['open'].head()"
   ],
   "outputs": [
    {
     "name": "stdout",
     "output_type": "stream",
     "text": [
      "开始获取股票 000001.SZ 的前复权行情数据\n"
     ]
    },
    {
     "data": {
      "text/plain": [
       "           20250530  20250603  20250604  20250605  20250606  20250609  \\\n",
       "000001.SZ    11.108    11.178    11.458    11.518    11.338    11.368   \n",
       "\n",
       "           20250610  20250611  20250612  20250613  \n",
       "000001.SZ    11.358    11.458     11.56     11.68  "
      ],
      "text/html": [
       "<div>\n",
       "<style scoped>\n",
       "    .dataframe tbody tr th:only-of-type {\n",
       "        vertical-align: middle;\n",
       "    }\n",
       "\n",
       "    .dataframe tbody tr th {\n",
       "        vertical-align: top;\n",
       "    }\n",
       "\n",
       "    .dataframe thead th {\n",
       "        text-align: right;\n",
       "    }\n",
       "</style>\n",
       "<table border=\"1\" class=\"dataframe\">\n",
       "  <thead>\n",
       "    <tr style=\"text-align: right;\">\n",
       "      <th></th>\n",
       "      <th>20250530</th>\n",
       "      <th>20250603</th>\n",
       "      <th>20250604</th>\n",
       "      <th>20250605</th>\n",
       "      <th>20250606</th>\n",
       "      <th>20250609</th>\n",
       "      <th>20250610</th>\n",
       "      <th>20250611</th>\n",
       "      <th>20250612</th>\n",
       "      <th>20250613</th>\n",
       "    </tr>\n",
       "  </thead>\n",
       "  <tbody>\n",
       "    <tr>\n",
       "      <th>000001.SZ</th>\n",
       "      <td>11.108</td>\n",
       "      <td>11.178</td>\n",
       "      <td>11.458</td>\n",
       "      <td>11.518</td>\n",
       "      <td>11.338</td>\n",
       "      <td>11.368</td>\n",
       "      <td>11.358</td>\n",
       "      <td>11.458</td>\n",
       "      <td>11.56</td>\n",
       "      <td>11.68</td>\n",
       "    </tr>\n",
       "  </tbody>\n",
       "</table>\n",
       "</div>"
      ]
     },
     "execution_count": 45,
     "metadata": {},
     "output_type": "execute_result"
    }
   ],
   "execution_count": 45
  }
 ],
 "metadata": {
  "kernelspec": {
   "display_name": "smartone_quant",
   "language": "python",
   "name": "smartone_quant"
  },
  "language_info": {
   "codemirror_mode": {
    "name": "ipython",
    "version": 3
   },
   "file_extension": ".py",
   "mimetype": "text/x-python",
   "name": "python",
   "nbconvert_exporter": "python",
   "pygments_lexer": "ipython3",
   "version": "3.12.10"
  }
 },
 "nbformat": 4,
 "nbformat_minor": 5
}
