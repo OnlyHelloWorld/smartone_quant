{
 "cells": [
  {
   "cell_type": "code",
   "id": "f4d325fb54a2794d",
   "metadata": {},
   "source": [
    "import sys\n",
    "\n",
    "from IPython.core.interactiveshell import InteractiveShell\n",
    "\n",
    "InteractiveShell.ast_node_interactivity = \"all\"\n",
    "\n",
    "sys.path.append(r'C:\\Users\\19167\\AppData\\Local\\Programs\\Python\\smartone_quant')"
   ],
   "outputs": [],
   "execution_count": null
  },
  {
   "cell_type": "code",
   "id": "7166c07bc7589eb",
   "metadata": {},
   "source": [
    "# 获取股票行情数据\n",
    "\"\"\"\n",
    "\"time\"                #时间戳\n",
    "\"open\"                #开盘价\n",
    "\"high\"                #最高价\n",
    "\"low\"                 #最低价\n",
    "\"close\"               #收盘价\n",
    "\"volume\"              #成交量\n",
    "\"amount\"              #成交额\n",
    "\"settle\"              #今结算\n",
    "\"openInterest\"        #持仓量\n",
    "\"\"\""
   ],
   "outputs": [],
   "execution_count": null
  },
  {
   "cell_type": "code",
   "id": "initial_id",
   "metadata": {},
   "source": [
    "from typing import List\n",
    "import pandas as pd\n",
    "\n",
    "# 日期工具\n",
    "from datetime import datetime, timedelta\n",
    "from xtquant import xtdata\n",
    "\n",
    "from app.models.qmt_stock_daily import QmtStockDailyOri"
   ],
   "outputs": [],
   "execution_count": null
  },
  {
   "cell_type": "code",
   "id": "bc31972795a0554f",
   "metadata": {},
   "source": [
    "# 测试下载000001.SZ的日 k 行情数据并获取打印\n",
    "stock_code: str = '000001.SZ'\n",
    "print(f'开始下载股票{stock_code}的行情数据')\n",
    "# 获取一年前的日期,yyyyMMdd格式\n",
    "one_years_ago = (datetime.now() - timedelta(days=1 * 365)).strftime('%Y%m%d')\n",
    "print(f'一年前的日期为：{one_years_ago}')\n",
    "# 获取两年前的日期,yyyyMMdd格式\n",
    "two_years_ago = (datetime.now() - timedelta(days=2 * 365)).strftime('%Y%m%d')\n",
    "print(f'两年前的日期为：{two_years_ago}')\n",
    "# 获取三年前的日期,yyyyMMdd格式\n",
    "three_years_ago = (datetime.now() - timedelta(days=3 * 365)).strftime('%Y%m%d')\n",
    "print(f'三年前的日期为：{three_years_ago}')\n",
    "# 获取今天日期\n",
    "today = datetime.now().strftime('%Y%m%d')\n",
    "print(f'今天的日期为：{today}')"
   ],
   "outputs": [],
   "execution_count": null
  },
  {
   "metadata": {},
   "cell_type": "code",
   "source": [
    "\"\"\"\n",
    "get_market_data函数返回数据格式为：\n",
    "{field1 : value1, field2 : value2, ...}\n",
    "            field1, field2, ... : 数据字段\n",
    "            value1, value2, ... : pd.DataFrame 字段对应的数据，各字段维度相同，index为stock_list，columns为time_list\n",
    "\"\"\"\n",
    "\n",
    "\n",
    "# 公共解析数据的方法，将stock_data解析为股票对象\n",
    "def parse_stock_data(stock_data: dict, model_cls = QmtStockDailyOri) -> list:\n",
    "    \"\"\"\n",
    "    解析股票行情数据，支持日/周/月K模型\n",
    "    :param stock_data: 股票行情数据\n",
    "    :param model_cls: 股票数据模型类\n",
    "    :return: 股票对象列表\n",
    "    \"\"\"\n",
    "    stock_list = []\n",
    "    stock_data_time = stock_data['time']\n",
    "    stock_codes = stock_data_time.index.tolist()\n",
    "    stock_time_list = stock_data_time.columns.tolist()\n",
    "    for stock_code in stock_codes:\n",
    "        for stock_time in stock_time_list:\n",
    "            stock_open = stock_data['open'].loc[stock_code, stock_time].round(2)\n",
    "            stock_high = stock_data['high'].loc[stock_code, stock_time].round(2)\n",
    "            stock_low = stock_data['low'].loc[stock_code, stock_time].round(2)\n",
    "            stock_close = stock_data['close'].loc[stock_code, stock_time].round(2)\n",
    "            stock_volume = stock_data['volume'].loc[stock_code, stock_time]\n",
    "            stock_amount = stock_data['amount'].loc[stock_code, stock_time]\n",
    "            stock_obj = model_cls(\n",
    "                code=stock_code,\n",
    "                time=stock_time,\n",
    "                open=stock_open,\n",
    "                high=stock_high,\n",
    "                low=stock_low,\n",
    "                close=stock_close,\n",
    "                volume=stock_volume,\n",
    "                amount=stock_amount\n",
    "            )\n",
    "            stock_list.append(stock_obj)\n",
    "    print(f'解析股票数据成功，解析到{len(stock_list)}条数据')\n",
    "\n",
    "    return stock_list"
   ],
   "id": "15da2eac95c1abdb",
   "outputs": [],
   "execution_count": null
  },
  {
   "metadata": {},
   "cell_type": "code",
   "source": [
    "# 获取可用周期列表\n",
    "xtdata.get_period_list()"
   ],
   "id": "c45f02165d2e88e5",
   "outputs": [],
   "execution_count": null
  },
  {
   "metadata": {},
   "cell_type": "code",
   "source": [
    "# 获取节假日数据\n",
    "xtdata.download_holiday_data()"
   ],
   "id": "15a0fafd6cf95734",
   "outputs": [],
   "execution_count": null
  },
  {
   "metadata": {},
   "cell_type": "code",
   "source": [
    "holidays: List = xtdata.get_holidays()\n",
    "print(f'节假日数据：{holidays}')"
   ],
   "id": "7bd7dbd0-ce2c-470b-b4cb-78f03e642f3e",
   "outputs": [],
   "execution_count": null
  },
  {
   "metadata": {},
   "cell_type": "code",
   "source": [
    "# 获取交易日历\n",
    "xtdata.get_trading_calendar('SH', start_time='20250101', end_time='20251231')"
   ],
   "id": "14a52f34-f18e-4e4d-a00f-3887ecf655db",
   "outputs": [],
   "execution_count": null
  },
  {
   "metadata": {},
   "cell_type": "code",
   "source": [
    "# 获取交易时段\n",
    "xtdata.get_all_trading_periods()"
   ],
   "id": "8423a60fda468305",
   "outputs": [],
   "execution_count": null
  },
  {
   "cell_type": "code",
   "id": "4c39223f-cbc3-4303-8de4-9e5f32044954",
   "metadata": {},
   "source": [
    "# 下载股票的日K 行情数据\n",
    "xtdata.download_history_data(\n",
    "    stock_code=stock_code,\n",
    "    period='1d',\n",
    "    start_time=one_years_ago,\n",
    "    end_time=today,\n",
    "    incrementally=False)\n",
    "print(f\"下载股票 {stock_code} 的日 K 数据成功\")\n",
    "# 下载股票的周K 行情数据\n",
    "xtdata.download_history_data(\n",
    "    stock_code=stock_code,\n",
    "    period='1w',\n",
    "    start_time=one_years_ago,\n",
    "    end_time=today,\n",
    "    incrementally=False)\n",
    "print(f\"下载股票 {stock_code} 的周 K 数据成功\")\n",
    "# 下载股票的月K 行情数据\n",
    "xtdata.download_history_data(\n",
    "    stock_code=stock_code,\n",
    "    period='1mon',\n",
    "    start_time=one_years_ago,\n",
    "    end_time=today,\n",
    "    incrementally=False)\n",
    "print(f\"下载股票 {stock_code} 的月 K 数据成功\")"
   ],
   "outputs": [],
   "execution_count": null
  },
  {
   "cell_type": "code",
   "id": "441a3ceee2410edf",
   "metadata": {},
   "source": [
    "# 测试获取下载的行情数据--获取最近10条数据\n",
    "stock_code: str = '000001.SZ'\n",
    "stock_data = xtdata.get_market_data(\n",
    "    field_list=['time', 'open', 'high', 'low', 'close', 'volume', 'amount', 'settle', 'openInterest'],\n",
    "    stock_list=[stock_code],\n",
    "    period='1d',\n",
    "    start_time=one_years_ago,\n",
    "    end_time=today,\n",
    "    count=10,  # 获取最近10条数据\n",
    "    fill_data=False\n",
    ")\n",
    "# 查看返回数据的格式\n",
    "print(f'获取股票 {stock_code} 的行情数据格式：{type(stock_data)}')\n",
    "# 解析返回数据\n",
    "\"\"\"\n",
    "{field1 : value1, field2 : value2, ...}\n",
    "            field1, field2, ... : 数据字段\n",
    "            value1, value2, ... : pd.DataFrame 字段对应的数据，各字段维度相同，index为stock_list，columns为time_list\n",
    "\"\"\"\n",
    "# 获取time字段的数据\n",
    "stock_data_time: pd.DataFrame = stock_data['time']\n",
    "\n",
    "stock_data_time.head()"
   ],
   "outputs": [],
   "execution_count": null
  },
  {
   "cell_type": "code",
   "id": "36fcbe38c274df14",
   "metadata": {},
   "source": [
    "# 获取下载的行情数据--获取所有数据\n",
    "stock_data = xtdata.get_market_data(\n",
    "    field_list=['time', 'open', 'high', 'low', 'close', 'volume', 'amount', 'settle', 'openInterest'],\n",
    "    stock_list=[stock_code],\n",
    "    period='1w',\n",
    "    start_time=one_years_ago,\n",
    "    end_time=today,\n",
    "    count=-1,\n",
    "    # dividend_type='none',  # 不获取分红派息数据\n",
    "    dividend_type='front',  # 获取前复权数据\n",
    "    fill_data=False\n",
    ")\n",
    "# 查看返回数据的格式\n",
    "print(f'获取股票 {stock_code} 的行情数据{len(stock_data)}格式：{type(stock_data)}')\n",
    "stock_data['high'].head()  # 查看返回数据的格式"
   ],
   "outputs": [],
   "execution_count": null
  },
  {
   "cell_type": "code",
   "id": "d8df5ae93f9d8595",
   "metadata": {},
   "source": [
    "# 测试未下载的股票行情数据能否获取\n",
    "stock_code = '000001.SZ'  # 测试未下载的股票代码\n",
    "print(f'开始获取股票 {stock_code} 的行情数据')\n",
    "stock_data = xtdata.get_market_data(\n",
    "    field_list=['time', 'open', 'high', 'low', 'close', 'volume', 'amount', 'settle', 'openInterest'],\n",
    "    stock_list=[stock_code],\n",
    "    period='1d',\n",
    "    start_time=three_years_ago,\n",
    "    end_time=two_years_ago,\n",
    "    count=-1,\n",
    "    dividend_type='none',\n",
    "    fill_data=False\n",
    ")\n",
    "stock_data['time'].head()  # 查看返回数据的格式"
   ],
   "outputs": [],
   "execution_count": null
  },
  {
   "cell_type": "code",
   "id": "fe80656b1794ca8f",
   "metadata": {},
   "source": [
    "# 测试能否够获取前复权的股票行情数据\n",
    "print(f\"开始获取股票 {stock_code} 的前复权行情数据\")\n",
    "stock_data = xtdata.get_market_data(\n",
    "    field_list=['time', 'open', 'high', 'low', 'close', 'volume', 'amount', 'settle', 'openInterest'],\n",
    "    stock_list=[stock_code],\n",
    "    period='1d',\n",
    "    start_time=one_years_ago,\n",
    "    end_time=today,\n",
    "    count=10,  # 获取最近10条数据\n",
    "    dividend_type='front',  # 获取前复权数据 0530:11.108 0603:11.178 0612:11.56 0613：11.68\n",
    "    # dividend_type='none',  # 获取无复权数据 0530:11.47 0603:11.54 0612:11.56 0613:11.68\n",
    "    fill_data=False\n",
    ")\n",
    "stock_data['open'].head()"
   ],
   "outputs": [],
   "execution_count": null
  },
  {
   "metadata": {},
   "cell_type": "code",
   "source": [
    "# 计算一下“沪深A股”成分股最近三年的日K行情数量量\n",
    "a_sector_name = '沪深A股'\n",
    "stock_list: List = xtdata.get_stock_list_in_sector(a_sector_name)\n",
    "print(f'获取板块 {a_sector_name} 成分股列表成功，共有 {len(stock_list)} 支股票')"
   ],
   "id": "33463c43156ac669",
   "outputs": [],
   "execution_count": null
  },
  {
   "metadata": {},
   "cell_type": "code",
   "source": [
    "# 遍历成分股列表，下载每支股票的日K行情数据\n",
    "for stock_code in stock_list:\n",
    "    print(f'开始下载股票 {stock_code} 的日K行情数据')\n",
    "    xtdata.download_history_data(\n",
    "        stock_code=stock_code,\n",
    "        period='1d',\n",
    "        start_time=three_years_ago,\n",
    "        end_time=today,\n",
    "        incrementally=False\n",
    "    )\n",
    "    print(f'下载板块 {a_sector_name} 成分股{stock_code}的日K行情数据成功')"
   ],
   "id": "e83c56bc6560e3b2",
   "outputs": [],
   "execution_count": null
  },
  {
   "metadata": {},
   "cell_type": "code",
   "source": [
    "a300_sector_name = '沪深300'\n",
    "a300_stock_list: List = xtdata.get_stock_list_in_sector(a300_sector_name)\n",
    "print(f'获取板块 {a300_sector_name} 成分股列表成功，共有 {len(a300_stock_list)} 支股票')"
   ],
   "id": "b6253d44237672b7",
   "outputs": [],
   "execution_count": null
  },
  {
   "metadata": {},
   "cell_type": "code",
   "source": [
    "stock_data = xtdata.get_market_data(\n",
    "    field_list=['time', 'open', 'high', 'low', 'close', 'volume', 'amount'],\n",
    "    stock_list=['002415.SZ'],\n",
    "    period='1d',\n",
    "    start_time=three_years_ago,\n",
    "    end_time=today,\n",
    "    count=-1,\n",
    "    dividend_type='none',\n",
    "    fill_data=False\n",
    ")\n",
    "print(f'获取股票 002415.SZ 的日K行情数据成功，共有 {len(stock_data[\"time\"].columns.tolist())} 条数据')"
   ],
   "id": "d846791d1986e37f",
   "outputs": [],
   "execution_count": null
  },
  {
   "metadata": {},
   "cell_type": "code",
   "source": [
    "# 计算沪深300成分股最近三年的日K行情数量-已经下载好了\n",
    "d_300_count: int = 0\n",
    "for a300_sector_code in a300_stock_list:\n",
    "    stock_data = xtdata.get_market_data(\n",
    "        field_list=['time', 'open', 'high', 'low', 'close', 'volume', 'amount', 'settle', 'openInterest'],\n",
    "        stock_list=[a300_sector_code],\n",
    "        period='1d',\n",
    "        start_time=three_years_ago,\n",
    "        end_time=today,\n",
    "        count=-1,\n",
    "        dividend_type='front',\n",
    "        fill_data=False\n",
    "    )\n",
    "    # 计算该股票的日K行情数量\n",
    "    stock_objs = parse_stock_data(stock_data, QmtStockDailyOri)\n",
    "\n",
    "    d_300_count += len(stock_objs)\n",
    "\n",
    "print(f'沪深300成分股最近三年的日K行情数量为：{d_300_count}')"
   ],
   "id": "d6628d6afb2a0bac",
   "outputs": [],
   "execution_count": null
  },
  {
   "metadata": {},
   "cell_type": "code",
   "source": [
    "stock_data = xtdata.get_market_data(\n",
    "        field_list=['time', 'open', 'high', 'low', 'close', 'volume', 'amount', 'settle', 'openInterest'],\n",
    "        stock_list=a300_stock_list,\n",
    "        period='1d',\n",
    "        start_time=three_years_ago,\n",
    "        end_time=today,\n",
    "        count=-1,\n",
    "        dividend_type='none',\n",
    "        fill_data=False\n",
    "    )\n",
    "print(f'获取沪深300成分股最近三年的日K行情数据成功')\n",
    "stock_objs = parse_stock_data(stock_data, QmtStockDailyOri)\n",
    "print(f'解析沪深300成分股最近三年的日K行情数据成功，共有 {len(stock_objs)} 条数据')"
   ],
   "id": "5e39a9155518a06d",
   "outputs": [],
   "execution_count": null
  },
  {
   "metadata": {},
   "cell_type": "code",
   "source": [
    "# 数据下载回调函数\n",
    "def download_kline_callback(data):\n",
    "    print(f'下载K线数据回调: {data}')"
   ],
   "id": "c447b32ac82d4bba",
   "outputs": [],
   "execution_count": null
  },
  {
   "metadata": {},
   "cell_type": "code",
   "source": [
    "def batch_download_all_stocks(stock_codes: List[str], start_time_str: str, end_time_str: str):\n",
    "    \"\"\"\n",
    "    批量下载所有股票的历史数据\n",
    "\n",
    "    Args:\n",
    "        stock_codes: 股票代码列表\n",
    "        start_time_str: 开始时间字符串\n",
    "        end_time_str: 结束时间字符串\n",
    "    \"\"\"\n",
    "    try:\n",
    "        # 打印函数入参\n",
    "        print(f'批量下载股票代码列表: {len(stock_codes)},开始时间: {start_time_str}, 结束时间: {end_time_str}')\n",
    "        print(f\"开始批量下载{len(stock_codes)}只股票的历史数据，时间范围：{start_time_str} - {end_time_str}\")\n",
    "\n",
    "        # 批量下载所有股票数据\n",
    "        xtdata.download_history_data2(\n",
    "            stock_list=stock_codes,\n",
    "            period='1d',\n",
    "            start_time=start_time_str,\n",
    "            end_time=end_time_str,\n",
    "            callback=download_kline_callback,\n",
    "            incrementally=False  # 使用增量下载\n",
    "        )\n",
    "\n",
    "        print(f\"批量下载{len(stock_codes)}只股票的历史数据完成\")\n",
    "\n",
    "    except Exception as e:\n",
    "        print(f\"批量下载股票数据失败: {e}\")\n",
    "        raise"
   ],
   "id": "9944aa560a108870",
   "outputs": [],
   "execution_count": null
  },
  {
   "metadata": {},
   "cell_type": "code",
   "source": [
    "a300_sector_name = '沪深300'\n",
    "a300_stock_list: List = xtdata.get_stock_list_in_sector(a300_sector_name)\n",
    "print(f'获取板块 {a300_sector_name} 成分股列表成功，共有 {len(a300_stock_list)} 支股票')\n",
    "\n",
    "# 提取所有股票代码\n",
    "all_stock_codes = [sector_stock\n",
    "                   for sector_stock in a300_stock_list]\n",
    "total_stocks = len(all_stock_codes)\n",
    "print(f\"获取到沪深A股成分股共{total_stocks}只股票\")\n",
    "# 取一周前的日期\n",
    "begin_time = (datetime.now() - timedelta(days=20))\n",
    "print(f'begin_time为：{begin_time}')\n",
    "\n",
    "# 获取今天日期\n",
    "today = datetime.now()\n",
    "print(f'今天的日期为：{today}')\n",
    "# 1. 前置批量下载所有股票的历史数据\n",
    "start_time_str = begin_time.strftime('%Y%m%d')\n",
    "end_time_str = today.strftime('%Y%m%d')"
   ],
   "id": "e2a778432ec07e98",
   "outputs": [],
   "execution_count": null
  },
  {
   "metadata": {},
   "cell_type": "code",
   "source": [
    "download_start_time = datetime.now()\n",
    "batch_download_all_stocks(all_stock_codes, start_time_str, end_time_str)\n",
    "download_end_time = datetime.now()\n",
    "print(f\"批量下载耗时：{download_end_time - download_start_time}\")"
   ],
   "id": "fbea3b2396d457ee",
   "outputs": [],
   "execution_count": null
  }
 ],
 "metadata": {
  "kernelspec": {
   "display_name": "smartone_quant",
   "language": "python",
   "name": "smartone_quant"
  },
  "language_info": {
   "codemirror_mode": {
    "name": "ipython",
    "version": 3
   },
   "file_extension": ".py",
   "mimetype": "text/x-python",
   "name": "python",
   "nbconvert_exporter": "python",
   "pygments_lexer": "ipython3",
   "version": "3.12.10"
  }
 },
 "nbformat": 4,
 "nbformat_minor": 5
}
