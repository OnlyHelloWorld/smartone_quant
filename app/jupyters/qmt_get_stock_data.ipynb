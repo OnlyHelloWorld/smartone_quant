{
 "cells": [
  {
   "cell_type": "code",
   "id": "f4d325fb54a2794d",
   "metadata": {},
   "source": [
    "import sys\n",
    "\n",
    "from IPython.core.interactiveshell import InteractiveShell\n",
    "\n",
    "InteractiveShell.ast_node_interactivity = \"all\"\n",
    "\n",
    "sys.path.append(r'C:\\Users\\19167\\AppData\\Local\\Programs\\Python\\smartone_quant')"
   ],
   "outputs": [],
   "execution_count": 4
  },
  {
   "cell_type": "code",
   "id": "7166c07bc7589eb",
   "metadata": {},
   "source": [
    "# 获取股票行情数据\n",
    "\"\"\"\n",
    "\"time\"                #时间戳\n",
    "\"open\"                #开盘价\n",
    "\"high\"                #最高价\n",
    "\"low\"                 #最低价\n",
    "\"close\"               #收盘价\n",
    "\"volume\"              #成交量\n",
    "\"amount\"              #成交额\n",
    "\"settle\"              #今结算\n",
    "\"openInterest\"        #持仓量\n",
    "\"\"\""
   ],
   "outputs": [],
   "execution_count": null
  },
  {
   "cell_type": "code",
   "id": "initial_id",
   "metadata": {
    "ExecuteTime": {
     "end_time": "2025-06-20T07:35:25.772045Z",
     "start_time": "2025-06-20T07:35:25.758554Z"
    }
   },
   "source": [
    "from typing import List\n",
    "import pandas as pd\n",
    "\n",
    "# 日期工具\n",
    "from datetime import datetime, timedelta\n",
    "from xtquant import xtdata\n",
    "\n",
    "from app.models.qmt_stock_daily import QmtStockDailyOri"
   ],
   "outputs": [],
   "execution_count": 5
  },
  {
   "cell_type": "code",
   "id": "bc31972795a0554f",
   "metadata": {
    "ExecuteTime": {
     "end_time": "2025-06-20T07:35:28.506461Z",
     "start_time": "2025-06-20T07:35:28.490397Z"
    }
   },
   "source": [
    "# 测试下载000001.SZ的日 k 行情数据并获取打印\n",
    "stock_code: str = '000001.SZ'\n",
    "print(f'开始下载股票{stock_code}的行情数据')\n",
    "# 获取一年前的日期,yyyyMMdd格式\n",
    "one_years_ago = (datetime.now() - timedelta(days=1 * 365)).strftime('%Y%m%d')\n",
    "print(f'一年前的日期为：{one_years_ago}')\n",
    "# 获取两年前的日期,yyyyMMdd格式\n",
    "two_years_ago = (datetime.now() - timedelta(days=2 * 365)).strftime('%Y%m%d')\n",
    "print(f'两年前的日期为：{two_years_ago}')\n",
    "# 获取三年前的日期,yyyyMMdd格式\n",
    "three_years_ago = (datetime.now() - timedelta(days=3 * 365)).strftime('%Y%m%d')\n",
    "print(f'三年前的日期为：{three_years_ago}')\n",
    "# 获取今天日期\n",
    "today = datetime.now().strftime('%Y%m%d')\n",
    "print(f'今天的日期为：{today}')"
   ],
   "outputs": [
    {
     "name": "stdout",
     "output_type": "stream",
     "text": [
      "开始下载股票000001.SZ的行情数据\n",
      "一年前的日期为：20240620\n",
      "两年前的日期为：20230621\n",
      "三年前的日期为：20220621\n",
      "今天的日期为：20250620\n"
     ]
    }
   ],
   "execution_count": 6
  },
  {
   "metadata": {},
   "cell_type": "code",
   "source": [
    "\"\"\"\n",
    "get_market_data函数返回数据格式为：\n",
    "{field1 : value1, field2 : value2, ...}\n",
    "            field1, field2, ... : 数据字段\n",
    "            value1, value2, ... : pd.DataFrame 字段对应的数据，各字段维度相同，index为stock_list，columns为time_list\n",
    "\"\"\"\n",
    "\n",
    "\n",
    "# 公共解析数据的方法，将stock_data解析为股票对象\n",
    "def parse_stock_data(stock_data: dict, model_cls = QmtStockDailyOri) -> list:\n",
    "    \"\"\"\n",
    "    解析股票行情数据，支持日/周/月K模型\n",
    "    :param stock_data: 股票行情数据\n",
    "    :param model_cls: 股票数据模型类\n",
    "    :return: 股票对象列表\n",
    "    \"\"\"\n",
    "    stock_list = []\n",
    "    stock_data_time = stock_data['time']\n",
    "    stock_codes = stock_data_time.index.tolist()\n",
    "    stock_time_list = stock_data_time.columns.tolist()\n",
    "    for stock_code in stock_codes:\n",
    "        for stock_time in stock_time_list:\n",
    "            stock_open = stock_data['open'].loc[stock_code, stock_time].round(2)\n",
    "            stock_high = stock_data['high'].loc[stock_code, stock_time].round(2)\n",
    "            stock_low = stock_data['low'].loc[stock_code, stock_time].round(2)\n",
    "            stock_close = stock_data['close'].loc[stock_code, stock_time].round(2)\n",
    "            stock_volume = stock_data['volume'].loc[stock_code, stock_time]\n",
    "            stock_amount = stock_data['amount'].loc[stock_code, stock_time]\n",
    "            stock_obj = model_cls(\n",
    "                code=stock_code,\n",
    "                time=stock_time,\n",
    "                open=stock_open,\n",
    "                high=stock_high,\n",
    "                low=stock_low,\n",
    "                close=stock_close,\n",
    "                volume=stock_volume,\n",
    "                amount=stock_amount\n",
    "            )\n",
    "            stock_list.append(stock_obj)\n",
    "    print(f'解析股票数据成功，解析到{len(stock_list)}条数据')\n",
    "\n",
    "    return stock_list"
   ],
   "id": "15da2eac95c1abdb",
   "outputs": [],
   "execution_count": null
  },
  {
   "metadata": {
    "ExecuteTime": {
     "end_time": "2025-06-20T07:35:34.051563Z",
     "start_time": "2025-06-20T07:35:33.804518Z"
    }
   },
   "cell_type": "code",
   "source": [
    "# 获取可用周期列表\n",
    "xtdata.get_period_list()"
   ],
   "id": "c45f02165d2e88e5",
   "outputs": [
    {
     "ename": "RuntimeError",
     "evalue": "当前客户端未支持此功能，请更新客户端或升级投研版 func:commonControl, error:{ \"error\" : { \"ErrorID\" : 300000, \"ErrorMsg\" : \"function not realize\" } }",
     "output_type": "error",
     "traceback": [
      "\u001B[31m---------------------------------------------------------------------------\u001B[39m",
      "\u001B[31mRuntimeError\u001B[39m                              Traceback (most recent call last)",
      "\u001B[36mCell\u001B[39m\u001B[36m \u001B[39m\u001B[32mIn[7]\u001B[39m\u001B[32m, line 2\u001B[39m\n\u001B[32m      1\u001B[39m \u001B[38;5;66;03m# 获取可用周期列表\u001B[39;00m\n\u001B[32m----> \u001B[39m\u001B[32m2\u001B[39m \u001B[43mxtdata\u001B[49m\u001B[43m.\u001B[49m\u001B[43mget_period_list\u001B[49m\u001B[43m(\u001B[49m\u001B[43m)\u001B[49m\n",
      "\u001B[36mFile \u001B[39m\u001B[32m~\\AppData\\Local\\Programs\\Python\\smartone_quant\\.venv\\Lib\\site-packages\\xtquant\\xtdata.py:2470\u001B[39m, in \u001B[36mget_period_list\u001B[39m\u001B[34m()\u001B[39m\n\u001B[32m   2468\u001B[39m \u001B[38;5;28;01mdef\u001B[39;00m\u001B[38;5;250m \u001B[39m\u001B[34mget_period_list\u001B[39m():\n\u001B[32m   2469\u001B[39m     client = get_client()\n\u001B[32m-> \u001B[39m\u001B[32m2470\u001B[39m     result = _BSON_.BSON.decode(\u001B[43mclient\u001B[49m\u001B[43m.\u001B[49m\u001B[43mcommonControl\u001B[49m\u001B[43m(\u001B[49m\u001B[33;43m'\u001B[39;49m\u001B[33;43mgetperiodlist\u001B[39;49m\u001B[33;43m'\u001B[39;49m\u001B[43m,\u001B[49m\u001B[43m \u001B[49m\u001B[43m_BSON_\u001B[49m\u001B[43m.\u001B[49m\u001B[43mBSON\u001B[49m\u001B[43m.\u001B[49m\u001B[43mencode\u001B[49m\u001B[43m(\u001B[49m\u001B[43m{\u001B[49m\u001B[43m}\u001B[49m\u001B[43m)\u001B[49m\u001B[43m)\u001B[49m)\n\u001B[32m   2471\u001B[39m     p_list = result[\u001B[33m'\u001B[39m\u001B[33mresult\u001B[39m\u001B[33m'\u001B[39m]\n\u001B[32m   2473\u001B[39m     result = []\n",
      "\u001B[31mRuntimeError\u001B[39m: 当前客户端未支持此功能，请更新客户端或升级投研版 func:commonControl, error:{ \"error\" : { \"ErrorID\" : 300000, \"ErrorMsg\" : \"function not realize\" } }"
     ]
    }
   ],
   "execution_count": 7
  },
  {
   "metadata": {
    "ExecuteTime": {
     "end_time": "2025-06-20T07:35:36.776957Z",
     "start_time": "2025-06-20T07:35:36.477433Z"
    }
   },
   "cell_type": "code",
   "source": [
    "# 获取节假日数据\n",
    "xtdata.download_holiday_data()"
   ],
   "id": "15a0fafd6cf95734",
   "outputs": [
    {
     "ename": "RuntimeError",
     "evalue": "当前客户端未支持此功能，请更新客户端或升级投研版 func:commonControl, error:{ \"error\" : { \"ErrorID\" : 300000, \"ErrorMsg\" : \"function not realize\" } }",
     "output_type": "error",
     "traceback": [
      "\u001B[31m---------------------------------------------------------------------------\u001B[39m",
      "\u001B[31mRuntimeError\u001B[39m                              Traceback (most recent call last)",
      "\u001B[36mCell\u001B[39m\u001B[36m \u001B[39m\u001B[32mIn[8]\u001B[39m\u001B[32m, line 2\u001B[39m\n\u001B[32m      1\u001B[39m \u001B[38;5;66;03m# 获取节假日数据\u001B[39;00m\n\u001B[32m----> \u001B[39m\u001B[32m2\u001B[39m \u001B[43mxtdata\u001B[49m\u001B[43m.\u001B[49m\u001B[43mdownload_holiday_data\u001B[49m\u001B[43m(\u001B[49m\u001B[43m)\u001B[49m\n",
      "\u001B[36mFile \u001B[39m\u001B[32m~\\AppData\\Local\\Programs\\Python\\smartone_quant\\.venv\\Lib\\site-packages\\xtquant\\xtdata.py:1742\u001B[39m, in \u001B[36mdownload_holiday_data\u001B[39m\u001B[34m(incrementally)\u001B[39m\n\u001B[32m   1714\u001B[39m \u001B[38;5;28;01mdef\u001B[39;00m\u001B[38;5;250m \u001B[39m\u001B[34mget_instrument_detail\u001B[39m(stock_code, iscomplete = \u001B[38;5;28;01mFalse\u001B[39;00m):\n\u001B[32m   1715\u001B[39m \u001B[38;5;250m    \u001B[39m\u001B[33;03m'''\u001B[39;00m\n\u001B[32m   1716\u001B[39m \u001B[33;03m    获取合约信息\u001B[39;00m\n\u001B[32m   1717\u001B[39m \u001B[33;03m    :param stock_code: 股票代码 e.g. \"600000.SH\"\u001B[39;00m\n\u001B[32m   1718\u001B[39m \u001B[33;03m    :return: dict\u001B[39;00m\n\u001B[32m   1719\u001B[39m \u001B[33;03m        ExchangeID(str):合约市场代码\u001B[39;00m\n\u001B[32m   1720\u001B[39m \u001B[33;03m        , InstrumentID(str):合约代码\u001B[39;00m\n\u001B[32m   1721\u001B[39m \u001B[33;03m        , InstrumentName(str):合约名称\u001B[39;00m\n\u001B[32m   1722\u001B[39m \u001B[33;03m        , ProductID(str):合约的品种ID(期货)\u001B[39;00m\n\u001B[32m   1723\u001B[39m \u001B[33;03m        , ProductName(str):合约的品种名称(期货)\u001B[39;00m\n\u001B[32m   1724\u001B[39m \u001B[33;03m        , ProductType(str):合约的类型\u001B[39;00m\n\u001B[32m   1725\u001B[39m \u001B[33;03m        , ExchangeCode(str):交易所代码\u001B[39;00m\n\u001B[32m   1726\u001B[39m \u001B[33;03m        , UniCode(str):统一规则代码\u001B[39;00m\n\u001B[32m   1727\u001B[39m \u001B[33;03m        , CreateDate(str):上市日期(期货)\u001B[39;00m\n\u001B[32m   1728\u001B[39m \u001B[33;03m        , OpenDate(str):IPO日期(股票)\u001B[39;00m\n\u001B[32m   1729\u001B[39m \u001B[33;03m        , ExpireDate(str):退市日或者到期日\u001B[39;00m\n\u001B[32m   1730\u001B[39m \u001B[33;03m        , PreClose(double):前收盘价格\u001B[39;00m\n\u001B[32m   1731\u001B[39m \u001B[33;03m        , SettlementPrice(double):前结算价格\u001B[39;00m\n\u001B[32m   1732\u001B[39m \u001B[33;03m        , UpStopPrice(double):当日涨停价\u001B[39;00m\n\u001B[32m   1733\u001B[39m \u001B[33;03m        , DownStopPrice(double):当日跌停价\u001B[39;00m\n\u001B[32m   1734\u001B[39m \u001B[33;03m        , FloatVolume(double):流通股本\u001B[39;00m\n\u001B[32m   1735\u001B[39m \u001B[33;03m        , TotalVolume(double):总股本\u001B[39;00m\n\u001B[32m   1736\u001B[39m \u001B[33;03m        , LongMarginRatio(double):多头保证金率\u001B[39;00m\n\u001B[32m   1737\u001B[39m \u001B[33;03m        , ShortMarginRatio(double):空头保证金率\u001B[39;00m\n\u001B[32m   1738\u001B[39m \u001B[33;03m        , PriceTick(double):最小变价单位\u001B[39;00m\n\u001B[32m   1739\u001B[39m \u001B[33;03m        , VolumeMultiple(int):合约乘数(对期货以外的品种，默认是1)\u001B[39;00m\n\u001B[32m   1740\u001B[39m \u001B[33;03m        , MainContract(int):主力合约标记\u001B[39;00m\n\u001B[32m   1741\u001B[39m \u001B[33;03m        , LastVolume(int):昨日持仓量\u001B[39;00m\n\u001B[32m-> \u001B[39m\u001B[32m1742\u001B[39m \u001B[33;03m        , InstrumentStatus(int):合约停牌状态\u001B[39;00m\n\u001B[32m   1743\u001B[39m \u001B[33;03m        , IsTrading(bool):合约是否可交易\u001B[39;00m\n\u001B[32m   1744\u001B[39m \u001B[33;03m        , IsRecent(bool):是否是近月合约,\u001B[39;00m\n\u001B[32m   1745\u001B[39m \u001B[33;03m    '''\u001B[39;00m\n\u001B[32m   1747\u001B[39m     inst = _get_instrument_detail(stock_code)\n\u001B[32m   1748\u001B[39m     \u001B[38;5;28;01mif\u001B[39;00m \u001B[38;5;129;01mnot\u001B[39;00m inst:\n",
      "\u001B[36mFile \u001B[39m\u001B[32m~\\AppData\\Local\\Programs\\Python\\smartone_quant\\.venv\\Lib\\site-packages\\xtquant\\xtdata.py:275\u001B[39m, in \u001B[36m_BSON_call_common\u001B[39m\u001B[34m(interface, func, param)\u001B[39m\n\u001B[32m    273\u001B[39m p_arr_type = ctypes.POINTER(base_type)\n\u001B[32m    274\u001B[39m obj = ctypes.cast(buff, p_arr_type).contents\n\u001B[32m--> \u001B[39m\u001B[32m275\u001B[39m obj._base = capsule\n\u001B[32m    276\u001B[39m \u001B[38;5;28;01mreturn\u001B[39;00m np.ndarray(shape = shape, dtype = np.dtype(dtype_tuple), buffer = obj)\n",
      "\u001B[31mRuntimeError\u001B[39m: 当前客户端未支持此功能，请更新客户端或升级投研版 func:commonControl, error:{ \"error\" : { \"ErrorID\" : 300000, \"ErrorMsg\" : \"function not realize\" } }"
     ]
    }
   ],
   "execution_count": 8
  },
  {
   "metadata": {
    "ExecuteTime": {
     "end_time": "2025-06-20T07:35:44.249634Z",
     "start_time": "2025-06-20T07:35:44.240605Z"
    }
   },
   "cell_type": "code",
   "source": [
    "holidays: List = xtdata.get_holidays()\n",
    "print(f'节假日数据：{holidays}')"
   ],
   "id": "7bd7dbd0-ce2c-470b-b4cb-78f03e642f3e",
   "outputs": [
    {
     "name": "stdout",
     "output_type": "stream",
     "text": [
      "节假日数据：[]\n"
     ]
    }
   ],
   "execution_count": 9
  },
  {
   "metadata": {
    "ExecuteTime": {
     "end_time": "2025-06-20T07:35:46.545634Z",
     "start_time": "2025-06-20T07:35:46.415526Z"
    }
   },
   "cell_type": "code",
   "source": [
    "# 获取交易日历\n",
    "xtdata.get_trading_calendar('SH', start_time='20250101', end_time='20251231')"
   ],
   "id": "14a52f34-f18e-4e4d-a00f-3887ecf655db",
   "outputs": [
    {
     "ename": "RuntimeError",
     "evalue": "当前客户端未支持此功能，请更新客户端或升级投研版 func:commonControl, error:{ \"error\" : { \"ErrorID\" : 300000, \"ErrorMsg\" : \"function not realize\" } }",
     "output_type": "error",
     "traceback": [
      "\u001B[31m---------------------------------------------------------------------------\u001B[39m",
      "\u001B[31mRuntimeError\u001B[39m                              Traceback (most recent call last)",
      "\u001B[36mCell\u001B[39m\u001B[36m \u001B[39m\u001B[32mIn[10]\u001B[39m\u001B[32m, line 2\u001B[39m\n\u001B[32m      1\u001B[39m \u001B[38;5;66;03m# 获取交易日历\u001B[39;00m\n\u001B[32m----> \u001B[39m\u001B[32m2\u001B[39m \u001B[43mxtdata\u001B[49m\u001B[43m.\u001B[49m\u001B[43mget_trading_calendar\u001B[49m\u001B[43m(\u001B[49m\u001B[33;43m'\u001B[39;49m\u001B[33;43mSH\u001B[39;49m\u001B[33;43m'\u001B[39;49m\u001B[43m,\u001B[49m\u001B[43m \u001B[49m\u001B[43mstart_time\u001B[49m\u001B[43m=\u001B[49m\u001B[33;43m'\u001B[39;49m\u001B[33;43m20250101\u001B[39;49m\u001B[33;43m'\u001B[39;49m\u001B[43m,\u001B[49m\u001B[43m \u001B[49m\u001B[43mend_time\u001B[49m\u001B[43m=\u001B[49m\u001B[33;43m'\u001B[39;49m\u001B[33;43m20251231\u001B[39;49m\u001B[33;43m'\u001B[39;49m\u001B[43m)\u001B[49m\n",
      "\u001B[36mFile \u001B[39m\u001B[32m~\\AppData\\Local\\Programs\\Python\\smartone_quant\\.venv\\Lib\\site-packages\\xtquant\\xtdata.py:1784\u001B[39m, in \u001B[36mget_trading_calendar\u001B[39m\u001B[34m(market, start_time, end_time)\u001B[39m\n\u001B[32m   1771\u001B[39m         inst[\u001B[33m'\u001B[39m\u001B[33mTotalVolume\u001B[39m\u001B[33m'\u001B[39m] = inst.get(\u001B[33m'\u001B[39m\u001B[33mTotalVolumn\u001B[39m\u001B[33m'\u001B[39m)\n\u001B[32m   1773\u001B[39m     \u001B[38;5;28;01mreturn\u001B[39;00m inst\n\u001B[32m   1775\u001B[39m field_list = [\n\u001B[32m   1776\u001B[39m         \u001B[33m'\u001B[39m\u001B[33mExchangeID\u001B[39m\u001B[33m'\u001B[39m\n\u001B[32m   1777\u001B[39m         , \u001B[33m'\u001B[39m\u001B[33mInstrumentID\u001B[39m\u001B[33m'\u001B[39m\n\u001B[32m   1778\u001B[39m         , \u001B[33m'\u001B[39m\u001B[33mInstrumentName\u001B[39m\u001B[33m'\u001B[39m\n\u001B[32m   1779\u001B[39m         , \u001B[33m'\u001B[39m\u001B[33mProductID\u001B[39m\u001B[33m'\u001B[39m\n\u001B[32m   1780\u001B[39m         , \u001B[33m'\u001B[39m\u001B[33mProductName\u001B[39m\u001B[33m'\u001B[39m\n\u001B[32m   1781\u001B[39m         , \u001B[33m'\u001B[39m\u001B[33mProductType\u001B[39m\u001B[33m'\u001B[39m\n\u001B[32m   1782\u001B[39m         , \u001B[33m'\u001B[39m\u001B[33mExchangeCode\u001B[39m\u001B[33m'\u001B[39m\n\u001B[32m   1783\u001B[39m         , \u001B[33m'\u001B[39m\u001B[33mUniCode\u001B[39m\u001B[33m'\u001B[39m\n\u001B[32m-> \u001B[39m\u001B[32m1784\u001B[39m         , \u001B[33m'\u001B[39m\u001B[33mCreateDate\u001B[39m\u001B[33m'\u001B[39m\n\u001B[32m   1785\u001B[39m         , \u001B[33m'\u001B[39m\u001B[33mOpenDate\u001B[39m\u001B[33m'\u001B[39m\n\u001B[32m   1786\u001B[39m         , \u001B[33m'\u001B[39m\u001B[33mExpireDate\u001B[39m\u001B[33m'\u001B[39m\n\u001B[32m   1787\u001B[39m         , \u001B[33m'\u001B[39m\u001B[33mTradingDay\u001B[39m\u001B[33m'\u001B[39m\n\u001B[32m   1788\u001B[39m         , \u001B[33m'\u001B[39m\u001B[33mPreClose\u001B[39m\u001B[33m'\u001B[39m\n\u001B[32m   1789\u001B[39m         , \u001B[33m'\u001B[39m\u001B[33mSettlementPrice\u001B[39m\u001B[33m'\u001B[39m\n\u001B[32m   1790\u001B[39m         , \u001B[33m'\u001B[39m\u001B[33mUpStopPrice\u001B[39m\u001B[33m'\u001B[39m\n\u001B[32m   1791\u001B[39m         , \u001B[33m'\u001B[39m\u001B[33mDownStopPrice\u001B[39m\u001B[33m'\u001B[39m\n\u001B[32m   1792\u001B[39m         , \u001B[33m'\u001B[39m\u001B[33mFloatVolume\u001B[39m\u001B[33m'\u001B[39m\n\u001B[32m   1793\u001B[39m         , \u001B[33m'\u001B[39m\u001B[33mTotalVolume\u001B[39m\u001B[33m'\u001B[39m\n\u001B[32m   1794\u001B[39m         , \u001B[33m'\u001B[39m\u001B[33mLongMarginRatio\u001B[39m\u001B[33m'\u001B[39m\n\u001B[32m   1795\u001B[39m         , \u001B[33m'\u001B[39m\u001B[33mShortMarginRatio\u001B[39m\u001B[33m'\u001B[39m\n\u001B[32m   1796\u001B[39m         , \u001B[33m'\u001B[39m\u001B[33mPriceTick\u001B[39m\u001B[33m'\u001B[39m\n\u001B[32m   1797\u001B[39m         , \u001B[33m'\u001B[39m\u001B[33mVolumeMultiple\u001B[39m\u001B[33m'\u001B[39m\n\u001B[32m   1798\u001B[39m         , \u001B[33m'\u001B[39m\u001B[33mMainContract\u001B[39m\u001B[33m'\u001B[39m\n\u001B[32m   1799\u001B[39m         , \u001B[33m'\u001B[39m\u001B[33mLastVolume\u001B[39m\u001B[33m'\u001B[39m\n\u001B[32m   1800\u001B[39m         , \u001B[33m'\u001B[39m\u001B[33mInstrumentStatus\u001B[39m\u001B[33m'\u001B[39m\n\u001B[32m   1801\u001B[39m         , \u001B[33m'\u001B[39m\u001B[33mIsTrading\u001B[39m\u001B[33m'\u001B[39m\n\u001B[32m   1802\u001B[39m         , \u001B[33m'\u001B[39m\u001B[33mIsRecent\u001B[39m\u001B[33m'\u001B[39m\n\u001B[32m   1803\u001B[39m     ]\n\u001B[32m   1804\u001B[39m ret = {}\n\u001B[32m   1805\u001B[39m \u001B[38;5;28;01mfor\u001B[39;00m field \u001B[38;5;129;01min\u001B[39;00m field_list:\n",
      "\u001B[36mFile \u001B[39m\u001B[32m~\\AppData\\Local\\Programs\\Python\\smartone_quant\\.venv\\Lib\\site-packages\\xtquant\\xtdata.py:1742\u001B[39m, in \u001B[36mdownload_holiday_data\u001B[39m\u001B[34m(incrementally)\u001B[39m\n\u001B[32m   1714\u001B[39m \u001B[38;5;28;01mdef\u001B[39;00m\u001B[38;5;250m \u001B[39m\u001B[34mget_instrument_detail\u001B[39m(stock_code, iscomplete = \u001B[38;5;28;01mFalse\u001B[39;00m):\n\u001B[32m   1715\u001B[39m \u001B[38;5;250m    \u001B[39m\u001B[33;03m'''\u001B[39;00m\n\u001B[32m   1716\u001B[39m \u001B[33;03m    获取合约信息\u001B[39;00m\n\u001B[32m   1717\u001B[39m \u001B[33;03m    :param stock_code: 股票代码 e.g. \"600000.SH\"\u001B[39;00m\n\u001B[32m   1718\u001B[39m \u001B[33;03m    :return: dict\u001B[39;00m\n\u001B[32m   1719\u001B[39m \u001B[33;03m        ExchangeID(str):合约市场代码\u001B[39;00m\n\u001B[32m   1720\u001B[39m \u001B[33;03m        , InstrumentID(str):合约代码\u001B[39;00m\n\u001B[32m   1721\u001B[39m \u001B[33;03m        , InstrumentName(str):合约名称\u001B[39;00m\n\u001B[32m   1722\u001B[39m \u001B[33;03m        , ProductID(str):合约的品种ID(期货)\u001B[39;00m\n\u001B[32m   1723\u001B[39m \u001B[33;03m        , ProductName(str):合约的品种名称(期货)\u001B[39;00m\n\u001B[32m   1724\u001B[39m \u001B[33;03m        , ProductType(str):合约的类型\u001B[39;00m\n\u001B[32m   1725\u001B[39m \u001B[33;03m        , ExchangeCode(str):交易所代码\u001B[39;00m\n\u001B[32m   1726\u001B[39m \u001B[33;03m        , UniCode(str):统一规则代码\u001B[39;00m\n\u001B[32m   1727\u001B[39m \u001B[33;03m        , CreateDate(str):上市日期(期货)\u001B[39;00m\n\u001B[32m   1728\u001B[39m \u001B[33;03m        , OpenDate(str):IPO日期(股票)\u001B[39;00m\n\u001B[32m   1729\u001B[39m \u001B[33;03m        , ExpireDate(str):退市日或者到期日\u001B[39;00m\n\u001B[32m   1730\u001B[39m \u001B[33;03m        , PreClose(double):前收盘价格\u001B[39;00m\n\u001B[32m   1731\u001B[39m \u001B[33;03m        , SettlementPrice(double):前结算价格\u001B[39;00m\n\u001B[32m   1732\u001B[39m \u001B[33;03m        , UpStopPrice(double):当日涨停价\u001B[39;00m\n\u001B[32m   1733\u001B[39m \u001B[33;03m        , DownStopPrice(double):当日跌停价\u001B[39;00m\n\u001B[32m   1734\u001B[39m \u001B[33;03m        , FloatVolume(double):流通股本\u001B[39;00m\n\u001B[32m   1735\u001B[39m \u001B[33;03m        , TotalVolume(double):总股本\u001B[39;00m\n\u001B[32m   1736\u001B[39m \u001B[33;03m        , LongMarginRatio(double):多头保证金率\u001B[39;00m\n\u001B[32m   1737\u001B[39m \u001B[33;03m        , ShortMarginRatio(double):空头保证金率\u001B[39;00m\n\u001B[32m   1738\u001B[39m \u001B[33;03m        , PriceTick(double):最小变价单位\u001B[39;00m\n\u001B[32m   1739\u001B[39m \u001B[33;03m        , VolumeMultiple(int):合约乘数(对期货以外的品种，默认是1)\u001B[39;00m\n\u001B[32m   1740\u001B[39m \u001B[33;03m        , MainContract(int):主力合约标记\u001B[39;00m\n\u001B[32m   1741\u001B[39m \u001B[33;03m        , LastVolume(int):昨日持仓量\u001B[39;00m\n\u001B[32m-> \u001B[39m\u001B[32m1742\u001B[39m \u001B[33;03m        , InstrumentStatus(int):合约停牌状态\u001B[39;00m\n\u001B[32m   1743\u001B[39m \u001B[33;03m        , IsTrading(bool):合约是否可交易\u001B[39;00m\n\u001B[32m   1744\u001B[39m \u001B[33;03m        , IsRecent(bool):是否是近月合约,\u001B[39;00m\n\u001B[32m   1745\u001B[39m \u001B[33;03m    '''\u001B[39;00m\n\u001B[32m   1747\u001B[39m     inst = _get_instrument_detail(stock_code)\n\u001B[32m   1748\u001B[39m     \u001B[38;5;28;01mif\u001B[39;00m \u001B[38;5;129;01mnot\u001B[39;00m inst:\n",
      "\u001B[36mFile \u001B[39m\u001B[32m~\\AppData\\Local\\Programs\\Python\\smartone_quant\\.venv\\Lib\\site-packages\\xtquant\\xtdata.py:275\u001B[39m, in \u001B[36m_BSON_call_common\u001B[39m\u001B[34m(interface, func, param)\u001B[39m\n\u001B[32m    273\u001B[39m p_arr_type = ctypes.POINTER(base_type)\n\u001B[32m    274\u001B[39m obj = ctypes.cast(buff, p_arr_type).contents\n\u001B[32m--> \u001B[39m\u001B[32m275\u001B[39m obj._base = capsule\n\u001B[32m    276\u001B[39m \u001B[38;5;28;01mreturn\u001B[39;00m np.ndarray(shape = shape, dtype = np.dtype(dtype_tuple), buffer = obj)\n",
      "\u001B[31mRuntimeError\u001B[39m: 当前客户端未支持此功能，请更新客户端或升级投研版 func:commonControl, error:{ \"error\" : { \"ErrorID\" : 300000, \"ErrorMsg\" : \"function not realize\" } }"
     ]
    }
   ],
   "execution_count": 10
  },
  {
   "metadata": {
    "ExecuteTime": {
     "end_time": "2025-06-20T07:35:50.614690Z",
     "start_time": "2025-06-20T07:35:50.558673Z"
    }
   },
   "cell_type": "code",
   "source": [
    "# 获取交易时段\n",
    "xtdata.get_all_trading_periods()"
   ],
   "id": "8423a60fda468305",
   "outputs": [
    {
     "ename": "RuntimeError",
     "evalue": "当前客户端未支持此功能，请更新客户端或升级投研版 func:commonControl, error:{ \"error\" : { \"ErrorID\" : 300000, \"ErrorMsg\" : \"function not realize\" } }",
     "output_type": "error",
     "traceback": [
      "\u001B[31m---------------------------------------------------------------------------\u001B[39m",
      "\u001B[31mRuntimeError\u001B[39m                              Traceback (most recent call last)",
      "\u001B[36mCell\u001B[39m\u001B[36m \u001B[39m\u001B[32mIn[11]\u001B[39m\u001B[32m, line 2\u001B[39m\n\u001B[32m      1\u001B[39m \u001B[38;5;66;03m# 获取交易时段\u001B[39;00m\n\u001B[32m----> \u001B[39m\u001B[32m2\u001B[39m \u001B[43mxtdata\u001B[49m\u001B[43m.\u001B[49m\u001B[43mget_all_trading_periods\u001B[49m\u001B[43m(\u001B[49m\u001B[43m)\u001B[49m\n",
      "\u001B[36mFile \u001B[39m\u001B[32m~\\AppData\\Local\\Programs\\Python\\smartone_quant\\.venv\\Lib\\site-packages\\xtquant\\xtdata.py:3358\u001B[39m, in \u001B[36mget_all_trading_periods\u001B[39m\u001B[34m()\u001B[39m\n\u001B[32m      0\u001B[39m <Error retrieving source code with stack_data see ipython/ipython#13598>\n",
      "\u001B[36mFile \u001B[39m\u001B[32m~\\AppData\\Local\\Programs\\Python\\smartone_quant\\.venv\\Lib\\site-packages\\xtquant\\xtdata.py:275\u001B[39m, in \u001B[36m_BSON_call_common\u001B[39m\u001B[34m(interface, func, param)\u001B[39m\n\u001B[32m    273\u001B[39m p_arr_type = ctypes.POINTER(base_type)\n\u001B[32m    274\u001B[39m obj = ctypes.cast(buff, p_arr_type).contents\n\u001B[32m--> \u001B[39m\u001B[32m275\u001B[39m obj._base = capsule\n\u001B[32m    276\u001B[39m \u001B[38;5;28;01mreturn\u001B[39;00m np.ndarray(shape = shape, dtype = np.dtype(dtype_tuple), buffer = obj)\n",
      "\u001B[31mRuntimeError\u001B[39m: 当前客户端未支持此功能，请更新客户端或升级投研版 func:commonControl, error:{ \"error\" : { \"ErrorID\" : 300000, \"ErrorMsg\" : \"function not realize\" } }"
     ]
    }
   ],
   "execution_count": 11
  },
  {
   "cell_type": "code",
   "id": "4c39223f-cbc3-4303-8de4-9e5f32044954",
   "metadata": {},
   "source": [
    "# 下载股票的日K 行情数据\n",
    "xtdata.download_history_data(\n",
    "    stock_code=stock_code,\n",
    "    period='1d',\n",
    "    start_time=one_years_ago,\n",
    "    end_time=today,\n",
    "    incrementally=False)\n",
    "print(f\"下载股票 {stock_code} 的日 K 数据成功\")\n",
    "# 下载股票的周K 行情数据\n",
    "xtdata.download_history_data(\n",
    "    stock_code=stock_code,\n",
    "    period='1w',\n",
    "    start_time=one_years_ago,\n",
    "    end_time=today,\n",
    "    incrementally=False)\n",
    "print(f\"下载股票 {stock_code} 的周 K 数据成功\")\n",
    "# 下载股票的月K 行情数据\n",
    "xtdata.download_history_data(\n",
    "    stock_code=stock_code,\n",
    "    period='1mon',\n",
    "    start_time=one_years_ago,\n",
    "    end_time=today,\n",
    "    incrementally=False)\n",
    "print(f\"下载股票 {stock_code} 的月 K 数据成功\")"
   ],
   "outputs": [],
   "execution_count": null
  },
  {
   "cell_type": "code",
   "id": "441a3ceee2410edf",
   "metadata": {},
   "source": [
    "# 测试获取下载的行情数据--获取最近10条数据\n",
    "stock_code: str = '000001.SZ'\n",
    "stock_data = xtdata.get_market_data(\n",
    "    field_list=['time', 'open', 'high', 'low', 'close', 'volume', 'amount', 'settle', 'openInterest'],\n",
    "    stock_list=[stock_code],\n",
    "    period='1d',\n",
    "    start_time=one_years_ago,\n",
    "    end_time=today,\n",
    "    count=10,  # 获取最近10条数据\n",
    "    fill_data=False\n",
    ")\n",
    "# 查看返回数据的格式\n",
    "print(f'获取股票 {stock_code} 的行情数据格式：{type(stock_data)}')\n",
    "# 解析返回数据\n",
    "\"\"\"\n",
    "{field1 : value1, field2 : value2, ...}\n",
    "            field1, field2, ... : 数据字段\n",
    "            value1, value2, ... : pd.DataFrame 字段对应的数据，各字段维度相同，index为stock_list，columns为time_list\n",
    "\"\"\"\n",
    "# 获取time字段的数据\n",
    "stock_data_time: pd.DataFrame = stock_data['time']\n",
    "\n",
    "stock_data_time.head()"
   ],
   "outputs": [],
   "execution_count": null
  },
  {
   "cell_type": "code",
   "id": "36fcbe38c274df14",
   "metadata": {},
   "source": [
    "# 获取下载的行情数据--获取所有数据\n",
    "stock_data = xtdata.get_market_data(\n",
    "    field_list=['time', 'open', 'high', 'low', 'close', 'volume', 'amount', 'settle', 'openInterest'],\n",
    "    stock_list=[stock_code],\n",
    "    period='1w',\n",
    "    start_time=one_years_ago,\n",
    "    end_time=today,\n",
    "    count=-1,\n",
    "    # dividend_type='none',  # 不获取分红派息数据\n",
    "    dividend_type='front',  # 获取前复权数据\n",
    "    fill_data=False\n",
    ")\n",
    "# 查看返回数据的格式\n",
    "print(f'获取股票 {stock_code} 的行情数据{len(stock_data)}格式：{type(stock_data)}')\n",
    "stock_data['high'].head()  # 查看返回数据的格式"
   ],
   "outputs": [],
   "execution_count": null
  },
  {
   "cell_type": "code",
   "id": "d8df5ae93f9d8595",
   "metadata": {},
   "source": [
    "# 测试未下载的股票行情数据能否获取\n",
    "stock_code = '000001.SZ'  # 测试未下载的股票代码\n",
    "print(f'开始获取股票 {stock_code} 的行情数据')\n",
    "stock_data = xtdata.get_market_data(\n",
    "    field_list=['time', 'open', 'high', 'low', 'close', 'volume', 'amount', 'settle', 'openInterest'],\n",
    "    stock_list=[stock_code],\n",
    "    period='1d',\n",
    "    start_time=three_years_ago,\n",
    "    end_time=two_years_ago,\n",
    "    count=-1,\n",
    "    dividend_type='none',\n",
    "    fill_data=False\n",
    ")\n",
    "stock_data['time'].head()  # 查看返回数据的格式"
   ],
   "outputs": [],
   "execution_count": null
  },
  {
   "cell_type": "code",
   "id": "fe80656b1794ca8f",
   "metadata": {},
   "source": [
    "# 测试能否够获取前复权的股票行情数据\n",
    "print(f\"开始获取股票 {stock_code} 的前复权行情数据\")\n",
    "stock_data = xtdata.get_market_data(\n",
    "    field_list=['time', 'open', 'high', 'low', 'close', 'volume', 'amount', 'settle', 'openInterest'],\n",
    "    stock_list=[stock_code],\n",
    "    period='1d',\n",
    "    start_time=one_years_ago,\n",
    "    end_time=today,\n",
    "    count=10,  # 获取最近10条数据\n",
    "    dividend_type='front',  # 获取前复权数据 0530:11.108 0603:11.178 0612:11.56 0613：11.68\n",
    "    # dividend_type='none',  # 获取无复权数据 0530:11.47 0603:11.54 0612:11.56 0613:11.68\n",
    "    fill_data=False\n",
    ")\n",
    "stock_data['open'].head()"
   ],
   "outputs": [],
   "execution_count": null
  },
  {
   "metadata": {},
   "cell_type": "code",
   "source": [
    "# 计算一下“沪深A股”成分股最近三年的日K行情数量量\n",
    "a_sector_name = '沪深A股'\n",
    "stock_list: List = xtdata.get_stock_list_in_sector(a_sector_name)\n",
    "print(f'获取板块 {a_sector_name} 成分股列表成功，共有 {len(stock_list)} 支股票')"
   ],
   "id": "33463c43156ac669",
   "outputs": [],
   "execution_count": null
  },
  {
   "metadata": {},
   "cell_type": "code",
   "source": [
    "# 遍历成分股列表，下载每支股票的日K行情数据\n",
    "for stock_code in stock_list:\n",
    "    print(f'开始下载股票 {stock_code} 的日K行情数据')\n",
    "    xtdata.download_history_data(\n",
    "        stock_code=stock_code,\n",
    "        period='1d',\n",
    "        start_time=three_years_ago,\n",
    "        end_time=today,\n",
    "        incrementally=False\n",
    "    )\n",
    "    print(f'下载板块 {a_sector_name} 成分股{stock_code}的日K行情数据成功')"
   ],
   "id": "e83c56bc6560e3b2",
   "outputs": [],
   "execution_count": null
  },
  {
   "metadata": {},
   "cell_type": "code",
   "source": [
    "a300_sector_name = '沪深300'\n",
    "a300_stock_list: List = xtdata.get_stock_list_in_sector(a300_sector_name)\n",
    "print(f'获取板块 {a300_sector_name} 成分股列表成功，共有 {len(a300_stock_list)} 支股票')"
   ],
   "id": "b6253d44237672b7",
   "outputs": [],
   "execution_count": null
  },
  {
   "metadata": {},
   "cell_type": "code",
   "source": [
    "stock_data = xtdata.get_market_data(\n",
    "    field_list=['time', 'open', 'high', 'low', 'close', 'volume', 'amount'],\n",
    "    stock_list=['002415.SZ'],\n",
    "    period='1d',\n",
    "    start_time=three_years_ago,\n",
    "    end_time=today,\n",
    "    count=-1,\n",
    "    dividend_type='none',\n",
    "    fill_data=False\n",
    ")\n",
    "print(f'获取股票 002415.SZ 的日K行情数据成功，共有 {len(stock_data[\"time\"].columns.tolist())} 条数据')"
   ],
   "id": "d846791d1986e37f",
   "outputs": [],
   "execution_count": null
  },
  {
   "metadata": {},
   "cell_type": "code",
   "source": [
    "# 计算沪深300成分股最近三年的日K行情数量-已经下载好了\n",
    "d_300_count: int = 0\n",
    "for a300_sector_code in a300_stock_list:\n",
    "    stock_data = xtdata.get_market_data(\n",
    "        field_list=['time', 'open', 'high', 'low', 'close', 'volume', 'amount', 'settle', 'openInterest'],\n",
    "        stock_list=[a300_sector_code],\n",
    "        period='1d',\n",
    "        start_time=three_years_ago,\n",
    "        end_time=today,\n",
    "        count=-1,\n",
    "        dividend_type='front',\n",
    "        fill_data=False\n",
    "    )\n",
    "    # 计算该股票的日K行情数量\n",
    "    stock_objs = parse_stock_data(stock_data, QmtStockDailyOri)\n",
    "\n",
    "    d_300_count += len(stock_objs)\n",
    "\n",
    "print(f'沪深300成分股最近三年的日K行情数量为：{d_300_count}')"
   ],
   "id": "d6628d6afb2a0bac",
   "outputs": [],
   "execution_count": null
  },
  {
   "metadata": {},
   "cell_type": "code",
   "source": [
    "stock_data = xtdata.get_market_data(\n",
    "        field_list=['time', 'open', 'high', 'low', 'close', 'volume', 'amount', 'settle', 'openInterest'],\n",
    "        stock_list=a300_stock_list,\n",
    "        period='1d',\n",
    "        start_time=three_years_ago,\n",
    "        end_time=today,\n",
    "        count=-1,\n",
    "        dividend_type='none',\n",
    "        fill_data=False\n",
    "    )\n",
    "print(f'获取沪深300成分股最近三年的日K行情数据成功')\n",
    "stock_objs = parse_stock_data(stock_data, QmtStockDailyOri)\n",
    "print(f'解析沪深300成分股最近三年的日K行情数据成功，共有 {len(stock_objs)} 条数据')"
   ],
   "id": "5e39a9155518a06d",
   "outputs": [],
   "execution_count": null
  }
 ],
 "metadata": {
  "kernelspec": {
   "display_name": "smartone_quant",
   "language": "python",
   "name": "smartone_quant"
  },
  "language_info": {
   "codemirror_mode": {
    "name": "ipython",
    "version": 3
   },
   "file_extension": ".py",
   "mimetype": "text/x-python",
   "name": "python",
   "nbconvert_exporter": "python",
   "pygments_lexer": "ipython3",
   "version": "3.12.10"
  }
 },
 "nbformat": 4,
 "nbformat_minor": 5
}
