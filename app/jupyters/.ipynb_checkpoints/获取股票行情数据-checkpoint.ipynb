{
 "cells": [
  {
   "cell_type": "markdown",
   "id": "85ee7520c462ca95",
   "metadata": {},
   "source": [
    "# 获取沪深A股中所有成分股中过去 5 年的行情数据，包括"
   ]
  },
  {
   "cell_type": "code",
   "execution_count": null,
   "id": "initial_id",
   "metadata": {},
   "outputs": [],
   "source": [
    "from typing import List\n",
    "from typing import Dict\n",
    "\n",
    "# 日期工具\n",
    "from datetime import datetime, timedelta\n",
    "from xtquant import xtdata"
   ]
  },
  {
   "cell_type": "code",
   "execution_count": null,
   "id": "14b0f7045b6138a6",
   "metadata": {},
   "outputs": [],
   "source": [
    "# 获取沪深A股中所有成分股的列表\n",
    "sector_name: str = '沪深A股'\n",
    "stock_list_in_sector: List[str] = xtdata.get_stock_list_in_sector(sector_name)\n",
    "print(f'获取板块成分股列表{len(stock_list_in_sector)}成功：{stock_list_in_sector}')"
   ]
  },
  {
   "cell_type": "code",
   "execution_count": 12,
   "id": "4c39223f-cbc3-4303-8de4-9e5f32044954",
   "metadata": {},
   "outputs": [
    {
     "name": "stdout",
     "output_type": "stream",
     "text": [
      "开始下载股票000001.SZ的行情数据\n",
      "股票000001.SZ的行情数据下载完成\n"
     ]
    }
   ],
   "source": [
    "# 下载指定股票的数据\n",
    "stock_code: str = '000001.SZ'\n",
    "print(f'开始下载股票{stock_code}的行情数据')\n",
    "xtdata.download_history_data(stock_code = stock_code, period = '1d', start_time='20250101', end_time='20250606', incrementally = None)\n",
    "print(f'股票{stock_code}的行情数据下载完成')"
   ]
  },
  {
   "cell_type": "code",
   "execution_count": 13,
   "id": "2d1971b9-1633-4881-8ef5-6854180599a5",
   "metadata": {},
   "outputs": [],
   "source": [
    "# 获取指定stock_list的行情数据函数\n",
    "def get_stock_data(stock_list: List[str], start_time: str, end_time: str) -> Dict:\n",
    "    \"\"\"\n",
    "    获取指定股票列表的行情数据\n",
    "    :param stock_list: 股票列表\n",
    "    :param start_time: 开始时间，格式为 'yyyyMMdd'\n",
    "    :param end_time: 结束时间，格式为 'yyyyMMdd'\n",
    "    \"\"\"\n",
    "    # 获取每只股票的日K 行情数据\n",
    "    stock_data = xtdata.get_market_data(\n",
    "        field_list=['time', 'open', 'high', 'low', 'close', 'volume', 'amount', 'settle', 'openInterest'],\n",
    "        stock_list=stock_list,\n",
    "        period='1d',\n",
    "        start_time=start_time,\n",
    "        end_time=end_time,\n",
    "        count=1,\n",
    "        dividend_type='cash_dividend',\n",
    "        fill_data=False\n",
    "    )\n",
    "    print(f'获取股票 {stock_list} 的行情数据{len(stock_data)}成功：{stock_data}')\n",
    "    return stock_data"
   ]
  },
  {
   "cell_type": "code",
   "execution_count": 22,
   "id": "56e7a07c-a0c2-4439-90e5-9c51f456fae8",
   "metadata": {},
   "outputs": [
    {
     "name": "stdout",
     "output_type": "stream",
     "text": [
      "一次性取数据 {'close':            20250423  20250424  20250425  20250428  20250429  20250430  \\\n",
      "000001.SZ     11.01     11.03     11.01      11.0     10.98     10.91   \n",
      "\n",
      "           20250506  20250507  20250508  20250509  ...  20250523  20250526  \\\n",
      "000001.SZ     10.96     11.03     11.08     11.15  ...     11.46     11.42   \n",
      "\n",
      "           20250527  20250528  20250529  20250530  20250603  20250604  \\\n",
      "000001.SZ     11.49     11.53     11.46     11.56     11.81     11.84   \n",
      "\n",
      "           20250605  20250606  \n",
      "000001.SZ     11.67      11.7  \n",
      "\n",
      "[1 rows x 29 columns]}\n"
     ]
    }
   ],
   "source": [
    "code = '000001.SZ'\n",
    "data = xtdata.get_market_data(['close'], [code], period='1d', start_time='20250423')\n",
    "print('一次性取数据', data)"
   ]
  },
  {
   "cell_type": "code",
   "execution_count": 28,
   "id": "36464d06-cdaa-4259-b5f9-b36337b84dc1",
   "metadata": {},
   "outputs": [
    {
     "name": "stdout",
     "output_type": "stream",
     "text": [
      "获取股票的行情数据成功：{'time':                 20250606\n",
      "000001.SZ  1749139200000, 'open':            20250606\n",
      "000001.SZ      11.7, 'high':            20250606\n",
      "000001.SZ     11.79, 'low':            20250606\n",
      "000001.SZ     11.68, 'close':            20250606\n",
      "000001.SZ      11.7, 'volume':            20250606\n",
      "000001.SZ    682353, 'amount':               20250606\n",
      "000001.SZ  799900023.0, 'openInterest':            20250606\n",
      "000001.SZ        15}\n"
     ]
    }
   ],
   "source": [
    "stock_data = xtdata.get_market_data(\n",
    "        field_list=['time', 'open', 'high', 'low', 'close', 'volume', 'amount', 'settle', 'openInterest'],\n",
    "        stock_list=['000001.SZ'],\n",
    "        period='1d',\n",
    "        start_time='20250101',\n",
    "        end_time='20250901',\n",
    "        count=1,\n",
    "        fill_data=False\n",
    "    )\n",
    "print(f'获取股票的行情数据成功：{stock_data}')"
   ]
  },
  {
   "cell_type": "code",
   "execution_count": 14,
   "id": "5afa1d5d-b398-4427-909d-d07c7cd5a2f8",
   "metadata": {},
   "outputs": [
    {
     "ename": "TypeError",
     "evalue": "cannot unpack non-iterable NoneType object",
     "output_type": "error",
     "traceback": [
      "\u001b[31m---------------------------------------------------------------------------\u001b[39m",
      "\u001b[31mTypeError\u001b[39m                                 Traceback (most recent call last)",
      "\u001b[36mCell\u001b[39m\u001b[36m \u001b[39m\u001b[32mIn[14]\u001b[39m\u001b[32m, line 2\u001b[39m\n\u001b[32m      1\u001b[39m \u001b[38;5;66;03m# 获取000001.SZ的20250101-20250606的数据\u001b[39;00m\n\u001b[32m----> \u001b[39m\u001b[32m2\u001b[39m stock_data = \u001b[43mget_stock_data\u001b[49m\u001b[43m(\u001b[49m\n\u001b[32m      3\u001b[39m \u001b[43m    \u001b[49m\u001b[43mstock_list\u001b[49m\u001b[43m=\u001b[49m\u001b[43m[\u001b[49m\u001b[33;43m'\u001b[39;49m\u001b[33;43m000001.SZ\u001b[39;49m\u001b[33;43m'\u001b[39;49m\u001b[43m]\u001b[49m\u001b[43m,\u001b[49m\n\u001b[32m      4\u001b[39m \u001b[43m    \u001b[49m\u001b[43mstart_time\u001b[49m\u001b[43m=\u001b[49m\u001b[33;43m'\u001b[39;49m\u001b[33;43m20250101\u001b[39;49m\u001b[33;43m'\u001b[39;49m\u001b[43m,\u001b[49m\n\u001b[32m      5\u001b[39m \u001b[43m    \u001b[49m\u001b[43mend_time\u001b[49m\u001b[43m=\u001b[49m\u001b[33;43m'\u001b[39;49m\u001b[33;43m20250601\u001b[39;49m\u001b[33;43m'\u001b[39;49m\n\u001b[32m      6\u001b[39m \u001b[43m)\u001b[49m\n",
      "\u001b[36mCell\u001b[39m\u001b[36m \u001b[39m\u001b[32mIn[13]\u001b[39m\u001b[32m, line 10\u001b[39m, in \u001b[36mget_stock_data\u001b[39m\u001b[34m(stock_list, start_time, end_time)\u001b[39m\n\u001b[32m      3\u001b[39m \u001b[38;5;250m\u001b[39m\u001b[33;03m\"\"\"\u001b[39;00m\n\u001b[32m      4\u001b[39m \u001b[33;03m获取指定股票列表的行情数据\u001b[39;00m\n\u001b[32m      5\u001b[39m \u001b[33;03m:param stock_list: 股票列表\u001b[39;00m\n\u001b[32m      6\u001b[39m \u001b[33;03m:param start_time: 开始时间，格式为 'yyyyMMdd'\u001b[39;00m\n\u001b[32m      7\u001b[39m \u001b[33;03m:param end_time: 结束时间，格式为 'yyyyMMdd'\u001b[39;00m\n\u001b[32m      8\u001b[39m \u001b[33;03m\"\"\"\u001b[39;00m\n\u001b[32m      9\u001b[39m \u001b[38;5;66;03m# 获取每只股票的日K 行情数据\u001b[39;00m\n\u001b[32m---> \u001b[39m\u001b[32m10\u001b[39m stock_data = \u001b[43mxtdata\u001b[49m\u001b[43m.\u001b[49m\u001b[43mget_market_data\u001b[49m\u001b[43m(\u001b[49m\n\u001b[32m     11\u001b[39m \u001b[43m    \u001b[49m\u001b[43mfield_list\u001b[49m\u001b[43m=\u001b[49m\u001b[43m[\u001b[49m\u001b[33;43m'\u001b[39;49m\u001b[33;43mtime\u001b[39;49m\u001b[33;43m'\u001b[39;49m\u001b[43m,\u001b[49m\u001b[43m \u001b[49m\u001b[33;43m'\u001b[39;49m\u001b[33;43mopen\u001b[39;49m\u001b[33;43m'\u001b[39;49m\u001b[43m,\u001b[49m\u001b[43m \u001b[49m\u001b[33;43m'\u001b[39;49m\u001b[33;43mhigh\u001b[39;49m\u001b[33;43m'\u001b[39;49m\u001b[43m,\u001b[49m\u001b[43m \u001b[49m\u001b[33;43m'\u001b[39;49m\u001b[33;43mlow\u001b[39;49m\u001b[33;43m'\u001b[39;49m\u001b[43m,\u001b[49m\u001b[43m \u001b[49m\u001b[33;43m'\u001b[39;49m\u001b[33;43mclose\u001b[39;49m\u001b[33;43m'\u001b[39;49m\u001b[43m,\u001b[49m\u001b[43m \u001b[49m\u001b[33;43m'\u001b[39;49m\u001b[33;43mvolume\u001b[39;49m\u001b[33;43m'\u001b[39;49m\u001b[43m,\u001b[49m\u001b[43m \u001b[49m\u001b[33;43m'\u001b[39;49m\u001b[33;43mamount\u001b[39;49m\u001b[33;43m'\u001b[39;49m\u001b[43m,\u001b[49m\u001b[43m \u001b[49m\u001b[33;43m'\u001b[39;49m\u001b[33;43msettle\u001b[39;49m\u001b[33;43m'\u001b[39;49m\u001b[43m,\u001b[49m\u001b[43m \u001b[49m\u001b[33;43m'\u001b[39;49m\u001b[33;43mopenInterest\u001b[39;49m\u001b[33;43m'\u001b[39;49m\u001b[43m]\u001b[49m\u001b[43m,\u001b[49m\n\u001b[32m     12\u001b[39m \u001b[43m    \u001b[49m\u001b[43mstock_list\u001b[49m\u001b[43m=\u001b[49m\u001b[43mstock_list\u001b[49m\u001b[43m,\u001b[49m\n\u001b[32m     13\u001b[39m \u001b[43m    \u001b[49m\u001b[43mperiod\u001b[49m\u001b[43m=\u001b[49m\u001b[33;43m'\u001b[39;49m\u001b[33;43m1d\u001b[39;49m\u001b[33;43m'\u001b[39;49m\u001b[43m,\u001b[49m\n\u001b[32m     14\u001b[39m \u001b[43m    \u001b[49m\u001b[43mstart_time\u001b[49m\u001b[43m=\u001b[49m\u001b[43mstart_time\u001b[49m\u001b[43m,\u001b[49m\n\u001b[32m     15\u001b[39m \u001b[43m    \u001b[49m\u001b[43mend_time\u001b[49m\u001b[43m=\u001b[49m\u001b[43mend_time\u001b[49m\u001b[43m,\u001b[49m\n\u001b[32m     16\u001b[39m \u001b[43m    \u001b[49m\u001b[43mcount\u001b[49m\u001b[43m=\u001b[49m\u001b[32;43m1\u001b[39;49m\u001b[43m,\u001b[49m\n\u001b[32m     17\u001b[39m \u001b[43m    \u001b[49m\u001b[43mdividend_type\u001b[49m\u001b[43m=\u001b[49m\u001b[33;43m'\u001b[39;49m\u001b[33;43mcash_dividend\u001b[39;49m\u001b[33;43m'\u001b[39;49m\u001b[43m,\u001b[49m\n\u001b[32m     18\u001b[39m \u001b[43m    \u001b[49m\u001b[43mfill_data\u001b[49m\u001b[43m=\u001b[49m\u001b[38;5;28;43;01mFalse\u001b[39;49;00m\n\u001b[32m     19\u001b[39m \u001b[43m\u001b[49m\u001b[43m)\u001b[49m\n\u001b[32m     20\u001b[39m \u001b[38;5;28mprint\u001b[39m(\u001b[33mf\u001b[39m\u001b[33m'\u001b[39m\u001b[33m获取股票 \u001b[39m\u001b[38;5;132;01m{\u001b[39;00mstock_list\u001b[38;5;132;01m}\u001b[39;00m\u001b[33m 的行情数据\u001b[39m\u001b[38;5;132;01m{\u001b[39;00m\u001b[38;5;28mlen\u001b[39m(stock_data)\u001b[38;5;132;01m}\u001b[39;00m\u001b[33m成功：\u001b[39m\u001b[38;5;132;01m{\u001b[39;00mstock_data\u001b[38;5;132;01m}\u001b[39;00m\u001b[33m'\u001b[39m)\n\u001b[32m     21\u001b[39m \u001b[38;5;28;01mreturn\u001b[39;00m stock_data\n",
      "\u001b[36mFile \u001b[39m\u001b[32m~\\AppData\\Local\\Programs\\Python\\Python312\\Lib\\site-packages\\xtquant\\xtdata.py:459\u001b[39m, in \u001b[36mget_market_data\u001b[39m\u001b[34m(field_list, stock_list, period, start_time, end_time, count, dividend_type, fill_data)\u001b[39m\n\u001b[32m    457\u001b[39m \u001b[38;5;28;01mif\u001b[39;00m period \u001b[38;5;129;01min\u001b[39;00m {\u001b[33m'\u001b[39m\u001b[33m1m\u001b[39m\u001b[33m'\u001b[39m, \u001b[33m'\u001b[39m\u001b[33m5m\u001b[39m\u001b[33m'\u001b[39m, \u001b[33m'\u001b[39m\u001b[33m15m\u001b[39m\u001b[33m'\u001b[39m, \u001b[33m'\u001b[39m\u001b[33m30m\u001b[39m\u001b[33m'\u001b[39m, \u001b[33m'\u001b[39m\u001b[33m60m\u001b[39m\u001b[33m'\u001b[39m, \u001b[33m'\u001b[39m\u001b[33m1h\u001b[39m\u001b[33m'\u001b[39m, \u001b[33m'\u001b[39m\u001b[33m1d\u001b[39m\u001b[33m'\u001b[39m, \u001b[33m'\u001b[39m\u001b[33m1w\u001b[39m\u001b[33m'\u001b[39m, \u001b[33m'\u001b[39m\u001b[33m1mon\u001b[39m\u001b[33m'\u001b[39m, \u001b[33m'\u001b[39m\u001b[33m1q\u001b[39m\u001b[33m'\u001b[39m, \u001b[33m'\u001b[39m\u001b[33m1hy\u001b[39m\u001b[33m'\u001b[39m, \u001b[33m'\u001b[39m\u001b[33m1y\u001b[39m\u001b[33m'\u001b[39m}:\n\u001b[32m    458\u001b[39m     \u001b[38;5;28;01mimport\u001b[39;00m\u001b[38;5;250m \u001b[39m\u001b[34;01mpandas\u001b[39;00m\u001b[38;5;250m \u001b[39m\u001b[38;5;28;01mas\u001b[39;00m\u001b[38;5;250m \u001b[39m\u001b[34;01mpd\u001b[39;00m\n\u001b[32m--> \u001b[39m\u001b[32m459\u001b[39m     index, data = get_market_data_ori(field_list, stock_list, period, start_time, end_time, count, dividend_type, fill_data)\n\u001b[32m    461\u001b[39m     result = {}\n\u001b[32m    462\u001b[39m     \u001b[38;5;28;01mfor\u001b[39;00m field \u001b[38;5;129;01min\u001b[39;00m data:\n",
      "\u001b[31mTypeError\u001b[39m: cannot unpack non-iterable NoneType object"
     ]
    }
   ],
   "source": [
    "# 获取000001.SZ的20250101-20250606的数据\n",
    "stock_data = get_stock_data(\n",
    "    stock_list=['000001.SZ'],\n",
    "    start_time='20250101',\n",
    "    end_time='20250601'\n",
    ")"
   ]
  },
  {
   "cell_type": "code",
   "execution_count": null,
   "id": "e19639c8cef98ba1",
   "metadata": {},
   "outputs": [],
   "source": [
    "# 获取沪深A股中所有成分股的过去 5 年的日K 行情数据\n",
    "\"\"\"\n",
    "\"time\"                #时间戳\n",
    "\"open\"                #开盘价\n",
    "\"high\"                #最高价\n",
    "\"low\"                 #最低价\n",
    "\"close\"               #收盘价\n",
    "\"volume\"              #成交量\n",
    "\"amount\"              #成交额\n",
    "\"settle\"              #今结算\n",
    "\"openInterest\"        #持仓量\n",
    "\"\"\"\n",
    "# 遍历成分股列表\n",
    "for stock in stock_list_in_sector:\n",
    "    # 获取五年前的日期,yyyyMMdd格式\n",
    "    five_years_ago = (datetime.now() - timedelta(days=5 * 365)).strftime('%Y%m%d')\n",
    "    print(f'五年前的日期为：{five_years_ago}')\n",
    "    # 获取今天日期\n",
    "    today = datetime.now().strftime('%Y%m%d')\n",
    "    # 获取每只股票的过去 5 年的日K 行情数据\n",
    "    stock_data = xtdata.get_market_data(\n",
    "        field_list=['time','open','high','low','close','volume','amount','settle','openInterest'],\n",
    "        stock_list=stock,\n",
    "        period='1d',\n",
    "        start_time=five_years_ago,\n",
    "        end_time=today,\n",
    "        count=-1,\n",
    "        dividend_type = 'cash_dividend', # todo: 待确认\n",
    "        fill_data = False\n",
    "        )\n",
    "    # 打印每只股票的过去 5 年的日K 行情数据\n",
    "    print(f'获取股票 {stock} 的过去 5 年的日K 行情数据成功：{stock_data}')"
   ]
  }
 ],
 "metadata": {
  "kernelspec": {
   "display_name": "Python 3 (ipykernel)",
   "language": "python",
   "name": "python3"
  },
  "language_info": {
   "codemirror_mode": {
    "name": "ipython",
    "version": 3
   },
   "file_extension": ".py",
   "mimetype": "text/x-python",
   "name": "python",
   "nbconvert_exporter": "python",
   "pygments_lexer": "ipython3",
   "version": "3.12.10"
  }
 },
 "nbformat": 4,
 "nbformat_minor": 5
}
