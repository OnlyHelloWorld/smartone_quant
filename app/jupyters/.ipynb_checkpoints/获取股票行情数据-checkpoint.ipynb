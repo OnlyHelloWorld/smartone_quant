{
 "cells": [
  {
   "metadata": {},
   "cell_type": "markdown",
   "source": "# 获取沪深A股中所有成分股中过去 5 年的行情数据，包括",
   "id": "85ee7520c462ca95"
  },
  {
   "cell_type": "code",
   "execution_count": null,
   "id": "initial_id",
   "metadata": {
    "collapsed": true
   },
   "outputs": [],
   "source": [
    "from typing import List\n",
    "from typing import Dict\n",
    "\n",
    "# 日期工具\n",
    "from datetime import datetime, timedelta\n",
    "from xtquant import xtdata"
   ]
  },
  {
   "metadata": {},
   "cell_type": "code",
   "outputs": [],
   "execution_count": null,
   "source": [
    "# 获取沪深A股中所有成分股的列表\n",
    "sector_name: str = '沪深A股'\n",
    "stock_list_in_sector: List[str] = xtdata.get_stock_list_in_sector(sector_name)\n",
    "print(f'获取板块成分股列表{len(stock_list_in_sector)}成功：{stock_list_in_sector}')"
   ],
   "id": "14b0f7045b6138a6"
  },
  {
   "metadata": {},
   "cell_type": "code",
   "outputs": [],
   "execution_count": null,
   "source": [
    "# 获取指定stock_list的行情数据函数\n",
    "def get_stock_data(stock_list: List[str], start_time: str, end_time: str) -> Dict:\n",
    "    \"\"\"\n",
    "    获取指定股票列表的行情数据\n",
    "    :param stock_list: 股票列表\n",
    "    :param start_time: 开始时间，格式为 'yyyyMMdd'\n",
    "    :param end_time: 结束时间，格式为 'yyyyMMdd'\n",
    "    \"\"\"\n",
    "    # 获取每只股票的日K 行情数据\n",
    "    stock_data = xtdata.get_market_data(\n",
    "        field_list=['time', 'open', 'high', 'low', 'close', 'volume', 'amount', 'settle', 'openInterest'],\n",
    "        stock_list=stock_list,\n",
    "        period='1d',\n",
    "        start_time=start_time,\n",
    "        end_time=end_time,\n",
    "        count=-1,\n",
    "        dividend_type='cash_dividend',\n",
    "        fill_data=False\n",
    "    )\n",
    "    print(f'获取股票 {stock_list} 的行情数据{len(stock_data)}成功：{stock_data}')\n",
    "    return stock_data\n",
    "\n",
    "# 获取000001.SZ的20250101-20250606的数据\n",
    "stock_data = get_stock_data(\n",
    "    stock_list=['000001.SZ'],\n",
    "    start_time='20250101',\n",
    "    end_time='20250606'\n",
    ")\n"
   ],
   "id": "f6ff2667c4a2f552"
  },
  {
   "metadata": {},
   "cell_type": "code",
   "outputs": [],
   "execution_count": null,
   "source": [
    "# 获取沪深A股中所有成分股的过去 5 年的日K 行情数据\n",
    "\"\"\"\n",
    "\"time\"                #时间戳\n",
    "\"open\"                #开盘价\n",
    "\"high\"                #最高价\n",
    "\"low\"                 #最低价\n",
    "\"close\"               #收盘价\n",
    "\"volume\"              #成交量\n",
    "\"amount\"              #成交额\n",
    "\"settle\"              #今结算\n",
    "\"openInterest\"        #持仓量\n",
    "\"\"\"\n",
    "# 遍历成分股列表\n",
    "for stock in stock_list_in_sector:\n",
    "    # 获取五年前的日期,yyyyMMdd格式\n",
    "    five_years_ago = (datetime.now() - timedelta(days=5 * 365)).strftime('%Y%m%d')\n",
    "    print(f'五年前的日期为：{five_years_ago}')\n",
    "    # 获取今天日期\n",
    "    today = datetime.now().strftime('%Y%m%d')\n",
    "    # 获取每只股票的过去 5 年的日K 行情数据\n",
    "    stock_data = xtdata.get_market_data(\n",
    "        field_list=['time','open','high','low','close','volume','amount','settle','openInterest'],\n",
    "        stock_list=stock,\n",
    "        period='1d',\n",
    "        start_time=five_years_ago,\n",
    "        end_time=today,\n",
    "        count=-1,\n",
    "        dividend_type = 'cash_dividend', # todo: 待确认\n",
    "        fill_data = False\n",
    "        )\n",
    "    # 打印每只股票的过去 5 年的日K 行情数据\n",
    "    print(f'获取股票 {stock} 的过去 5 年的日K 行情数据成功：{stock_data}')"
   ],
   "id": "e19639c8cef98ba1"
  }
 ],
 "metadata": {
  "kernelspec": {
   "display_name": "Python 3",
   "language": "python",
   "name": "python3"
  },
  "language_info": {
   "codemirror_mode": {
    "name": "ipython",
    "version": 2
   },
   "file_extension": ".py",
   "mimetype": "text/x-python",
   "name": "python",
   "nbconvert_exporter": "python",
   "pygments_lexer": "ipython2",
   "version": "2.7.6"
  }
 },
 "nbformat": 4,
 "nbformat_minor": 5
}
