{
 "cells": [
  {
   "cell_type": "code",
   "id": "981d5b8662fa62b0",
   "metadata": {},
   "source": "import akshare as ak",
   "outputs": [],
   "execution_count": null
  },
  {
   "metadata": {},
   "cell_type": "code",
   "source": [
    "\n",
    "tool_trade_date_hist_sina_df = ak.tool_trade_date_hist_sina()\n",
    "\n",
    "# 获取大于2023年的交易日\n",
    "tool_trade_date_hist_sina_df['trade_date'] = tool_trade_date_hist_sina_df['trade_date'].astype(str)\n",
    "trade_date_list = tool_trade_date_hist_sina_df[tool_trade_date_hist_sina_df['trade_date'] > '2023-01-01']['trade_date'].tolist()\n",
    "print(f\"获取大于2023年的交易日：{trade_date_list}\")"
   ],
   "id": "initial_id",
   "outputs": [],
   "execution_count": null
  }
 ],
 "metadata": {
  "kernelspec": {
   "display_name": "smartone_quant",
   "language": "python",
   "name": "smartone_quant"
  },
  "language_info": {
   "codemirror_mode": {
    "name": "ipython",
    "version": 2
   },
   "file_extension": ".py",
   "mimetype": "text/x-python",
   "name": "python",
   "nbconvert_exporter": "python",
   "pygments_lexer": "ipython2",
   "version": "2.7.6"
  }
 },
 "nbformat": 4,
 "nbformat_minor": 5
}
