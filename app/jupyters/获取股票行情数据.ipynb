{
 "cells": [
  {
   "metadata": {},
   "cell_type": "code",
   "outputs": [],
   "execution_count": null,
   "source": "# 获取股票行情数据",
   "id": "7166c07bc7589eb"
  },
  {
   "metadata": {},
   "cell_type": "code",
   "outputs": [],
   "execution_count": null,
   "source": [
    "from typing import List\n",
    "from typing import Dict\n",
    "\n",
    "# 日期工具\n",
    "from datetime import datetime, timedelta\n",
    "from xtquant import xtdata"
   ],
   "id": "initial_id"
  },
  {
   "cell_type": "code",
   "id": "14b0f7045b6138a6",
   "metadata": {},
   "source": [
    "# 获取沪深A股中所有成分股的列表\n",
    "sector_name: str = '沪深A股'\n",
    "stock_list_in_sector: List[str] = xtdata.get_stock_list_in_sector(sector_name)\n",
    "print(f'获取板块成分股列表{len(stock_list_in_sector)}成功：{stock_list_in_sector}')"
   ],
   "outputs": [],
   "execution_count": null
  },
  {
   "cell_type": "code",
   "id": "4c39223f-cbc3-4303-8de4-9e5f32044954",
   "metadata": {},
   "source": [
    "# 测试下载000001.SZ的日 k 行情数据并获取打印\n",
    "stock_code: str = '000001.SZ'\n",
    "print(f'开始下载股票{stock_code}的行情数据')\n",
    "# 获取五年前的日期,yyyyMMdd格式\n",
    "one_years_ago = (datetime.now() - timedelta(days=1 * 365)).strftime('%Y%m%d')\n",
    "print(f'一年前的日期为：{one_years_ago}')\n",
    "# 获取今天日期\n",
    "today = datetime.now().strftime('%Y%m%d')\n",
    "xtdata.download_history_data(stock_code = stock_code, period = '1d', start_time='20250101', end_time='20250606', incrementally = False)\n",
    "print(f'股票{stock_code}的行情数据下载完成')"
   ],
   "outputs": [],
   "execution_count": null
  },
  {
   "metadata": {},
   "cell_type": "code",
   "outputs": [],
   "execution_count": null,
   "source": [
    "# 获取下载的行情数据\n",
    "stock_data = xtdata.get_market_data(\n",
    "    field_list=['time', 'open', 'high', 'low', 'close', 'volume', 'amount', 'settle', 'openInterest'],\n",
    "    stock_list=[stock_code],\n",
    "    period='1d',\n",
    "    start_time=one_years_ago,\n",
    "    end_time=today,\n",
    "    count=-1,\n",
    "    fill_data=False\n",
    ")\n",
    "print(f'获取股票 {stock_code} 的行情数据成功：{stock_data}')\n",
    "# 查看返回数据的格式\n",
    "print(f'获取股票 {stock_code} 的行情数据格式：{type(stock_data)}')"
   ],
   "id": "36fcbe38c274df14"
  },
  {
   "cell_type": "code",
   "id": "2d1971b9-1633-4881-8ef5-6854180599a5",
   "metadata": {},
   "source": [
    "# 获取指定stock_list的行情数据函数\n",
    "def get_stock_data(stock_list: List[str], start_time: str, end_time: str) -> Dict:\n",
    "    \"\"\"\n",
    "    获取指定股票列表的行情数据\n",
    "    :param stock_list: 股票列表\n",
    "    :param start_time: 开始时间，格式为 'yyyyMMdd'\n",
    "    :param end_time: 结束时间，格式为 'yyyyMMdd'\n",
    "    \"\"\"\n",
    "    # 获取每只股票的日K 行情数据\n",
    "    stock_data = xtdata.get_market_data(\n",
    "        field_list=['time', 'open', 'high', 'low', 'close', 'volume', 'amount', 'settle', 'openInterest'],\n",
    "        stock_list=stock_list,\n",
    "        period='1d',\n",
    "        start_time=start_time,\n",
    "        end_time=end_time,\n",
    "        count=1,\n",
    "        dividend_type='cash_dividend',\n",
    "        fill_data=False\n",
    "    )\n",
    "    print(f'获取股票 {stock_list} 的行情数据{len(stock_data)}成功：{stock_data}')\n",
    "    return stock_data"
   ],
   "outputs": [],
   "execution_count": null
  },
  {
   "cell_type": "code",
   "id": "56e7a07c-a0c2-4439-90e5-9c51f456fae8",
   "metadata": {
    "jupyter": {
     "is_executing": true
    }
   },
   "source": [
    "code = '000001.SZ'\n",
    "data = xtdata.get_market_data(['close'], [code], period='1d', start_time='20250423')\n",
    "print('一次性取数据', data)"
   ],
   "outputs": [],
   "execution_count": null
  },
  {
   "cell_type": "code",
   "id": "36464d06-cdaa-4259-b5f9-b36337b84dc1",
   "metadata": {},
   "source": [
    "stock_data = xtdata.get_market_data(\n",
    "        field_list=['time', 'open', 'high', 'low', 'close', 'volume', 'amount', 'settle', 'openInterest'],\n",
    "        stock_list=['000001.SZ'],\n",
    "        period='1d',\n",
    "        start_time='20250101',\n",
    "        end_time='20250901',\n",
    "        count=1,\n",
    "        fill_data=False\n",
    "    )\n",
    "print(f'获取股票的行情数据成功：{stock_data}')"
   ],
   "outputs": [],
   "execution_count": null
  },
  {
   "cell_type": "code",
   "id": "5afa1d5d-b398-4427-909d-d07c7cd5a2f8",
   "metadata": {},
   "source": [
    "# 获取000001.SZ的20250101-20250606的数据\n",
    "stock_data = get_stock_data(\n",
    "    stock_list=['000001.SZ'],\n",
    "    start_time='20250101',\n",
    "    end_time='20250601'\n",
    ")"
   ],
   "outputs": [],
   "execution_count": null
  },
  {
   "cell_type": "code",
   "id": "e19639c8cef98ba1",
   "metadata": {},
   "source": [
    "# 获取沪深A股中所有成分股的过去 5 年的日K 行情数据\n",
    "\"\"\"\n",
    "\"time\"                #时间戳\n",
    "\"open\"                #开盘价\n",
    "\"high\"                #最高价\n",
    "\"low\"                 #最低价\n",
    "\"close\"               #收盘价\n",
    "\"volume\"              #成交量\n",
    "\"amount\"              #成交额\n",
    "\"settle\"              #今结算\n",
    "\"openInterest\"        #持仓量\n",
    "\"\"\"\n",
    "# 遍历成分股列表\n",
    "for stock in stock_list_in_sector:\n",
    "    # 获取五年前的日期,yyyyMMdd格式\n",
    "    five_years_ago = (datetime.now() - timedelta(days=5 * 365)).strftime('%Y%m%d')\n",
    "    print(f'五年前的日期为：{five_years_ago}')\n",
    "    # 获取今天日期\n",
    "    today = datetime.now().strftime('%Y%m%d')\n",
    "    # 获取每只股票的过去 5 年的日K 行情数据\n",
    "    stock_data = xtdata.get_market_data(\n",
    "        field_list=['time','open','high','low','close','volume','amount','settle','openInterest'],\n",
    "        stock_list=stock,\n",
    "        period='1d',\n",
    "        start_time=five_years_ago,\n",
    "        end_time=today,\n",
    "        count=-1,\n",
    "        dividend_type = 'cash_dividend', # todo: 待确认\n",
    "        fill_data = False\n",
    "        )\n",
    "    # 打印每只股票的过去 5 年的日K 行情数据\n",
    "    print(f'获取股票 {stock} 的过去 5 年的日K 行情数据成功：{stock_data}')"
   ],
   "outputs": [],
   "execution_count": null
  }
 ],
 "metadata": {
  "kernelspec": {
   "display_name": "Python 3 (ipykernel)",
   "language": "python",
   "name": "python3"
  },
  "language_info": {
   "codemirror_mode": {
    "name": "ipython",
    "version": 3
   },
   "file_extension": ".py",
   "mimetype": "text/x-python",
   "name": "python",
   "nbconvert_exporter": "python",
   "pygments_lexer": "ipython3",
   "version": "3.12.10"
  }
 },
 "nbformat": 4,
 "nbformat_minor": 5
}
