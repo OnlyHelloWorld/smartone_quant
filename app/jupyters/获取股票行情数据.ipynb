{
 "cells": [
  {
   "metadata": {
    "ExecuteTime": {
     "end_time": "2025-06-13T06:18:39.918076Z",
     "start_time": "2025-06-13T06:18:39.912078Z"
    }
   },
   "cell_type": "code",
   "source": [
    "import sys\n",
    "\n",
    "from IPython.core.interactiveshell import InteractiveShell\n",
    "\n",
    "InteractiveShell.ast_node_interactivity = \"all\"\n",
    "\n",
    "sys.path.append(r'C:\\Users\\19167\\AppData\\Local\\Programs\\Python\\smartone_quant')"
   ],
   "id": "f4d325fb54a2794d",
   "outputs": [],
   "execution_count": 16
  },
  {
   "metadata": {
    "ExecuteTime": {
     "end_time": "2025-06-13T05:50:22.867391Z",
     "start_time": "2025-06-13T05:50:22.846472Z"
    }
   },
   "cell_type": "code",
   "source": [
    "# 获取股票行情数据\n",
    "\"\"\"\n",
    "\"time\"                #时间戳\n",
    "\"open\"                #开盘价\n",
    "\"high\"                #最高价\n",
    "\"low\"                 #最低价\n",
    "\"close\"               #收盘价\n",
    "\"volume\"              #成交量\n",
    "\"amount\"              #成交额\n",
    "\"settle\"              #今结算\n",
    "\"openInterest\"        #持仓量\n",
    "\"\"\""
   ],
   "id": "7166c07bc7589eb",
   "outputs": [
    {
     "data": {
      "text/plain": [
       "'\\n\"time\"                #时间戳\\n\"open\"                #开盘价\\n\"high\"                #最高价\\n\"low\"                 #最低价\\n\"close\"               #收盘价\\n\"volume\"              #成交量\\n\"amount\"              #成交额\\n\"settle\"              #今结算\\n\"openInterest\"        #持仓量\\n'"
      ]
     },
     "execution_count": 4,
     "metadata": {},
     "output_type": "execute_result"
    }
   ],
   "execution_count": 4
  },
  {
   "metadata": {
    "ExecuteTime": {
     "end_time": "2025-06-13T05:50:26.178130Z",
     "start_time": "2025-06-13T05:50:26.172049Z"
    }
   },
   "cell_type": "code",
   "source": [
    "from typing import List\n",
    "import pandas as pd\n",
    "\n",
    "# 日期工具\n",
    "from datetime import datetime, timedelta\n",
    "from xtquant import xtdata\n",
    "\n",
    "from app.models.qmt_stock_daily import QmtStockDailyOri"
   ],
   "id": "initial_id",
   "outputs": [],
   "execution_count": 5
  },
  {
   "cell_type": "code",
   "id": "15da2eac95c1abdb",
   "metadata": {
    "ExecuteTime": {
     "end_time": "2025-06-13T06:35:39.046230Z",
     "start_time": "2025-06-13T06:35:39.036513Z"
    }
   },
   "source": [
    "\"\"\"\n",
    "get_market_data函数返回数据格式为：\n",
    "{field1 : value1, field2 : value2, ...}\n",
    "            field1, field2, ... : 数据字段\n",
    "            value1, value2, ... : pd.DataFrame 字段对应的数据，各字段维度相同，index为stock_list，columns为time_list\n",
    "\"\"\"\n",
    "\n",
    "\n",
    "# 公共解析数据的方法，将stock_data解析为股票对象\n",
    "def parse_stock_data(stock_data: dict, model_cls) -> list:\n",
    "    \"\"\"\n",
    "    解析股票行情数据，支持日/周/月K模型\n",
    "    :param stock_data: 股票行情数据\n",
    "    :param model_cls: 股票数据模型类\n",
    "    :return: 股票对象列表\n",
    "    \"\"\"\n",
    "    stock_list = []\n",
    "    stock_data_time = stock_data['time']\n",
    "    stock_codes = stock_data_time.index.tolist()\n",
    "    stock_time_list = stock_data_time.columns.tolist()\n",
    "    for stock_code in stock_codes:\n",
    "        for stock_time in stock_time_list:\n",
    "            stock_open = stock_data['open'].loc[stock_code, stock_time].round(2)\n",
    "            stock_high = stock_data['high'].loc[stock_code, stock_time].round(2)\n",
    "            stock_low = stock_data['low'].loc[stock_code, stock_time].round(2)\n",
    "            stock_close = stock_data['close'].loc[stock_code, stock_time].round(2)\n",
    "            stock_volume = stock_data['volume'].loc[stock_code, stock_time]\n",
    "            stock_amount = stock_data['amount'].loc[stock_code, stock_time]\n",
    "            stock_obj = model_cls(\n",
    "                code=stock_code,\n",
    "                time=stock_time,\n",
    "                open=stock_open,\n",
    "                high=stock_high,\n",
    "                low=stock_low,\n",
    "                close=stock_close,\n",
    "                volume=stock_volume,\n",
    "                amount=stock_amount\n",
    "            )\n",
    "            stock_list.append(stock_obj)\n",
    "    print(f'解析股票数据成功，解析到{len(stock_list)}条数据')\n",
    "\n",
    "    return stock_list\n",
    "\n"
   ],
   "outputs": [
    {
     "data": {
      "text/plain": [
       "'\\nget_market_data函数返回数据格式为：\\n{field1 : value1, field2 : value2, ...}\\n            field1, field2, ... : 数据字段\\n            value1, value2, ... : pd.DataFrame 字段对应的数据，各字段维度相同，index为stock_list，columns为time_list\\n'"
      ]
     },
     "execution_count": 28,
     "metadata": {},
     "output_type": "execute_result"
    }
   ],
   "execution_count": 28
  },
  {
   "cell_type": "code",
   "id": "14b0f7045b6138a6",
   "metadata": {},
   "source": [
    "# 获取沪深A股中所有成分股的列表\n",
    "sector_name: str = '沪深A股'\n",
    "stock_list_in_sector: List[str] = xtdata.get_stock_list_in_sector(sector_name)\n",
    "print(f'获取板块成分股列表{len(stock_list_in_sector)}成功：{stock_list_in_sector}')"
   ],
   "outputs": [],
   "execution_count": null
  },
  {
   "cell_type": "code",
   "id": "bc31972795a0554f",
   "metadata": {
    "ExecuteTime": {
     "end_time": "2025-06-13T06:14:23.403018Z",
     "start_time": "2025-06-13T06:14:23.397097Z"
    }
   },
   "source": [
    "# 测试下载000001.SZ的日 k 行情数据并获取打印\n",
    "stock_code: str = '000001.SZ'\n",
    "print(f'开始下载股票{stock_code}的行情数据')\n",
    "# 获取一年前的日期,yyyyMMdd格式\n",
    "one_years_ago = (datetime.now() - timedelta(days=1 * 365)).strftime('%Y%m%d')\n",
    "print(f'一年前的日期为：{one_years_ago}')\n",
    "# 获取今天日期\n",
    "today = datetime.now().strftime('%Y%m%d')\n",
    "print(f'今天的日期为：{today}')"
   ],
   "outputs": [
    {
     "name": "stdout",
     "output_type": "stream",
     "text": [
      "开始下载股票000001.SZ的行情数据\n",
      "一年前的日期为：20240613\n",
      "今天的日期为：20250613\n"
     ]
    }
   ],
   "execution_count": 7
  },
  {
   "metadata": {},
   "cell_type": "code",
   "outputs": [
    {
     "name": "stdout",
     "output_type": "stream",
     "text": [
      "开始下载股票000001.SZ的行情数据\n",
      "一年前的日期为：20240613\n",
      "今天的日期为：20250613\n",
      "下载股票 000001.SZ 的日 K 数据成功\n",
      "下载股票 000001.SZ 的周 K 数据成功\n",
      "下载股票 000001.SZ 的月 K 数据成功\n"
     ]
    }
   ],
   "execution_count": 7,
   "source": [
    "# 下载股票的日K 行情数据\n",
    "xtdata.download_history_data(\n",
    "    stock_code=stock_code,\n",
    "    period='1d',\n",
    "    start_time=one_years_ago,\n",
    "    end_time=today,\n",
    "    incrementally=False)\n",
    "print(f\"下载股票 {stock_code} 的日 K 数据成功\")\n",
    "# 下载股票的周K 行情数据\n",
    "xtdata.download_history_data(\n",
    "    stock_code=stock_code,\n",
    "    period='1w',\n",
    "    start_time=one_years_ago,\n",
    "    end_time=today,\n",
    "    incrementally=False)\n",
    "print(f\"下载股票 {stock_code} 的周 K 数据成功\")\n",
    "# 下载股票的月K 行情数据\n",
    "xtdata.download_history_data(\n",
    "    stock_code=stock_code,\n",
    "    period='1M',\n",
    "    start_time=one_years_ago,\n",
    "    end_time=today,\n",
    "    incrementally=False)\n",
    "print(f\"下载股票 {stock_code} 的月 K 数据成功\")"
   ],
   "id": "4c39223f-cbc3-4303-8de4-9e5f32044954"
  },
  {
   "cell_type": "code",
   "id": "441a3ceee2410edf",
   "metadata": {
    "ExecuteTime": {
     "end_time": "2025-06-13T06:38:51.991775Z",
     "start_time": "2025-06-13T06:38:51.962843Z"
    }
   },
   "source": [
    "# 测试获取下载的行情数据--获取最近10条数据\n",
    "stock_code: str = '000001.SZ'\n",
    "stock_data = xtdata.get_market_data(\n",
    "    field_list=['time', 'open', 'high', 'low', 'close', 'volume', 'amount', 'settle', 'openInterest'],\n",
    "    stock_list=[stock_code],\n",
    "    period='1d',\n",
    "    start_time=one_years_ago,\n",
    "    end_time=today,\n",
    "    count=10,  # 获取最近10条数据\n",
    "    fill_data=False\n",
    ")\n",
    "# 查看返回数据的格式\n",
    "print(f'获取股票 {stock_code} 的行情数据格式：{type(stock_data)}')\n",
    "# 解析返回数据\n",
    "\"\"\"\n",
    "{field1 : value1, field2 : value2, ...}\n",
    "            field1, field2, ... : 数据字段\n",
    "            value1, value2, ... : pd.DataFrame 字段对应的数据，各字段维度相同，index为stock_list，columns为time_list\n",
    "\"\"\"\n",
    "# 获取time字段的数据\n",
    "stock_data_time: pd.DataFrame = stock_data['time']\n",
    "\n",
    "stock_data_time.head()  # 打印前5行数据\n",
    "stock_dailys = parse_stock_data(stock_data=stock_data, model_cls=QmtStockDailyOri)\n",
    "print(f\"获取股票 {stock_code} 的日K行情数据{len(stock_dailys)}成功：\\n{stock_dailys[0]}\")"
   ],
   "outputs": [
    {
     "name": "stdout",
     "output_type": "stream",
     "text": [
      "获取股票 000001.SZ 的行情数据格式：<class 'dict'>\n"
     ]
    },
    {
     "data": {
      "text/plain": [
       "'\\n{field1 : value1, field2 : value2, ...}\\n            field1, field2, ... : 数据字段\\n            value1, value2, ... : pd.DataFrame 字段对应的数据，各字段维度相同，index为stock_list，columns为time_list\\n'"
      ]
     },
     "execution_count": 34,
     "metadata": {},
     "output_type": "execute_result"
    },
    {
     "data": {
      "text/plain": [
       "                20250530       20250603       20250604       20250605  \\\n",
       "000001.SZ  1748534400000  1748880000000  1748966400000  1749052800000   \n",
       "\n",
       "                20250606       20250609       20250610       20250611  \\\n",
       "000001.SZ  1749139200000  1749398400000  1749484800000  1749571200000   \n",
       "\n",
       "                20250612       20250613  \n",
       "000001.SZ  1749657600000  1749744000000  "
      ],
      "text/html": [
       "<div>\n",
       "<style scoped>\n",
       "    .dataframe tbody tr th:only-of-type {\n",
       "        vertical-align: middle;\n",
       "    }\n",
       "\n",
       "    .dataframe tbody tr th {\n",
       "        vertical-align: top;\n",
       "    }\n",
       "\n",
       "    .dataframe thead th {\n",
       "        text-align: right;\n",
       "    }\n",
       "</style>\n",
       "<table border=\"1\" class=\"dataframe\">\n",
       "  <thead>\n",
       "    <tr style=\"text-align: right;\">\n",
       "      <th></th>\n",
       "      <th>20250530</th>\n",
       "      <th>20250603</th>\n",
       "      <th>20250604</th>\n",
       "      <th>20250605</th>\n",
       "      <th>20250606</th>\n",
       "      <th>20250609</th>\n",
       "      <th>20250610</th>\n",
       "      <th>20250611</th>\n",
       "      <th>20250612</th>\n",
       "      <th>20250613</th>\n",
       "    </tr>\n",
       "  </thead>\n",
       "  <tbody>\n",
       "    <tr>\n",
       "      <th>000001.SZ</th>\n",
       "      <td>1748534400000</td>\n",
       "      <td>1748880000000</td>\n",
       "      <td>1748966400000</td>\n",
       "      <td>1749052800000</td>\n",
       "      <td>1749139200000</td>\n",
       "      <td>1749398400000</td>\n",
       "      <td>1749484800000</td>\n",
       "      <td>1749571200000</td>\n",
       "      <td>1749657600000</td>\n",
       "      <td>1749744000000</td>\n",
       "    </tr>\n",
       "  </tbody>\n",
       "</table>\n",
       "</div>"
      ]
     },
     "execution_count": 34,
     "metadata": {},
     "output_type": "execute_result"
    },
    {
     "name": "stdout",
     "output_type": "stream",
     "text": [
      "解析股票数据成功，解析到10条数据\n",
      "获取股票 000001.SZ 的日K行情数据10成功：\n",
      "time='20250530' open=np.float64(11.47) high=np.float64(11.58) low=np.float64(11.44) close=np.float64(11.56) volume=np.int64(1130849) amount=np.float64(1303433715.9999998) id=None\n"
     ]
    }
   ],
   "execution_count": 34
  },
  {
   "cell_type": "code",
   "id": "36fcbe38c274df14",
   "metadata": {
    "ExecuteTime": {
     "end_time": "2025-06-13T03:00:33.974650Z",
     "start_time": "2025-06-13T03:00:33.926896Z"
    }
   },
   "source": [
    "# 获取下载的行情数据--获取所有数据\n",
    "stock_data = xtdata.get_market_data(\n",
    "    field_list=['time', 'open', 'high', 'low', 'close', 'volume', 'amount', 'settle', 'openInterest'],\n",
    "    stock_list=[stock_code],\n",
    "    period='1d',\n",
    "    start_time=one_years_ago,\n",
    "    end_time=today,\n",
    "    count=-1,\n",
    "    dividend_type='none',  # 不获取分红派息数据\n",
    "    fill_data=False\n",
    ")\n",
    "# 查看返回数据的格式\n",
    "print(f'获取股票 {stock_code} 的行情数据格式：{type(stock_data)}')\n",
    "# 通过\n"
   ],
   "outputs": [
    {
     "name": "stdout",
     "output_type": "stream",
     "text": [
      "获取股票 000001.SZ 的行情数据格式：<class 'dict'>\n",
      "字段 time 的数据格式：<class 'pandas.core.frame.DataFrame'>\n",
      "                20240613       20240614       20240617       20240618  \\\n",
      "000001.SZ  1718208000000  1718294400000  1718553600000  1718640000000   \n",
      "\n",
      "                20240619       20240620       20240621       20240624  \\\n",
      "000001.SZ  1718726400000  1718812800000  1718899200000  1719158400000   \n",
      "\n",
      "                20240625       20240626  ...       20250530       20250603  \\\n",
      "000001.SZ  1719244800000  1719331200000  ...  1748534400000  1748880000000   \n",
      "\n",
      "                20250604       20250605       20250606       20250609  \\\n",
      "000001.SZ  1748966400000  1749052800000  1749139200000  1749398400000   \n",
      "\n",
      "                20250610       20250611       20250612       20250613  \n",
      "000001.SZ  1749484800000  1749571200000  1749657600000  1749744000000  \n",
      "\n",
      "[1 rows x 243 columns]\n",
      "字段 open 的数据格式：<class 'pandas.core.frame.DataFrame'>\n",
      "           20240613  20240614  20240617  20240618  20240619  20240620  \\\n",
      "000001.SZ     10.89     10.15     10.13     10.11      10.1     10.16   \n",
      "\n",
      "           20240621  20240624  20240625  20240626  ...  20250530  20250603  \\\n",
      "000001.SZ     10.05      9.97      9.99     10.06  ...     11.47     11.54   \n",
      "\n",
      "           20250604  20250605  20250606  20250609  20250610  20250611  \\\n",
      "000001.SZ     11.82     11.88      11.7     11.73     11.72     11.82   \n",
      "\n",
      "           20250612  20250613  \n",
      "000001.SZ     11.56     11.68  \n",
      "\n",
      "[1 rows x 243 columns]\n",
      "字段 high 的数据格式：<class 'pandas.core.frame.DataFrame'>\n",
      "           20240613  20240614  20240617  20240618  20240619  20240620  \\\n",
      "000001.SZ     10.93     10.23     10.16     10.16     10.21     10.17   \n",
      "\n",
      "           20240621  20240624  20240625  20240626  ...  20250530  20250603  \\\n",
      "000001.SZ     10.09     10.07     10.13     10.13  ...     11.58     11.91   \n",
      "\n",
      "           20250604  20250605  20250606  20250609  20250610  20250611  \\\n",
      "000001.SZ     11.88     11.91     11.79     11.75     11.89     11.93   \n",
      "\n",
      "           20250612  20250613  \n",
      "000001.SZ      11.7     11.74  \n",
      "\n",
      "[1 rows x 243 columns]\n",
      "字段 low 的数据格式：<class 'pandas.core.frame.DataFrame'>\n",
      "           20240613  20240614  20240617  20240618  20240619  20240620  \\\n",
      "000001.SZ      10.8      9.99     10.08     10.04     10.08     10.05   \n",
      "\n",
      "           20240621  20240624  20240625  20240626  ...  20250530  20250603  \\\n",
      "000001.SZ      9.95      9.88      9.98     10.02  ...     11.44     11.53   \n",
      "\n",
      "           20250604  20250605  20250606  20250609  20250610  20250611  \\\n",
      "000001.SZ     11.78     11.66     11.68     11.65     11.71     11.79   \n",
      "\n",
      "           20250612  20250613  \n",
      "000001.SZ     11.52     11.58  \n",
      "\n",
      "[1 rows x 243 columns]\n",
      "字段 close 的数据格式：<class 'pandas.core.frame.DataFrame'>\n",
      "           20240613  20240614  20240617  20240618  20240619  20240620  \\\n",
      "000001.SZ      10.8     10.18      10.1     10.08     10.15     10.05   \n",
      "\n",
      "           20240621  20240624  20240625  20240626  ...  20250530  20250603  \\\n",
      "000001.SZ      10.0      9.98     10.08     10.08  ...     11.56     11.81   \n",
      "\n",
      "           20250604  20250605  20250606  20250609  20250610  20250611  \\\n",
      "000001.SZ     11.84     11.67      11.7     11.71     11.81     11.85   \n",
      "\n",
      "           20250612  20250613  \n",
      "000001.SZ     11.68     11.63  \n",
      "\n",
      "[1 rows x 243 columns]\n",
      "字段 volume 的数据格式：<class 'pandas.core.frame.DataFrame'>\n",
      "           20240613  20240614  20240617  20240618  20240619  20240620  \\\n",
      "000001.SZ   1203508   1637990    681217    700653    796184    629628   \n",
      "\n",
      "           20240621  20240624  20240625  20240626  ...  20250530  20250603  \\\n",
      "000001.SZ    830545    947082    769993    628599  ...   1130849   2192480   \n",
      "\n",
      "           20250604  20250605  20250606  20250609  20250610  20250611  \\\n",
      "000001.SZ   1167960   1166803    682353    773255   1428132   1094667   \n",
      "\n",
      "           20250612  20250613  \n",
      "000001.SZ   1290220    555240  \n",
      "\n",
      "[1 rows x 243 columns]\n",
      "字段 amount 的数据格式：<class 'pandas.core.frame.DataFrame'>\n",
      "               20240613      20240614     20240617     20240618     20240619  \\\n",
      "000001.SZ  1.304403e+09  1.657434e+09  688669914.0  707829471.0  807676192.0   \n",
      "\n",
      "              20240620     20240621     20240624     20240625     20240626  \\\n",
      "000001.SZ  635070262.0  831176895.0  944907465.0  775332071.0  633763882.0   \n",
      "\n",
      "           ...      20250530      20250603      20250604      20250605  \\\n",
      "000001.SZ  ...  1.303434e+09  2.580963e+09  1.383020e+09  1.369212e+09   \n",
      "\n",
      "              20250606     20250609      20250610      20250611      20250612  \\\n",
      "000001.SZ  799900023.0  905092604.0  1.689019e+09  1.298656e+09  1.500287e+09   \n",
      "\n",
      "              20250613  \n",
      "000001.SZ  647082731.0  \n",
      "\n",
      "[1 rows x 243 columns]\n",
      "字段 openInterest 的数据格式：<class 'pandas.core.frame.DataFrame'>\n",
      "           20240613  20240614  20240617  20240618  20240619  20240620  \\\n",
      "000001.SZ        15        15        15        15        15        15   \n",
      "\n",
      "           20240621  20240624  20240625  20240626  ...  20250530  20250603  \\\n",
      "000001.SZ        15        15        15        15  ...        15        15   \n",
      "\n",
      "           20250604  20250605  20250606  20250609  20250610  20250611  \\\n",
      "000001.SZ        15        15        15        15        15        15   \n",
      "\n",
      "           20250612  20250613  \n",
      "000001.SZ        15        13  \n",
      "\n",
      "[1 rows x 243 columns]\n"
     ]
    }
   ],
   "execution_count": 14
  },
  {
   "cell_type": "code",
   "execution_count": 11,
   "id": "d8df5ae93f9d8595",
   "metadata": {},
   "outputs": [
    {
     "name": "stdout",
     "output_type": "stream",
     "text": [
      "开始获取股票 603259.SH 的行情数据\n"
     ]
    },
    {
     "data": {
      "text/plain": [
       "{'time': Empty DataFrame\n",
       " Columns: []\n",
       " Index: [603259.SH],\n",
       " 'open': Empty DataFrame\n",
       " Columns: []\n",
       " Index: [603259.SH],\n",
       " 'high': Empty DataFrame\n",
       " Columns: []\n",
       " Index: [603259.SH],\n",
       " 'low': Empty DataFrame\n",
       " Columns: []\n",
       " Index: [603259.SH],\n",
       " 'close': Empty DataFrame\n",
       " Columns: []\n",
       " Index: [603259.SH],\n",
       " 'volume': Empty DataFrame\n",
       " Columns: []\n",
       " Index: [603259.SH],\n",
       " 'amount': Empty DataFrame\n",
       " Columns: []\n",
       " Index: [603259.SH],\n",
       " 'openInterest': Empty DataFrame\n",
       " Columns: []\n",
       " Index: [603259.SH]}"
      ]
     },
     "execution_count": 11,
     "metadata": {},
     "output_type": "execute_result"
    }
   ],
   "source": [
    "# 测试未下载的股票行情数据能否获取\n",
    "stock_code = '603259.SH'  # 测试未下载的股票代码\n",
    "print(f'开始获取股票 {stock_code} 的行情数据')\n",
    "xtdata.get_market_data(\n",
    "    field_list=['time', 'open', 'high', 'low', 'close', 'volume', 'amount', 'settle', 'openInterest'],\n",
    "    stock_list=[stock_code],\n",
    "    period='1d',\n",
    "    start_time=one_years_ago,\n",
    "    end_time=today,\n",
    "    count=10,  # 获取最近10条数据\n",
    "    dividend_type='none',  # 不获取分红派息数据\n",
    "    fill_data=False\n",
    ")"
   ]
  },
  {
   "cell_type": "code",
   "execution_count": 12,
   "id": "fe80656b1794ca8f",
   "metadata": {},
   "outputs": [
    {
     "name": "stdout",
     "output_type": "stream",
     "text": [
      "开始获取股票 603259.SH 的前复权行情数据\n"
     ]
    },
    {
     "data": {
      "text/plain": [
       "{'time': Empty DataFrame\n",
       " Columns: []\n",
       " Index: [603259.SH],\n",
       " 'open': Empty DataFrame\n",
       " Columns: []\n",
       " Index: [603259.SH],\n",
       " 'high': Empty DataFrame\n",
       " Columns: []\n",
       " Index: [603259.SH],\n",
       " 'low': Empty DataFrame\n",
       " Columns: []\n",
       " Index: [603259.SH],\n",
       " 'close': Empty DataFrame\n",
       " Columns: []\n",
       " Index: [603259.SH],\n",
       " 'volume': Empty DataFrame\n",
       " Columns: []\n",
       " Index: [603259.SH],\n",
       " 'amount': Empty DataFrame\n",
       " Columns: []\n",
       " Index: [603259.SH],\n",
       " 'openInterest': Empty DataFrame\n",
       " Columns: []\n",
       " Index: [603259.SH]}"
      ]
     },
     "execution_count": 12,
     "metadata": {},
     "output_type": "execute_result"
    }
   ],
   "source": [
    "# 测试能否够获取前复权的股票行情数据\n",
    "print(f\"开始获取股票 {stock_code} 的前复权行情数据\")\n",
    "xtdata.get_market_data(\n",
    "    field_list=['time', 'open', 'high', 'low', 'close', 'volume', 'amount', 'settle', 'openInterest'],\n",
    "    stock_list=[stock_code],\n",
    "    period='1d',\n",
    "    start_time=one_years_ago,\n",
    "    end_time=today,\n",
    "    count=10,  # 获取最近10条数据\n",
    "    dividend_type='front',  # 获取前复权数据\n",
    "    fill_data=False\n",
    ")"
   ]
  },
  {
   "cell_type": "code",
   "execution_count": 24,
   "id": "896ddd594ba89866",
   "metadata": {},
   "outputs": [
    {
     "name": "stdout",
     "output_type": "stream",
     "text": [
      "两年前的日期为：20230613\n",
      "两个月前的日期为：20250413\n",
      "两天前的日期为：20250610\n",
      "获取股票 000001.SZ 的两年前到两个月前的行情数据格式：<class 'pandas.core.frame.DataFrame'>\n",
      "获取股票 000001.SZ 的两年前到两个月前的日K行情数据1成功：\n",
      "                20230613       20230614       20230615       20230616  \\\n",
      "000001.SZ  1686585600000  1686672000000  1686758400000  1686844800000   \n",
      "\n",
      "                20230619       20230620       20230621       20230626  \\\n",
      "000001.SZ  1687104000000  1687190400000  1687276800000  1687708800000   \n",
      "\n",
      "                20230627       20230628  ...       20250328       20250331  \\\n",
      "000001.SZ  1687795200000  1687881600000  ...  1743091200000  1743350400000   \n",
      "\n",
      "                20250401       20250402       20250403       20250407  \\\n",
      "000001.SZ  1743436800000  1743523200000  1743609600000  1743955200000   \n",
      "\n",
      "                20250408       20250409       20250410       20250411  \n",
      "000001.SZ  1744041600000  1744128000000  1744214400000  1744300800000  \n",
      "\n",
      "[1 rows x 443 columns]\n"
     ]
    },
    {
     "data": {
      "text/html": [
       "<div>\n",
       "<style scoped>\n",
       "    .dataframe tbody tr th:only-of-type {\n",
       "        vertical-align: middle;\n",
       "    }\n",
       "\n",
       "    .dataframe tbody tr th {\n",
       "        vertical-align: top;\n",
       "    }\n",
       "\n",
       "    .dataframe thead th {\n",
       "        text-align: right;\n",
       "    }\n",
       "</style>\n",
       "<table border=\"1\" class=\"dataframe\">\n",
       "  <thead>\n",
       "    <tr style=\"text-align: right;\">\n",
       "      <th></th>\n",
       "      <th>20230613</th>\n",
       "      <th>20230614</th>\n",
       "      <th>20230615</th>\n",
       "      <th>20230616</th>\n",
       "      <th>20230619</th>\n",
       "      <th>20230620</th>\n",
       "      <th>20230621</th>\n",
       "      <th>20230626</th>\n",
       "      <th>20230627</th>\n",
       "      <th>20230628</th>\n",
       "      <th>...</th>\n",
       "      <th>20250328</th>\n",
       "      <th>20250331</th>\n",
       "      <th>20250401</th>\n",
       "      <th>20250402</th>\n",
       "      <th>20250403</th>\n",
       "      <th>20250407</th>\n",
       "      <th>20250408</th>\n",
       "      <th>20250409</th>\n",
       "      <th>20250410</th>\n",
       "      <th>20250411</th>\n",
       "    </tr>\n",
       "  </thead>\n",
       "  <tbody>\n",
       "    <tr>\n",
       "      <th>000001.SZ</th>\n",
       "      <td>11.76</td>\n",
       "      <td>11.55</td>\n",
       "      <td>11.49</td>\n",
       "      <td>11.61</td>\n",
       "      <td>11.63</td>\n",
       "      <td>11.44</td>\n",
       "      <td>11.36</td>\n",
       "      <td>11.3</td>\n",
       "      <td>11.2</td>\n",
       "      <td>11.28</td>\n",
       "      <td>...</td>\n",
       "      <td>11.39</td>\n",
       "      <td>11.36</td>\n",
       "      <td>11.27</td>\n",
       "      <td>11.25</td>\n",
       "      <td>11.31</td>\n",
       "      <td>11.0</td>\n",
       "      <td>10.68</td>\n",
       "      <td>10.73</td>\n",
       "      <td>10.86</td>\n",
       "      <td>10.87</td>\n",
       "    </tr>\n",
       "  </tbody>\n",
       "</table>\n",
       "<p>1 rows × 443 columns</p>\n",
       "</div>"
      ],
      "text/plain": [
       "           20230613  20230614  20230615  20230616  20230619  20230620  \\\n",
       "000001.SZ     11.76     11.55     11.49     11.61     11.63     11.44   \n",
       "\n",
       "           20230621  20230626  20230627  20230628  ...  20250328  20250331  \\\n",
       "000001.SZ     11.36      11.3      11.2     11.28  ...     11.39     11.36   \n",
       "\n",
       "           20250401  20250402  20250403  20250407  20250408  20250409  \\\n",
       "000001.SZ     11.27     11.25     11.31      11.0     10.68     10.73   \n",
       "\n",
       "           20250410  20250411  \n",
       "000001.SZ     10.86     10.87  \n",
       "\n",
       "[1 rows x 443 columns]"
      ]
     },
     "execution_count": 24,
     "metadata": {},
     "output_type": "execute_result"
    }
   ],
   "source": [
    "# 验证能否获取到未执行下载的日期范围的行情数据，例如获取 两年前，两个月前，两天前，两年前到两个月前的行情数据\n",
    "stock_code: str = '000001.SZ'\n",
    "# 获取两年前的日期,yyyyMMdd格式\n",
    "two_years_ago = (datetime.now() - timedelta(days=2 * 365)).strftime('%Y%m%d')\n",
    "print(f'两年前的日期为：{two_years_ago}')\n",
    "# 获取两个月前的日期,yyyyMMdd格式\n",
    "two_months_ago = (datetime.now() - timedelta(days=2 * 30)).strftime('%Y%m%d')\n",
    "print(f'两个月前的日期为：{two_months_ago}')\n",
    "# 获取两天前的日期,yyyyMMdd格式\n",
    "two_days_ago = (datetime.now() - timedelta(days=2)).strftime('%Y%m%d')\n",
    "print(f'两天前的日期为：{two_days_ago}')\n",
    "# 获取两年前到两个月前的所有日K 行情数据\n",
    "stock_data = xtdata.get_market_data(\n",
    "    field_list=['time', 'open', 'high', 'low', 'close', 'volume', 'amount', 'settle', 'openInterest'],\n",
    "    stock_list=[stock_code],\n",
    "    period='1d',\n",
    "    start_time=two_years_ago,\n",
    "    end_time=two_months_ago,\n",
    "    count=-1,  # 获取所有数据\n",
    "    dividend_type='none',  # 不获取分红派息数据\n",
    "    fill_data=False\n",
    ")\n",
    "# 查看返回数据的格式\n",
    "print(f'获取股票 {stock_code} 的两年前到两个月前的行情数据格式：{type(stock_data[\"time\"])}')\n",
    "# 打印获取到的两年前到两个月前的日K 行情数据\n",
    "print(\n",
    "    f'获取股票 {stock_code} 的两年前到两个月前的日K行情数据{len(stock_data[\"time\"])}成功：\\n{stock_data[\"time\"].head()}')\n",
    "stock_data[\"open\"].head()"
   ]
  },
  {
   "cell_type": "code",
   "execution_count": null,
   "id": "e85b2f64-6ca4-4d4c-98ff-832ccc097063",
   "metadata": {},
   "outputs": [],
   "source": [
    "# 测试"
   ]
  }
 ],
 "metadata": {
  "kernelspec": {
   "display_name": "smartone_quant",
   "language": "python",
   "name": "smartone_quant"
  },
  "language_info": {
   "codemirror_mode": {
    "name": "ipython",
    "version": 3
   },
   "file_extension": ".py",
   "mimetype": "text/x-python",
   "name": "python",
   "nbconvert_exporter": "python",
   "pygments_lexer": "ipython3",
   "version": "3.12.10"
  }
 },
 "nbformat": 4,
 "nbformat_minor": 5
}
