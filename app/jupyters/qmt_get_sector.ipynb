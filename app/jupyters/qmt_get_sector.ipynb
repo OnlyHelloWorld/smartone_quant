{
 "cells": [
  {
   "metadata": {},
   "cell_type": "code",
   "source": [
    "from typing import List\n",
    "\n",
    "from xtquant import xtdata\n",
    "\n",
    "import sys\n",
    "\n",
    "from IPython.core.interactiveshell import InteractiveShell\n",
    "\n",
    "InteractiveShell.ast_node_interactivity = \"all\"\n",
    "\n",
    "sys.path.append(r'C:\\Users\\19167\\AppData\\Local\\Programs\\Python\\smartone_quant')"
   ],
   "id": "adfd72d8f0c01912",
   "outputs": [],
   "execution_count": null
  },
  {
   "metadata": {},
   "cell_type": "code",
   "source": [
    "# 测试qmt目录是否有写入权限\n",
    "file_path = r\"C:\\Users\\19167\\AppData\\Local\\Programs\\gjzqqmt\\userdata_mini\\example.txt\"  # 设置文件路径和名称\n",
    "\n",
    "# 使用open函数创建文件，并指定写入模式(\"w\"表示写入模式)\n",
    "with open(file_path, \"w\") as file:\n",
    "    file.write(\"123\")  # 向文件写入内容\n",
    "\n"
   ],
   "id": "68e95ffbc066a761",
   "outputs": [],
   "execution_count": null
  },
  {
   "metadata": {},
   "cell_type": "code",
   "source": "xtdata.download_sector_data()",
   "id": "784dff1d9b5a6451",
   "outputs": [],
   "execution_count": null
  },
  {
   "cell_type": "code",
   "id": "e527cb52-937c-46af-9f65-2c6728455565",
   "metadata": {},
   "source": [
    "sector_list: List = xtdata.get_sector_list()\n",
    "print(f'获取板块列表{len(sector_list)}个数据成功：{sector_list}')"
   ],
   "outputs": [],
   "execution_count": null
  },
  {
   "cell_type": "code",
   "id": "e9fe8e6b-81a5-447e-a015-f4d66dfc2672",
   "metadata": {},
   "source": [
    "# 允许的板块前缀列表\n",
    "ALLOWED_PREFIXES = {\n",
    "    \"TGN\", \"THY\", \"1000SW\", \"500SW\",\n",
    "    \"300\", \"300SW\", \"HKSW\",\n",
    "    \"SW1\", \"SW2\", \"SW3\", \"CSRC\"\n",
    "}\n",
    "\n",
    "\n",
    "def should_include_sector(sector_name: str) -> bool:\n",
    "    \"\"\"\n",
    "    检查板块名称是否以允许的前缀开头\n",
    "\n",
    "    Args:\n",
    "        sector_name: 板块名称\n",
    "\n",
    "    Returns:\n",
    "        bool: 如果以允许的前缀开头返回True，否则返回False\n",
    "    \"\"\"\n",
    "    return any(sector_name.startswith(prefix) for prefix in ALLOWED_PREFIXES)"
   ],
   "outputs": [],
   "execution_count": null
  },
  {
   "cell_type": "code",
   "id": "4c45de9a-f56a-4435-9e9f-c589e606972a",
   "metadata": {},
   "source": [
    "# 按前缀分类计数器\n",
    "prefix_counts = {prefix: 0 for prefix in ALLOWED_PREFIXES}\n",
    "\n",
    "# 打印符合前缀的板块列表\n",
    "allow_sector_list = []\n",
    "for sector_name in sector_list:\n",
    "    if should_include_sector(sector_name):\n",
    "        allow_sector_list.append(sector_name)\n",
    "print(f'符合前缀的板块个数：{len(allow_sector_list)}\\n列表：{allow_sector_list}')"
   ],
   "outputs": [],
   "execution_count": null
  },
  {
   "cell_type": "code",
   "id": "043826ae-35ee-4bc0-99e8-0220a2eed2f3",
   "metadata": {},
   "source": [
    "\n",
    "# 遍历板块列表，统计每个前缀对应成分股的数量\n",
    "for sector_name in sector_list:\n",
    "    if should_include_sector(sector_name):\n",
    "        # 获取该板块的成分股数量\n",
    "        stock_list = xtdata.get_stock_list_in_sector(sector_name)\n",
    "        stock_count = len(stock_list)\n",
    "        # 更新计数器\n",
    "        for prefix in ALLOWED_PREFIXES:\n",
    "            if sector_name.startswith(prefix):\n",
    "                prefix_counts[prefix] += stock_count\n",
    "                break  # 找到匹配的前缀后跳出循环\n",
    "\n",
    "# 打印每个前缀对应的成分股数量\n",
    "for prefix, count in prefix_counts.items():\n",
    "    print(f\"{prefix}: {count} 成分股\")\n"
   ],
   "outputs": [],
   "execution_count": null
  },
  {
   "cell_type": "code",
   "id": "a8f5ebd1-b571-4fc5-8888-b7bcc17dd391",
   "metadata": {},
   "source": [
    "# 打印总成分股数量\n",
    "total_count = sum(prefix_counts.values())\n",
    "print(f\"总成分股数量: {total_count}\")"
   ],
   "outputs": [],
   "execution_count": null
  }
 ],
 "metadata": {
  "kernelspec": {
   "display_name": "smartone_quant",
   "language": "python",
   "name": "smartone_quant"
  },
  "language_info": {
   "codemirror_mode": {
    "name": "ipython",
    "version": 3
   },
   "file_extension": ".py",
   "mimetype": "text/x-python",
   "name": "python",
   "nbconvert_exporter": "python",
   "pygments_lexer": "ipython3",
   "version": "3.12.10"
  }
 },
 "nbformat": 4,
 "nbformat_minor": 5
}
