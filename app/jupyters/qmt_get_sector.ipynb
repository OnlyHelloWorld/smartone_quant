{
 "cells": [
  {
   "cell_type": "code",
   "id": "b459debf-e183-4dfa-bf1d-769642b60a74",
   "metadata": {},
   "source": [
    "from typing import List\n",
    "\n",
    "from xtquant import xtdata"
   ],
   "outputs": [],
   "execution_count": null
  },
  {
   "cell_type": "code",
   "id": "e527cb52-937c-46af-9f65-2c6728455565",
   "metadata": {},
   "source": [
    "sectorList: List = xtdata.get_sector_list()\n",
    "print(f'获取板块列表数据{len(sectorList)}成功：{sectorList}')"
   ],
   "outputs": [],
   "execution_count": null
  },
  {
   "cell_type": "code",
   "id": "e9fe8e6b-81a5-447e-a015-f4d66dfc2672",
   "metadata": {},
   "source": [
    "sector_name: str = '沪深A股'\n",
    "stock_list_in_sector:List = xtdata.get_stock_list_in_sector(sector_name)\n",
    "print(f'获取板块成分股列表{len(stock_list_in_sector)}成功：{stock_list_in_sector}')"
   ],
   "outputs": [],
   "execution_count": null
  },
  {
   "cell_type": "code",
   "id": "4c45de9a-f56a-4435-9e9f-c589e606972a",
   "metadata": {},
   "source": [
    "xtdata.download_sector_data()"
   ],
   "outputs": [],
   "execution_count": null
  },
  {
   "cell_type": "code",
   "id": "043826ae-35ee-4bc0-99e8-0220a2eed2f3",
   "metadata": {},
   "source": [
    "sector_list:List = xtdata.get_sector_list()\n",
    "print(f'获取板块列表数据成功：{sector_list}')"
   ],
   "outputs": [],
   "execution_count": null
  },
  {
   "cell_type": "code",
   "id": "a8f5ebd1-b571-4fc5-8888-b7bcc17dd391",
   "metadata": {},
   "source": [],
   "outputs": [],
   "execution_count": null
  }
 ],
 "metadata": {
  "kernelspec": {
   "display_name": "Python 3 (ipykernel)",
   "language": "python",
   "name": "python3"
  },
  "language_info": {
   "codemirror_mode": {
    "name": "ipython",
    "version": 3
   },
   "file_extension": ".py",
   "mimetype": "text/x-python",
   "name": "python",
   "nbconvert_exporter": "python",
   "pygments_lexer": "ipython3",
   "version": "3.12.10"
  }
 },
 "nbformat": 4,
 "nbformat_minor": 5
}
